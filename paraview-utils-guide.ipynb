{
 "cells": [
  {
   "cell_type": "code",
   "execution_count": null,
   "metadata": {},
   "outputs": [],
   "source": [
    "# import jax\n",
    "# import jax.numpy as jnp\n",
    "\n",
    "# jax.config.update(\"jax_compilation_cache_dir\", \"../jax-caches\")\n",
    "# jax.config.update(\"jax_persistent_cache_min_entry_size_bytes\", -1)\n",
    "# jax.config.update(\"jax_persistent_cache_min_compile_time_secs\", 0)"
   ]
  },
  {
   "cell_type": "code",
   "execution_count": null,
   "metadata": {},
   "outputs": [],
   "source": [
    "import sys\n",
    "import os\n",
    "\n",
    "sys.path.insert(0, os.path.abspath(\".\"))\n",
    "sys.path.append(os.path.abspath(\"../\"))"
   ]
  },
  {
   "cell_type": "code",
   "execution_count": null,
   "metadata": {},
   "outputs": [],
   "source": [
    "from desc import set_device\n",
    "\n",
    "set_device(\"gpu\")"
   ]
  },
  {
   "cell_type": "code",
   "execution_count": null,
   "metadata": {},
   "outputs": [],
   "source": [
    "import numpy as np\n",
    "np.set_printoptions(linewidth=np.inf, precision=4, suppress=True, threshold=sys.maxsize)\n",
    "import matplotlib.pyplot as plt\n",
    "%matplotlib inline\n",
    "import plotly.graph_objects as go\n",
    "import functools\n",
    "import scipy"
   ]
  },
  {
   "cell_type": "code",
   "execution_count": null,
   "metadata": {},
   "outputs": [],
   "source": [
    "import desc\n",
    "\n",
    "from desc.basis import *\n",
    "from desc.backend import *\n",
    "from desc.compute import *\n",
    "from desc.coils import *\n",
    "from desc.equilibrium import *\n",
    "from desc.examples import *\n",
    "from desc.grid import *\n",
    "from desc.geometry import *\n",
    "\n",
    "from desc.objectives import *\n",
    "from desc.objectives.objective_funs import *\n",
    "from desc.objectives.getters import *\n",
    "from desc.objectives.normalization import compute_scaling_factors\n",
    "from desc.objectives.utils import *\n",
    "from desc.optimize._constraint_wrappers import *\n",
    "\n",
    "from desc.transform import Transform\n",
    "from desc.plotting import *\n",
    "from desc.optimize import *\n",
    "from desc.perturbations import *\n",
    "from desc.profiles import *\n",
    "from desc.compat import *\n",
    "from desc.utils import *\n",
    "from desc.magnetic_fields import *\n",
    "\n",
    "from desc.__main__ import main\n",
    "from desc.vmec_utils import vmec_boundary_subspace\n",
    "from desc.input_reader import InputReader\n",
    "from desc.continuation import solve_continuation_automatic\n",
    "\n",
    "print_backend_info()"
   ]
  },
  {
   "cell_type": "markdown",
   "metadata": {},
   "source": [
    "You need `pyvista` for it to run."
   ]
  },
  {
   "cell_type": "code",
   "execution_count": null,
   "metadata": {},
   "outputs": [],
   "source": [
    "import pyvista as pv\n",
    "from pyvista import CellType"
   ]
  },
  {
   "cell_type": "code",
   "execution_count": null,
   "metadata": {},
   "outputs": [],
   "source": [
    "def export_coil_to_paraview(x, y, z, current, filename=\"coil.vtp\"):\n",
    "    # Stack coordinates into shape (N, 3)\n",
    "    points = np.column_stack((x, y, z))\n",
    "    n_points = len(points)\n",
    "\n",
    "    # Define connectivity: a single line through all points\n",
    "    # The format is: [n_points, p0, p1, p2, ..., pN]\n",
    "    # For a polyline with N segments, there are N+1 points\n",
    "    lines = np.hstack(([n_points], np.arange(n_points)))\n",
    "\n",
    "    # Create PolyData object\n",
    "    poly = pv.PolyData()\n",
    "    poly.points = points\n",
    "    poly.lines = lines\n",
    "\n",
    "    # Add current as a scalar field\n",
    "    current_array = np.full(n_points, current)\n",
    "    poly[\"current\"] = current_array\n",
    "\n",
    "    # Save to VTP\n",
    "    poly.save(filename)"
   ]
  },
  {
   "cell_type": "code",
   "execution_count": null,
   "metadata": {},
   "outputs": [],
   "source": [
    "# this one is only useful for creating arrows at the grid positions\n",
    "def export_field_to_paraview(nodes, B, filename=\"magnetic_field.vtu\"):\n",
    "    \"\"\"\n",
    "    Export magnetic field data to ParaView using an unstructured grid.\n",
    "\n",
    "    Parameters\n",
    "    ----------\n",
    "    nodes : ndarray, shape (N, 3)\n",
    "        Grid node positions.\n",
    "    B : ndarray, shape (N, 3)\n",
    "        Magnetic field vectors at each node.\n",
    "    filename : str\n",
    "        Output filename (.vtu).\n",
    "    \"\"\"\n",
    "    # Create PyVista point cloud\n",
    "    point_cloud = pv.PolyData(nodes)\n",
    "\n",
    "    # Attach vector field\n",
    "    point_cloud[\"B\"] = B\n",
    "\n",
    "    # Save as a .vtu file\n",
    "    point_cloud.save(filename)"
   ]
  },
  {
   "cell_type": "code",
   "execution_count": null,
   "metadata": {},
   "outputs": [],
   "source": [
    "def export_surface_to_vtu(nodes, data, grid_shape=None, filename=\"surface.vtu\"):\n",
    "    Nt, Np = grid_shape\n",
    "    assert nodes.shape == (Nt * Np, 3), \"Shape mismatch between nodes and grid_shape\"\n",
    "\n",
    "    points = nodes  # Already in (N, 3)\n",
    "\n",
    "    # Build connectivity: each quad is made of 4 points\n",
    "    cells = []\n",
    "    celltypes = []\n",
    "\n",
    "    for i in range(Nt):\n",
    "        for j in range(Np):\n",
    "            # Current point index\n",
    "            p0 = i * Np + j\n",
    "            # Neighbor indices (with wrap-around)\n",
    "            p1 = i * Np + (j + 1) % Np\n",
    "            p2 = ((i + 1) % Nt) * Np + (j + 1) % Np\n",
    "            p3 = ((i + 1) % Nt) * Np + j\n",
    "\n",
    "            # Append one quad: format = [4, pt0, pt1, pt2, pt3]\n",
    "            cells.extend([4, p0, p1, p2, p3])\n",
    "            celltypes.append(CellType.QUAD)\n",
    "\n",
    "    # Convert to numpy arrays\n",
    "    cells = np.array(cells)\n",
    "    celltypes = np.array(celltypes, dtype=np.uint8)\n",
    "\n",
    "    # Create the unstructured grid\n",
    "    grid = pv.UnstructuredGrid(cells, celltypes, points)\n",
    "\n",
    "    # Optionally add data\n",
    "    for name, values in data.items():\n",
    "        if len(values) == len(points):\n",
    "            grid[name] = values\n",
    "        else:\n",
    "            raise ValueError(f\"Length of {name} does not match number of points.\")\n",
    "\n",
    "    grid.save(filename)"
   ]
  },
  {
   "cell_type": "markdown",
   "metadata": {},
   "source": [
    "# Exporting Surface"
   ]
  },
  {
   "cell_type": "code",
   "execution_count": null,
   "metadata": {},
   "outputs": [],
   "source": [
    "eq = get(\"precise_QA\")\n",
    "\n",
    "# Example shape\n",
    "Nr = 20  # radial resolution\n",
    "Nt = 100  # toroidal resolution\n",
    "Np = 100  # poloidal resolution\n",
    "\n",
    "# If surface is not closed the function will work well\n",
    "# but you can cut it in Paraview using `clip` filter\n",
    "grid = LinearGrid(rho=np.linspace(0.2, 1, Nr), theta=Np, zeta=Nt, NFP=1)\n",
    "dataB = eq.compute([\"B\", \"X\", \"Y\", \"Z\", \"|F|\"], grid=grid)\n",
    "B = dataB[\"B\"]\n",
    "X = dataB[\"X\"]\n",
    "Y = dataB[\"Y\"]\n",
    "Z = dataB[\"Z\"]\n",
    "F = dataB[\"|F|\"]\n",
    "nodes = np.column_stack((X.flatten(), Y.flatten(), Z.flatten()))\n",
    "data = {\"B\": B, \"|F|\": F} # Can add more data here, the length has to be same as nodes\n",
    "export_surface_to_vtu(nodes, data, grid_shape=(Nt, Np), filename=\"toroidal_surface.vtu\")"
   ]
  },
  {
   "cell_type": "markdown",
   "metadata": {},
   "source": [
    "# Exporting Coils"
   ]
  },
  {
   "cell_type": "code",
   "execution_count": null,
   "metadata": {},
   "outputs": [],
   "source": [
    "coils = initialize_helical_coils(eq, 3, 3)\n",
    "fig, data = plot_coils(coils, show=False)\n",
    "\n",
    "currents = np.abs(\n",
    "    np.concatenate(coils.current)\n",
    ")  # this may be different depending on the coil object\n",
    "\n",
    "for i, (X, Y, Z) in enumerate(zip(data[\"X\"], data[\"Y\"], data[\"Z\"])):\n",
    "    print(f\"coil {i}\")\n",
    "    current = currents[i] # or whatever the current is\n",
    "    export_coil_to_paraview(X, Y, Z, current, filename=f\"coil{i}.vtp\")"
   ]
  },
  {
   "cell_type": "markdown",
   "metadata": {},
   "source": [
    "# In Paraview\n",
    "\n",
    "You need to open the created files, then click `Apply`. You can import multiple, like coils and surface.\n",
    "\n",
    "For coils, probably easiest way is to select them all in the menu, make them a `Group Dataset`, then add `Tube` filter to `Group Dataset`."
   ]
  }
 ],
 "metadata": {
  "kernelspec": {
   "display_name": "desc-env",
   "language": "python",
   "name": "python3"
  },
  "language_info": {
   "codemirror_mode": {
    "name": "ipython",
    "version": 3
   },
   "file_extension": ".py",
   "mimetype": "text/x-python",
   "name": "python",
   "nbconvert_exporter": "python",
   "pygments_lexer": "ipython3",
   "version": "3.12.9"
  }
 },
 "nbformat": 4,
 "nbformat_minor": 2
}
