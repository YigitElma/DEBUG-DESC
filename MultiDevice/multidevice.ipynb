{
 "cells": [
  {
   "cell_type": "code",
   "execution_count": 1,
   "metadata": {},
   "outputs": [],
   "source": [
    "import jax\n",
    "import jax.numpy as jnp\n",
    "\n",
    "jax.config.update(\"jax_compilation_cache_dir\", \"../../jax-caches\")\n",
    "jax.config.update(\"jax_persistent_cache_min_entry_size_bytes\", -1)\n",
    "jax.config.update(\"jax_persistent_cache_min_compile_time_secs\", 0)"
   ]
  },
  {
   "cell_type": "code",
   "execution_count": 2,
   "metadata": {},
   "outputs": [],
   "source": [
    "import sys\n",
    "import os\n",
    "\n",
    "sys.path.insert(0, os.path.abspath(\".\"))\n",
    "sys.path.append(os.path.abspath(\"../../\"))"
   ]
  },
  {
   "cell_type": "code",
   "execution_count": 3,
   "metadata": {},
   "outputs": [],
   "source": [
    "import numpy as np\n",
    "np.set_printoptions(linewidth=np.inf, precision=4, suppress=True, threshold=sys.maxsize)\n",
    "import matplotlib.pyplot as plt\n",
    "%matplotlib inline\n",
    "import plotly.graph_objects as go\n",
    "import functools\n",
    "import scipy"
   ]
  },
  {
   "cell_type": "code",
   "execution_count": 4,
   "metadata": {},
   "outputs": [
    {
     "name": "stdout",
     "output_type": "stream",
     "text": [
      "DESC version 0.13.0+1106.g528c17c1d.dirty,using JAX backend, jax version=0.4.37, jaxlib version=0.4.36, dtype=float64\n",
      "Using device: CPU, with 11.44 GB available memory\n"
     ]
    }
   ],
   "source": [
    "import desc\n",
    "\n",
    "from desc.basis import *\n",
    "from desc.backend import *\n",
    "from desc.compute import *\n",
    "from desc.coils import *\n",
    "from desc.equilibrium import *\n",
    "from desc.examples import *\n",
    "from desc.grid import *\n",
    "from desc.geometry import *\n",
    "\n",
    "from desc.objectives import *\n",
    "from desc.objectives.objective_funs import *\n",
    "from desc.objectives.getters import *\n",
    "from desc.objectives.normalization import compute_scaling_factors\n",
    "from desc.objectives.utils import *\n",
    "from desc.optimize._constraint_wrappers import *\n",
    "\n",
    "from desc.transform import Transform\n",
    "from desc.plotting import *\n",
    "from desc.optimize import *\n",
    "from desc.perturbations import *\n",
    "from desc.profiles import *\n",
    "from desc.compat import *\n",
    "from desc.utils import *\n",
    "\n",
    "from desc.__main__ import main\n",
    "from desc.vmec_utils import vmec_boundary_subspace\n",
    "from desc.input_reader import InputReader\n",
    "from desc.continuation import solve_continuation_automatic"
   ]
  },
  {
   "cell_type": "code",
   "execution_count": null,
   "metadata": {},
   "outputs": [],
   "source": [
    "def create_parallel_force_obj(eq, num_device):\n",
    "    rhos = jnp.linspace(0.01, 1.0, num_device)\n",
    "    objs = ()\n",
    "    for i in range(num_device):\n",
    "        obj = ForceBalance(\n",
    "            eq,\n",
    "            grid=LinearGrid(\n",
    "                rho=rhos[i], M=int(eq.M_grid * i / len(rhos)), N=eq.N_grid, NFP=eq.NFP\n",
    "            ),\n",
    "        )\n",
    "        objs += (obj,)\n",
    "    return objs"
   ]
  },
  {
   "cell_type": "code",
   "execution_count": 6,
   "metadata": {},
   "outputs": [],
   "source": [
    "eq = get(\"HELIOTRON\")\n",
    "objs = create_parallel_force_obj(eq, 10)\n",
    "obj = ObjectiveFunction(objs)\n",
    "cons = get_fixed_boundary_constraints(eq)"
   ]
  },
  {
   "cell_type": "code",
   "execution_count": null,
   "metadata": {},
   "outputs": [],
   "source": [
    "eq.solve(maxiter=2, objective=obj, constraints=cons, ftol=0, gtol=0, xtol=0, verbose=3)"
   ]
  },
  {
   "cell_type": "code",
   "execution_count": null,
   "metadata": {},
   "outputs": [],
   "source": [
    "rhos = jnp.linspace(0.01, 1.0, 10)\n",
    "for i in range(len(rhos)):\n",
    "    grid = LinearGrid(\n",
    "        rho=rhos[i], M=int(eq.M_grid * i / len(rhos)), N=eq.N_grid, NFP=eq.NFP\n",
    "    )\n",
    "    plot_grid(grid)"
   ]
  },
  {
   "cell_type": "code",
   "execution_count": 7,
   "metadata": {},
   "outputs": [],
   "source": [
    "eq = get(\"HELIOTRON\")\n",
    "objs = get_parallel_forcebalance(eq, 10, check_device=False)"
   ]
  },
  {
   "cell_type": "code",
   "execution_count": 8,
   "metadata": {},
   "outputs": [
    {
     "name": "stdout",
     "output_type": "stream",
     "text": [
      "Building objective: force\n",
      "Precomputing transforms\n",
      "Building objective: force\n",
      "Precomputing transforms\n",
      "Building objective: force\n",
      "Precomputing transforms\n",
      "Building objective: force\n",
      "Precomputing transforms\n",
      "Building objective: force\n",
      "Precomputing transforms\n",
      "Building objective: force\n",
      "Precomputing transforms\n",
      "Building objective: force\n",
      "Precomputing transforms\n",
      "Building objective: force\n",
      "Precomputing transforms\n",
      "Building objective: force\n",
      "Precomputing transforms\n",
      "Building objective: force\n",
      "Precomputing transforms\n",
      "21.5 s ± 475 ms per loop (mean ± std. dev. of 7 runs, 1 loop each)\n"
     ]
    }
   ],
   "source": [
    "obj = ObjectiveFunction(objs)\n",
    "obj.build()\n",
    "%timeit obj.jac_scaled_error(obj.x(eq))"
   ]
  },
  {
   "cell_type": "code",
   "execution_count": 11,
   "metadata": {},
   "outputs": [
    {
     "data": {
      "text/plain": [
       "(17056, 1977)"
      ]
     },
     "execution_count": 11,
     "metadata": {},
     "output_type": "execute_result"
    }
   ],
   "source": [
    "J = obj.jac_scaled_error(obj.x(eq))\n",
    "J.shape"
   ]
  },
  {
   "cell_type": "code",
   "execution_count": 9,
   "metadata": {},
   "outputs": [
    {
     "name": "stdout",
     "output_type": "stream",
     "text": [
      "Building objective: force\n",
      "Precomputing transforms\n",
      "47.7 s ± 1.89 s per loop (mean ± std. dev. of 7 runs, 1 loop each)\n"
     ]
    }
   ],
   "source": [
    "eq = get(\"HELIOTRON\")\n",
    "grid = LinearGrid(L=eq.L_grid, M=eq.M_grid, N=eq.N_grid, NFP=eq.NFP)\n",
    "obji = ObjectiveFunction(ForceBalance(eq, grid=grid))\n",
    "obji.build()\n",
    "%timeit obji.jac_scaled_error(obji.x(eq))"
   ]
  },
  {
   "cell_type": "code",
   "execution_count": 10,
   "metadata": {},
   "outputs": [
    {
     "data": {
      "text/plain": [
       "(35594, 1977)"
      ]
     },
     "execution_count": 10,
     "metadata": {},
     "output_type": "execute_result"
    }
   ],
   "source": [
    "J = obji.jac_scaled_error(obji.x(eq))\n",
    "J.shape"
   ]
  }
 ],
 "metadata": {
  "kernelspec": {
   "display_name": "Python 3 (ipykernel)",
   "language": "python",
   "name": "python3"
  },
  "language_info": {
   "codemirror_mode": {
    "name": "ipython",
    "version": 3
   },
   "file_extension": ".py",
   "mimetype": "text/x-python",
   "name": "python",
   "nbconvert_exporter": "python",
   "pygments_lexer": "ipython3",
   "version": "3.11.6"
  }
 },
 "nbformat": 4,
 "nbformat_minor": 4
}
