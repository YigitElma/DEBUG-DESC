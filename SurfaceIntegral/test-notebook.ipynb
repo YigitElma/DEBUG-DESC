{
 "cells": [
  {
   "cell_type": "code",
   "execution_count": 2,
   "metadata": {},
   "outputs": [],
   "source": [
    "import sys\n",
    "import os\n",
    "\n",
    "sys.path.insert(0, os.path.abspath(\".\"))\n",
    "sys.path.append(os.path.abspath(\"../\"))\n",
    "\n",
    "import numpy as np\n",
    "%matplotlib inline\n",
    "import matplotlib.pyplot as plt\n",
    "from scipy.constants import mu_0\n",
    "import plotly.graph_objects as go\n",
    "import warnings\n",
    "\n",
    "import desc\n",
    "from desc.transform import Transform\n",
    "from desc.equilibrium import EquilibriaFamily, Equilibrium\n",
    "from desc.plotting import plot_1d,plot_2d,plot_3d,plot_comparison, plot_section, plot_fsa, plot_surfaces, plot_grid\n",
    "from desc.optimize import Optimizer\n",
    "from desc.examples import get\n",
    "from desc.objectives.getters import get_fixed_boundary_constraints, maybe_add_self_consistency\n",
    "from desc.grid import LinearGrid, QuadratureGrid, Grid\n",
    "from desc.profiles import PowerSeriesProfile\n",
    "\n",
    "from desc.backend import jnp\n",
    "from desc.compute import get_params, get_profiles, get_transforms\n",
    "from desc.compute.utils import _compute as compute_fun\n",
    "from desc.nestor import Nestor\n",
    "from desc.objectives.objective_funs import _Objective\n",
    "from desc.singularities import (\n",
    "    DFTInterpolator,\n",
    "    FFTInterpolator,\n",
    "    virtual_casing_biot_savart,\n",
    "    _nonsingular_part,\n",
    "    _singular_part,\n",
    "    kernels,\n",
    ")\n",
    "from desc.utils import Timer, errorif, warnif\n",
    "\n",
    "from desc.objectives.normalization import compute_scaling_factors\n",
    "from desc.coils import MixedCoilSet"
   ]
  },
  {
   "cell_type": "code",
   "execution_count": 3,
   "metadata": {},
   "outputs": [],
   "source": [
    "coils = MixedCoilSet.from_makegrid_coilfile(\"Giuliani.is.free.0403.3.00050.coils\")"
   ]
  }
 ],
 "metadata": {
  "kernelspec": {
   "display_name": "desc-env",
   "language": "python",
   "name": "python3"
  },
  "language_info": {
   "codemirror_mode": {
    "name": "ipython",
    "version": 3
   },
   "file_extension": ".py",
   "mimetype": "text/x-python",
   "name": "python",
   "nbconvert_exporter": "python",
   "pygments_lexer": "ipython3",
   "version": "3.12.0"
  }
 },
 "nbformat": 4,
 "nbformat_minor": 2
}
