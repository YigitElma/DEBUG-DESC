{
 "cells": [
  {
   "cell_type": "code",
   "execution_count": 1,
   "metadata": {},
   "outputs": [
    {
     "name": "stderr",
     "output_type": "stream",
     "text": [
      "/home/yigit/Codes/DESC/desc/__init__.py:98: UserWarning: No GPU found, falling back to CPU\n",
      "  warnings.warn(colored(\"No GPU found, falling back to CPU\", \"yellow\"))\n"
     ]
    },
    {
     "name": "stdout",
     "output_type": "stream",
     "text": [
      "DESC version 0.12.1+7.g2ea24b4f1,using JAX backend, jax version=0.4.31, jaxlib version=0.4.31, dtype=float64\n",
      "Using device: CPU, with 6.93 GB available memory\n"
     ]
    }
   ],
   "source": [
    "import sys\n",
    "import os\n",
    "\n",
    "sys.path.insert(0, os.path.abspath(\".\"))\n",
    "sys.path.append(os.path.abspath(\"../\"))\n",
    "\n",
    "from desc import set_device\n",
    "set_device(\"gpu\")\n",
    "\n",
    "\n",
    "import numpy as np\n",
    "%matplotlib inline\n",
    "import matplotlib.pyplot as plt\n",
    "from scipy.constants import mu_0\n",
    "import plotly.graph_objects as go\n",
    "import warnings\n",
    "\n",
    "import desc\n",
    "from desc.transform import Transform\n",
    "from desc.equilibrium import EquilibriaFamily, Equilibrium\n",
    "from desc.plotting import *\n",
    "from desc.optimize import Optimizer\n",
    "from desc.examples import get\n",
    "from desc.objectives.getters import get_fixed_boundary_constraints, maybe_add_self_consistency\n",
    "from desc.grid import *\n",
    "from desc.profiles import *\n",
    "\n",
    "from desc.backend import jnp\n",
    "from desc.compute import get_params, get_profiles, get_transforms\n",
    "from desc.compute.utils import _compute as compute_fun\n",
    "from desc.nestor import Nestor\n",
    "from desc.objectives.objective_funs import _Objective\n",
    "from desc.singularities import (\n",
    "    DFTInterpolator,\n",
    "    FFTInterpolator,\n",
    "    virtual_casing_biot_savart,\n",
    "    _nonsingular_part,\n",
    "    _singular_part,\n",
    "    kernels,\n",
    ")\n",
    "from desc.utils import Timer, errorif, warnif\n",
    "\n",
    "from desc.objectives.normalization import compute_scaling_factors\n",
    "from desc.coils import MixedCoilSet\n",
    "from desc.magnetic_fields import *\n",
    "from desc.magnetic_fields._core import B_from_surface_integral\n",
    "import time"
   ]
  },
  {
   "cell_type": "code",
   "execution_count": 2,
   "metadata": {},
   "outputs": [],
   "source": [
    "coils = MixedCoilSet.from_makegrid_coilfile(\"Giuliani.is.free.0403.3.00050.coils\")"
   ]
  },
  {
   "cell_type": "code",
   "execution_count": 3,
   "metadata": {},
   "outputs": [],
   "source": [
    "eq = get(\"ARIES-CS\")    \n",
    "\n",
    "grid_source = LinearGrid(rho=1, M=100, N=100, NFP=int(eq.NFP))\n",
    "\n",
    "keys = [\n",
    "    \"K_vc\",\n",
    "    \"|e_theta x e_zeta|\",\n",
    "    \"R\",\n",
    "    \"phi\",\n",
    "    \"Z\",\n",
    "    \"e^rho\",\n",
    "    \"e^theta\",\n",
    "]\n",
    "data_source = eq.compute(keys, grid=grid_source)\n",
    "\n",
    "R = np.linspace(min(data_source[\"R\"]), max(data_source[\"R\"]), 120) # 140\n",
    "Z = np.linspace(min(data_source[\"Z\"]), max(data_source[\"Z\"]), 120) # 140\n",
    "phi = np.linspace(0, 2 * np.pi / 2, 120) # 120\n",
    "\n",
    "rs = jnp.vstack((data_source[\"R\"], data_source[\"phi\"], data_source[\"Z\"])).T\n",
    "dA = grid_source.weights * data_source[\"|e_theta x e_zeta|\"] / grid_source.NFP\n",
    "K = data_source[\"K_vc\"]\n",
    "\n",
    "def custom_b(coords, params=None, basis=\"rpz\", source_grid=None, transforms=None):\n",
    "    return B_from_surface_integral(coords, rs, K, NFP=eq.NFP, dA=dA)\n",
    "\n",
    "Bfield = ToroidalMagneticField(1,1)\n",
    "Bfield.compute_magnetic_field = custom_b\n"
   ]
  },
  {
   "cell_type": "code",
   "execution_count": 4,
   "metadata": {},
   "outputs": [],
   "source": [
    "nturns = 100  # how many turns\n",
    "nplanes = 6  # how many places within 1 field period do we want output\n",
    "\n",
    "rho=0.52\n",
    "# for starting locations we'll pick positions on flux surfaces on the outboard midplane\n",
    "# grid = LinearGrid(rho=np.linspace(0.52,0.6,15))\n",
    "# grid = LinearGrid(rho=np.array([0.52,0.56]), theta=np.pi)\n",
    "grid = LinearGrid(rho=np.array([0.56]), theta=np.pi)\n",
    "\n",
    "r0 = eq.compute(\"R\", grid=grid)[\"R\"]\n",
    "z0 = eq.compute(\"Z\", grid=grid)[\"Z\"]\n",
    "phis = (\n",
    "    np.linspace(0, 2 * np.pi / eq.NFP, nplanes, endpoint=False)\n",
    "    + np.arange(0, nturns)[:, None] * 2 * np.pi / eq.NFP\n",
    ").flatten()"
   ]
  },
  {
   "cell_type": "code",
   "execution_count": 5,
   "metadata": {},
   "outputs": [],
   "source": [
    "import time\n",
    "t0=time.time()\n",
    "\n",
    "rs, zs = field_line_integrate(r0, z0, phis, Bfield)\n",
    "print(f\"took {time.time()-t0} seconds\")"
   ]
  },
  {
   "cell_type": "code",
   "execution_count": null,
   "metadata": {},
   "outputs": [],
   "source": [
    "plot_surfaces(eq);"
   ]
  },
  {
   "cell_type": "code",
   "execution_count": null,
   "metadata": {},
   "outputs": [],
   "source": [
    "zs = zs.reshape((nturns, nplanes, -1))\n",
    "rs = rs.reshape((nturns, nplanes, -1))\n",
    "\n",
    "fig, ax = plot_surfaces(eq,figsize=(20,20))\n",
    "ax = ax.flatten()\n",
    "# for i in range(nplanes):\n",
    "i=0\n",
    "ax[i].scatter(rs[:, i, :], zs[:, i, :], s=5)\n",
    "for i,j in zip([5,4,3,2,1],[1,2,3,4,5]):\n",
    "    ax[i].scatter(rs[:, j, :], zs[:, j, :], s=5)"
   ]
  }
 ],
 "metadata": {
  "kernelspec": {
   "display_name": "desc-env",
   "language": "python",
   "name": "python3"
  },
  "language_info": {
   "codemirror_mode": {
    "name": "ipython",
    "version": 3
   },
   "file_extension": ".py",
   "mimetype": "text/x-python",
   "name": "python",
   "nbconvert_exporter": "python",
   "pygments_lexer": "ipython3",
   "version": "3.12.0"
  }
 },
 "nbformat": 4,
 "nbformat_minor": 2
}
