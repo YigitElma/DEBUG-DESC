{
 "cells": [
  {
   "cell_type": "code",
   "execution_count": 1,
   "metadata": {},
   "outputs": [],
   "source": [
    "import sys\n",
    "import os\n",
    "\n",
    "sys.path.insert(0, os.path.abspath(\".\"))\n",
    "sys.path.append(os.path.abspath(\"../../\"))\n",
    "\n",
    "# from desc import set_device\n",
    "# set_device(\"cpu\")"
   ]
  },
  {
   "cell_type": "code",
   "execution_count": 2,
   "metadata": {},
   "outputs": [
    {
     "name": "stderr",
     "output_type": "stream",
     "text": [
      "An NVIDIA GPU may be present on this machine, but a CUDA-enabled jaxlib is not installed. Falling back to cpu.\n"
     ]
    },
    {
     "name": "stdout",
     "output_type": "stream",
     "text": [
      "DESC version 0.11.1+573.gb130f95a5.dirty,using JAX backend, jax version=0.4.26, jaxlib version=0.4.26, dtype=float64\n",
      "Using device: CPU, with 11.51 GB available memory\n"
     ]
    }
   ],
   "source": [
    "import numpy as np\n",
    "%matplotlib inline\n",
    "import matplotlib.pyplot as plt\n",
    "from scipy.constants import mu_0\n",
    "import plotly.graph_objects as go\n",
    "import warnings\n",
    "\n",
    "from desc.backend import jnp\n",
    "from desc.transform import Transform\n",
    "from desc.plotting import plot_1d,plot_3d,plot_comparison, plot_surfaces, plot_grid\n",
    "from desc.optimize import Optimizer\n",
    "from desc.examples import get\n",
    "from desc.objectives import get_fixed_boundary_constraints, maybe_add_self_consistency\n",
    "from desc.grid import LinearGrid, QuadratureGrid, Grid\n",
    "\n",
    "from desc.compute.utils import _compute as compute_fun\n",
    "from desc.nestor import Nestor\n",
    "from desc.objectives.objective_funs import _Objective\n",
    "from desc.singularities import (\n",
    "    DFTInterpolator,\n",
    "    FFTInterpolator,\n",
    "    virtual_casing_biot_savart,\n",
    "    _nonsingular_part,\n",
    "    _singular_part,\n",
    "    kernels,\n",
    ")\n",
    "from desc.utils import Timer, errorif, warnif\n",
    "\n",
    "from desc.objectives import (\n",
    "    ObjectiveFunction, \n",
    "    BFieldErrorAtIslandSurface, \n",
    "    ForceBalance,\n",
    "    FixBoundaryR,\n",
    "    FixBoundaryZ,\n",
    "    )"
   ]
  },
  {
   "cell_type": "code",
   "execution_count": 3,
   "metadata": {},
   "outputs": [
    {
     "name": "stderr",
     "output_type": "stream",
     "text": [
      "/CODES/DESC/desc/optimize/optimizer.py:468: UserWarning: No nonlinear constraints detected, ignoring wrapper method proximal.\n",
      "  warnings.warn(\n"
     ]
    },
    {
     "name": "stdout",
     "output_type": "stream",
     "text": [
      "Building objective: |B| Error at the Island Surface\n",
      "Precomputing transforms\n",
      "Timer: Precomputing transforms = 610 ms\n",
      "Timer: Objective build = 2.87 sec\n",
      "Building objective: lcfs R\n",
      "Building objective: lcfs Z\n",
      "Building objective: self_consistency R\n",
      "Building objective: self_consistency Z\n",
      "Building objective: lambda gauge\n",
      "Building objective: axis R self consistency\n",
      "Building objective: axis Z self consistency\n",
      "Timer: Objective build = 686 ms\n",
      "Timer: Linear constraint projection build = 2.16 sec\n",
      "Number of parameters: 892\n",
      "Number of objectives: 1089\n",
      "Starting optimization\n",
      "Using method: proximal-lsq-exact\n",
      "(1089, 1089)\n"
     ]
    },
    {
     "ename": "IndexError",
     "evalue": "list index out of range",
     "output_type": "error",
     "traceback": [
      "\u001b[0;31m---------------------------------------------------------------------------\u001b[0m",
      "\u001b[0;31mIndexError\u001b[0m                                Traceback (most recent call last)",
      "Cell \u001b[0;32mIn[3], line 23\u001b[0m\n\u001b[1;32m     13\u001b[0m constraints \u001b[38;5;241m=\u001b[39m (\n\u001b[1;32m     14\u001b[0m     FixBoundaryR(eq\u001b[38;5;241m=\u001b[39meq, modes\u001b[38;5;241m=\u001b[39mR_modes),\n\u001b[1;32m     15\u001b[0m     FixBoundaryZ(eq\u001b[38;5;241m=\u001b[39meq, modes\u001b[38;5;241m=\u001b[39mZ_modes),\n\u001b[1;32m     16\u001b[0m     \u001b[38;5;66;03m# ForceBalance(eq=eq),\u001b[39;00m\n\u001b[1;32m     17\u001b[0m )\n\u001b[1;32m     18\u001b[0m objective \u001b[38;5;241m=\u001b[39m ObjectiveFunction(\n\u001b[1;32m     19\u001b[0m     (\n\u001b[1;32m     20\u001b[0m         BFieldErrorAtIslandSurface(eq\u001b[38;5;241m=\u001b[39meq, rho\u001b[38;5;241m=\u001b[39m\u001b[38;5;241m0.5\u001b[39m), \n\u001b[1;32m     21\u001b[0m     )\n\u001b[1;32m     22\u001b[0m )\n\u001b[0;32m---> 23\u001b[0m \u001b[43meq\u001b[49m\u001b[38;5;241;43m.\u001b[39;49m\u001b[43moptimize\u001b[49m\u001b[43m(\u001b[49m\n\u001b[1;32m     24\u001b[0m \u001b[43m    \u001b[49m\u001b[43moptimizer\u001b[49m\u001b[38;5;241;43m=\u001b[39;49m\u001b[43moptimizer\u001b[49m\u001b[43m,\u001b[49m\n\u001b[1;32m     25\u001b[0m \u001b[43m    \u001b[49m\u001b[43mconstraints\u001b[49m\u001b[38;5;241;43m=\u001b[39;49m\u001b[43mconstraints\u001b[49m\u001b[43m,\u001b[49m\n\u001b[1;32m     26\u001b[0m \u001b[43m    \u001b[49m\u001b[43mobjective\u001b[49m\u001b[38;5;241;43m=\u001b[39;49m\u001b[43mobjective\u001b[49m\u001b[43m,\u001b[49m\n\u001b[1;32m     27\u001b[0m \u001b[43m    \u001b[49m\u001b[43mverbose\u001b[49m\u001b[38;5;241;43m=\u001b[39;49m\u001b[38;5;241;43m3\u001b[39;49m\u001b[43m,\u001b[49m\n\u001b[1;32m     28\u001b[0m \u001b[43m    \u001b[49m\u001b[43mmaxiter\u001b[49m\u001b[38;5;241;43m=\u001b[39;49m\u001b[38;5;241;43m100\u001b[39;49m\u001b[43m,\u001b[49m\n\u001b[1;32m     29\u001b[0m \u001b[43m)\u001b[49m\n\u001b[1;32m     31\u001b[0m plot_comparison(eqs\u001b[38;5;241m=\u001b[39m[eq_org, eq], labels\u001b[38;5;241m=\u001b[39m[\u001b[38;5;124m\"\u001b[39m\u001b[38;5;124mOriginal\u001b[39m\u001b[38;5;124m\"\u001b[39m, \u001b[38;5;124m\"\u001b[39m\u001b[38;5;124mOptimized\u001b[39m\u001b[38;5;124m\"\u001b[39m]);\n\u001b[1;32m     32\u001b[0m plt\u001b[38;5;241m.\u001b[39msavefig(\u001b[38;5;124m\"\u001b[39m\u001b[38;5;124mtest-precise-QA.png\u001b[39m\u001b[38;5;124m\"\u001b[39m, dpi\u001b[38;5;241m=\u001b[39m\u001b[38;5;241m500\u001b[39m)\n",
      "File \u001b[0;32m/CODES/DESC/desc/equilibrium/equilibrium.py:1976\u001b[0m, in \u001b[0;36mEquilibrium.optimize\u001b[0;34m(self, objective, constraints, optimizer, ftol, xtol, gtol, ctol, maxiter, x_scale, options, verbose, copy)\u001b[0m\n\u001b[1;32m   1973\u001b[0m \u001b[38;5;28;01mif\u001b[39;00m \u001b[38;5;129;01mnot\u001b[39;00m \u001b[38;5;28misinstance\u001b[39m(constraints, (\u001b[38;5;28mlist\u001b[39m, \u001b[38;5;28mtuple\u001b[39m)):\n\u001b[1;32m   1974\u001b[0m     constraints \u001b[38;5;241m=\u001b[39m \u001b[38;5;28mtuple\u001b[39m([constraints])\n\u001b[0;32m-> 1976\u001b[0m things, result \u001b[38;5;241m=\u001b[39m \u001b[43moptimizer\u001b[49m\u001b[38;5;241;43m.\u001b[39;49m\u001b[43moptimize\u001b[49m\u001b[43m(\u001b[49m\n\u001b[1;32m   1977\u001b[0m \u001b[43m    \u001b[49m\u001b[38;5;28;43mself\u001b[39;49m\u001b[43m,\u001b[49m\n\u001b[1;32m   1978\u001b[0m \u001b[43m    \u001b[49m\u001b[43mobjective\u001b[49m\u001b[43m,\u001b[49m\n\u001b[1;32m   1979\u001b[0m \u001b[43m    \u001b[49m\u001b[43mconstraints\u001b[49m\u001b[43m,\u001b[49m\n\u001b[1;32m   1980\u001b[0m \u001b[43m    \u001b[49m\u001b[43mftol\u001b[49m\u001b[38;5;241;43m=\u001b[39;49m\u001b[43mftol\u001b[49m\u001b[43m,\u001b[49m\n\u001b[1;32m   1981\u001b[0m \u001b[43m    \u001b[49m\u001b[43mxtol\u001b[49m\u001b[38;5;241;43m=\u001b[39;49m\u001b[43mxtol\u001b[49m\u001b[43m,\u001b[49m\n\u001b[1;32m   1982\u001b[0m \u001b[43m    \u001b[49m\u001b[43mgtol\u001b[49m\u001b[38;5;241;43m=\u001b[39;49m\u001b[43mgtol\u001b[49m\u001b[43m,\u001b[49m\n\u001b[1;32m   1983\u001b[0m \u001b[43m    \u001b[49m\u001b[43mctol\u001b[49m\u001b[38;5;241;43m=\u001b[39;49m\u001b[43mctol\u001b[49m\u001b[43m,\u001b[49m\n\u001b[1;32m   1984\u001b[0m \u001b[43m    \u001b[49m\u001b[43mx_scale\u001b[49m\u001b[38;5;241;43m=\u001b[39;49m\u001b[43mx_scale\u001b[49m\u001b[43m,\u001b[49m\n\u001b[1;32m   1985\u001b[0m \u001b[43m    \u001b[49m\u001b[43mverbose\u001b[49m\u001b[38;5;241;43m=\u001b[39;49m\u001b[43mverbose\u001b[49m\u001b[43m,\u001b[49m\n\u001b[1;32m   1986\u001b[0m \u001b[43m    \u001b[49m\u001b[43mmaxiter\u001b[49m\u001b[38;5;241;43m=\u001b[39;49m\u001b[43mmaxiter\u001b[49m\u001b[43m,\u001b[49m\n\u001b[1;32m   1987\u001b[0m \u001b[43m    \u001b[49m\u001b[43moptions\u001b[49m\u001b[38;5;241;43m=\u001b[39;49m\u001b[43moptions\u001b[49m\u001b[43m,\u001b[49m\n\u001b[1;32m   1988\u001b[0m \u001b[43m    \u001b[49m\u001b[43mcopy\u001b[49m\u001b[38;5;241;43m=\u001b[39;49m\u001b[43mcopy\u001b[49m\u001b[43m,\u001b[49m\n\u001b[1;32m   1989\u001b[0m \u001b[43m\u001b[49m\u001b[43m)\u001b[49m\n\u001b[1;32m   1991\u001b[0m \u001b[38;5;28;01mreturn\u001b[39;00m things[\u001b[38;5;241m0\u001b[39m], result\n",
      "File \u001b[0;32m/CODES/DESC/desc/optimize/optimizer.py:305\u001b[0m, in \u001b[0;36mOptimizer.optimize\u001b[0;34m(self, things, objective, constraints, ftol, xtol, gtol, ctol, x_scale, verbose, maxiter, options, copy)\u001b[0m\n\u001b[1;32m    301\u001b[0m     \u001b[38;5;28mprint\u001b[39m(\u001b[38;5;124m\"\u001b[39m\u001b[38;5;124mUsing method: \u001b[39m\u001b[38;5;124m\"\u001b[39m \u001b[38;5;241m+\u001b[39m \u001b[38;5;28mstr\u001b[39m(\u001b[38;5;28mself\u001b[39m\u001b[38;5;241m.\u001b[39mmethod))\n\u001b[1;32m    303\u001b[0m timer\u001b[38;5;241m.\u001b[39mstart(\u001b[38;5;124m\"\u001b[39m\u001b[38;5;124mSolution time\u001b[39m\u001b[38;5;124m\"\u001b[39m)\n\u001b[0;32m--> 305\u001b[0m result \u001b[38;5;241m=\u001b[39m \u001b[43moptimizers\u001b[49m\u001b[43m[\u001b[49m\u001b[43mmethod\u001b[49m\u001b[43m]\u001b[49m\u001b[43m[\u001b[49m\u001b[38;5;124;43m\"\u001b[39;49m\u001b[38;5;124;43mfun\u001b[39;49m\u001b[38;5;124;43m\"\u001b[39;49m\u001b[43m]\u001b[49m\u001b[43m(\u001b[49m\n\u001b[1;32m    306\u001b[0m \u001b[43m    \u001b[49m\u001b[43mobjective\u001b[49m\u001b[43m,\u001b[49m\n\u001b[1;32m    307\u001b[0m \u001b[43m    \u001b[49m\u001b[43mnonlinear_constraint\u001b[49m\u001b[43m,\u001b[49m\n\u001b[1;32m    308\u001b[0m \u001b[43m    \u001b[49m\u001b[43mx0\u001b[49m\u001b[43m,\u001b[49m\n\u001b[1;32m    309\u001b[0m \u001b[43m    \u001b[49m\u001b[43mmethod\u001b[49m\u001b[43m,\u001b[49m\n\u001b[1;32m    310\u001b[0m \u001b[43m    \u001b[49m\u001b[43mx_scale\u001b[49m\u001b[43m,\u001b[49m\n\u001b[1;32m    311\u001b[0m \u001b[43m    \u001b[49m\u001b[43mverbose\u001b[49m\u001b[43m,\u001b[49m\n\u001b[1;32m    312\u001b[0m \u001b[43m    \u001b[49m\u001b[43mstoptol\u001b[49m\u001b[43m,\u001b[49m\n\u001b[1;32m    313\u001b[0m \u001b[43m    \u001b[49m\u001b[43moptions\u001b[49m\u001b[43m,\u001b[49m\n\u001b[1;32m    314\u001b[0m \u001b[43m\u001b[49m\u001b[43m)\u001b[49m\n\u001b[1;32m    316\u001b[0m \u001b[38;5;28;01mif\u001b[39;00m \u001b[38;5;28misinstance\u001b[39m(objective, LinearConstraintProjection):\n\u001b[1;32m    317\u001b[0m     \u001b[38;5;66;03m# remove wrapper to get at underlying objective\u001b[39;00m\n\u001b[1;32m    318\u001b[0m     result[\u001b[38;5;124m\"\u001b[39m\u001b[38;5;124mallx\u001b[39m\u001b[38;5;124m\"\u001b[39m] \u001b[38;5;241m=\u001b[39m [objective\u001b[38;5;241m.\u001b[39mrecover(x) \u001b[38;5;28;01mfor\u001b[39;00m x \u001b[38;5;129;01min\u001b[39;00m result[\u001b[38;5;124m\"\u001b[39m\u001b[38;5;124mallx\u001b[39m\u001b[38;5;124m\"\u001b[39m]]\n",
      "File \u001b[0;32m/CODES/DESC/desc/optimize/_desc_wrappers.py:270\u001b[0m, in \u001b[0;36m_optimize_desc_least_squares\u001b[0;34m(objective, constraint, x0, method, x_scale, verbose, stoptol, options)\u001b[0m\n\u001b[1;32m    267\u001b[0m     options\u001b[38;5;241m.\u001b[39msetdefault(\u001b[38;5;124m\"\u001b[39m\u001b[38;5;124minitial_trust_ratio\u001b[39m\u001b[38;5;124m\"\u001b[39m, \u001b[38;5;241m0.1\u001b[39m)\n\u001b[1;32m    268\u001b[0m options[\u001b[38;5;124m\"\u001b[39m\u001b[38;5;124mmax_nfev\u001b[39m\u001b[38;5;124m\"\u001b[39m] \u001b[38;5;241m=\u001b[39m stoptol[\u001b[38;5;124m\"\u001b[39m\u001b[38;5;124mmax_nfev\u001b[39m\u001b[38;5;124m\"\u001b[39m]\n\u001b[0;32m--> 270\u001b[0m result \u001b[38;5;241m=\u001b[39m \u001b[43mlsqtr\u001b[49m\u001b[43m(\u001b[49m\n\u001b[1;32m    271\u001b[0m \u001b[43m    \u001b[49m\u001b[43mobjective\u001b[49m\u001b[38;5;241;43m.\u001b[39;49m\u001b[43mcompute_scaled_error\u001b[49m\u001b[43m,\u001b[49m\n\u001b[1;32m    272\u001b[0m \u001b[43m    \u001b[49m\u001b[43mx0\u001b[49m\u001b[38;5;241;43m=\u001b[39;49m\u001b[43mx0\u001b[49m\u001b[43m,\u001b[49m\n\u001b[1;32m    273\u001b[0m \u001b[43m    \u001b[49m\u001b[43mjac\u001b[49m\u001b[38;5;241;43m=\u001b[39;49m\u001b[43mobjective\u001b[49m\u001b[38;5;241;43m.\u001b[39;49m\u001b[43mjac_scaled_error\u001b[49m\u001b[43m,\u001b[49m\n\u001b[1;32m    274\u001b[0m \u001b[43m    \u001b[49m\u001b[43margs\u001b[49m\u001b[38;5;241;43m=\u001b[39;49m\u001b[43m(\u001b[49m\u001b[43mobjective\u001b[49m\u001b[38;5;241;43m.\u001b[39;49m\u001b[43mconstants\u001b[49m\u001b[43m,\u001b[49m\u001b[43m)\u001b[49m\u001b[43m,\u001b[49m\n\u001b[1;32m    275\u001b[0m \u001b[43m    \u001b[49m\u001b[43mx_scale\u001b[49m\u001b[38;5;241;43m=\u001b[39;49m\u001b[43mx_scale\u001b[49m\u001b[43m,\u001b[49m\n\u001b[1;32m    276\u001b[0m \u001b[43m    \u001b[49m\u001b[43mftol\u001b[49m\u001b[38;5;241;43m=\u001b[39;49m\u001b[43mstoptol\u001b[49m\u001b[43m[\u001b[49m\u001b[38;5;124;43m\"\u001b[39;49m\u001b[38;5;124;43mftol\u001b[39;49m\u001b[38;5;124;43m\"\u001b[39;49m\u001b[43m]\u001b[49m\u001b[43m,\u001b[49m\n\u001b[1;32m    277\u001b[0m \u001b[43m    \u001b[49m\u001b[43mxtol\u001b[49m\u001b[38;5;241;43m=\u001b[39;49m\u001b[43mstoptol\u001b[49m\u001b[43m[\u001b[49m\u001b[38;5;124;43m\"\u001b[39;49m\u001b[38;5;124;43mxtol\u001b[39;49m\u001b[38;5;124;43m\"\u001b[39;49m\u001b[43m]\u001b[49m\u001b[43m,\u001b[49m\n\u001b[1;32m    278\u001b[0m \u001b[43m    \u001b[49m\u001b[43mgtol\u001b[49m\u001b[38;5;241;43m=\u001b[39;49m\u001b[43mstoptol\u001b[49m\u001b[43m[\u001b[49m\u001b[38;5;124;43m\"\u001b[39;49m\u001b[38;5;124;43mgtol\u001b[39;49m\u001b[38;5;124;43m\"\u001b[39;49m\u001b[43m]\u001b[49m\u001b[43m,\u001b[49m\n\u001b[1;32m    279\u001b[0m \u001b[43m    \u001b[49m\u001b[43mmaxiter\u001b[49m\u001b[38;5;241;43m=\u001b[39;49m\u001b[43mstoptol\u001b[49m\u001b[43m[\u001b[49m\u001b[38;5;124;43m\"\u001b[39;49m\u001b[38;5;124;43mmaxiter\u001b[39;49m\u001b[38;5;124;43m\"\u001b[39;49m\u001b[43m]\u001b[49m\u001b[43m,\u001b[49m\n\u001b[1;32m    280\u001b[0m \u001b[43m    \u001b[49m\u001b[43mverbose\u001b[49m\u001b[38;5;241;43m=\u001b[39;49m\u001b[43mverbose\u001b[49m\u001b[43m,\u001b[49m\n\u001b[1;32m    281\u001b[0m \u001b[43m    \u001b[49m\u001b[43mcallback\u001b[49m\u001b[38;5;241;43m=\u001b[39;49m\u001b[38;5;28;43;01mNone\u001b[39;49;00m\u001b[43m,\u001b[49m\n\u001b[1;32m    282\u001b[0m \u001b[43m    \u001b[49m\u001b[43moptions\u001b[49m\u001b[38;5;241;43m=\u001b[39;49m\u001b[43moptions\u001b[49m\u001b[43m,\u001b[49m\n\u001b[1;32m    283\u001b[0m \u001b[43m\u001b[49m\u001b[43m)\u001b[49m\n\u001b[1;32m    284\u001b[0m \u001b[38;5;28;01mreturn\u001b[39;00m result\n",
      "File \u001b[0;32m/CODES/DESC/desc/optimize/least_squares.py:173\u001b[0m, in \u001b[0;36mlsqtr\u001b[0;34m(fun, x0, jac, bounds, args, x_scale, ftol, xtol, gtol, verbose, maxiter, callback, options)\u001b[0m\n\u001b[1;32m    170\u001b[0m \u001b[38;5;28;01massert\u001b[39;00m in_bounds(x, lb, ub), \u001b[38;5;124m\"\u001b[39m\u001b[38;5;124mx0 is infeasible\u001b[39m\u001b[38;5;124m\"\u001b[39m\n\u001b[1;32m    171\u001b[0m x \u001b[38;5;241m=\u001b[39m make_strictly_feasible(x, lb, ub)\n\u001b[0;32m--> 173\u001b[0m f \u001b[38;5;241m=\u001b[39m \u001b[43mfun\u001b[49m\u001b[43m(\u001b[49m\u001b[43mx\u001b[49m\u001b[43m,\u001b[49m\u001b[43m \u001b[49m\u001b[38;5;241;43m*\u001b[39;49m\u001b[43margs\u001b[49m\u001b[43m)\u001b[49m\n\u001b[1;32m    174\u001b[0m nfev \u001b[38;5;241m+\u001b[39m\u001b[38;5;241m=\u001b[39m \u001b[38;5;241m1\u001b[39m\n\u001b[1;32m    175\u001b[0m cost \u001b[38;5;241m=\u001b[39m \u001b[38;5;241m0.5\u001b[39m \u001b[38;5;241m*\u001b[39m jnp\u001b[38;5;241m.\u001b[39mdot(f, f)\n",
      "File \u001b[0;32m/CODES/DESC/desc/optimize/_constraint_wrappers.py:224\u001b[0m, in \u001b[0;36mLinearConstraintProjection.compute_scaled_error\u001b[0;34m(self, x_reduced, constants)\u001b[0m\n\u001b[1;32m    208\u001b[0m \u001b[38;5;250m\u001b[39m\u001b[38;5;124;03m\"\"\"Compute the objective function and apply weighting / bounds.\u001b[39;00m\n\u001b[1;32m    209\u001b[0m \n\u001b[1;32m    210\u001b[0m \u001b[38;5;124;03mParameters\u001b[39;00m\n\u001b[0;32m   (...)\u001b[0m\n\u001b[1;32m    221\u001b[0m \n\u001b[1;32m    222\u001b[0m \u001b[38;5;124;03m\"\"\"\u001b[39;00m\n\u001b[1;32m    223\u001b[0m x \u001b[38;5;241m=\u001b[39m \u001b[38;5;28mself\u001b[39m\u001b[38;5;241m.\u001b[39mrecover(x_reduced)\n\u001b[0;32m--> 224\u001b[0m f \u001b[38;5;241m=\u001b[39m \u001b[38;5;28;43mself\u001b[39;49m\u001b[38;5;241;43m.\u001b[39;49m\u001b[43m_objective\u001b[49m\u001b[38;5;241;43m.\u001b[39;49m\u001b[43mcompute_scaled_error\u001b[49m\u001b[43m(\u001b[49m\u001b[43mx\u001b[49m\u001b[43m,\u001b[49m\u001b[43m \u001b[49m\u001b[43mconstants\u001b[49m\u001b[43m)\u001b[49m\n\u001b[1;32m    225\u001b[0m \u001b[38;5;28;01mreturn\u001b[39;00m f\n",
      "    \u001b[0;31m[... skipping hidden 11 frame]\u001b[0m\n",
      "File \u001b[0;32m/CODES/DESC/desc/objectives/objective_funs.py:313\u001b[0m, in \u001b[0;36mObjectiveFunction.compute_scaled_error\u001b[0;34m(self, x, constants)\u001b[0m\n\u001b[1;32m    309\u001b[0m \u001b[38;5;28;01mif\u001b[39;00m constants \u001b[38;5;129;01mis\u001b[39;00m \u001b[38;5;28;01mNone\u001b[39;00m:\n\u001b[1;32m    310\u001b[0m     constants \u001b[38;5;241m=\u001b[39m \u001b[38;5;28mself\u001b[39m\u001b[38;5;241m.\u001b[39mconstants\n\u001b[1;32m    311\u001b[0m f \u001b[38;5;241m=\u001b[39m jnp\u001b[38;5;241m.\u001b[39mconcatenate(\n\u001b[1;32m    312\u001b[0m     [\n\u001b[0;32m--> 313\u001b[0m         \u001b[43mobj\u001b[49m\u001b[38;5;241;43m.\u001b[39;49m\u001b[43mcompute_scaled_error\u001b[49m\u001b[43m(\u001b[49m\u001b[38;5;241;43m*\u001b[39;49m\u001b[43mpar\u001b[49m\u001b[43m,\u001b[49m\u001b[43m \u001b[49m\u001b[43mconstants\u001b[49m\u001b[38;5;241;43m=\u001b[39;49m\u001b[43mconst\u001b[49m\u001b[43m)\u001b[49m\n\u001b[1;32m    314\u001b[0m         \u001b[38;5;28;01mfor\u001b[39;00m par, obj, const \u001b[38;5;129;01min\u001b[39;00m \u001b[38;5;28mzip\u001b[39m(params, \u001b[38;5;28mself\u001b[39m\u001b[38;5;241m.\u001b[39mobjectives, constants)\n\u001b[1;32m    315\u001b[0m     ]\n\u001b[1;32m    316\u001b[0m )\n\u001b[1;32m    317\u001b[0m \u001b[38;5;28;01mreturn\u001b[39;00m f\n",
      "    \u001b[0;31m[... skipping hidden 11 frame]\u001b[0m\n",
      "File \u001b[0;32m/CODES/DESC/desc/objectives/objective_funs.py:952\u001b[0m, in \u001b[0;36m_Objective.compute_scaled_error\u001b[0;34m(self, *args, **kwargs)\u001b[0m\n\u001b[1;32m    950\u001b[0m \u001b[38;5;250m\u001b[39m\u001b[38;5;124;03m\"\"\"Compute and apply the target/bounds, weighting, and normalization.\"\"\"\u001b[39;00m\n\u001b[1;32m    951\u001b[0m args \u001b[38;5;241m=\u001b[39m \u001b[38;5;28mself\u001b[39m\u001b[38;5;241m.\u001b[39m_maybe_array_to_params(\u001b[38;5;241m*\u001b[39margs)\n\u001b[0;32m--> 952\u001b[0m f \u001b[38;5;241m=\u001b[39m \u001b[38;5;28;43mself\u001b[39;49m\u001b[38;5;241;43m.\u001b[39;49m\u001b[43mcompute\u001b[49m\u001b[43m(\u001b[49m\u001b[38;5;241;43m*\u001b[39;49m\u001b[43margs\u001b[49m\u001b[43m,\u001b[49m\u001b[43m \u001b[49m\u001b[38;5;241;43m*\u001b[39;49m\u001b[38;5;241;43m*\u001b[39;49m\u001b[43mkwargs\u001b[49m\u001b[43m)\u001b[49m\n\u001b[1;32m    953\u001b[0m \u001b[38;5;28;01mif\u001b[39;00m \u001b[38;5;28mself\u001b[39m\u001b[38;5;241m.\u001b[39m_loss_function \u001b[38;5;129;01mis\u001b[39;00m \u001b[38;5;129;01mnot\u001b[39;00m \u001b[38;5;28;01mNone\u001b[39;00m:\n\u001b[1;32m    954\u001b[0m     f \u001b[38;5;241m=\u001b[39m \u001b[38;5;28mself\u001b[39m\u001b[38;5;241m.\u001b[39m_loss_function(f)\n",
      "File \u001b[0;32m/CODES/DESC/desc/objectives/_free_boundary.py:1161\u001b[0m, in \u001b[0;36mBFieldErrorAtIslandSurface.compute\u001b[0;34m(self, eq_params, constants)\u001b[0m\n\u001b[1;32m   1158\u001b[0m dA \u001b[38;5;241m=\u001b[39m \u001b[38;5;28mself\u001b[39m\u001b[38;5;241m.\u001b[39msrc_grid\u001b[38;5;241m.\u001b[39mweights \u001b[38;5;241m*\u001b[39m src_data[\u001b[38;5;124m\"\u001b[39m\u001b[38;5;124m|e_theta x e_zeta|\u001b[39m\u001b[38;5;124m\"\u001b[39m] \u001b[38;5;241m/\u001b[39m eq\u001b[38;5;241m.\u001b[39mNFP\n\u001b[1;32m   1159\u001b[0m K \u001b[38;5;241m=\u001b[39m src_data[\u001b[38;5;124m\"\u001b[39m\u001b[38;5;124mK_vc\u001b[39m\u001b[38;5;124m\"\u001b[39m]\n\u001b[0;32m-> 1161\u001b[0m Bplasma \u001b[38;5;241m=\u001b[39m \u001b[43mB_from_surface_integral\u001b[49m\u001b[43m(\u001b[49m\u001b[43mre\u001b[49m\u001b[43m,\u001b[49m\u001b[43m \u001b[49m\u001b[43mrs\u001b[49m\u001b[43m,\u001b[49m\u001b[43m \u001b[49m\u001b[43mK\u001b[49m\u001b[43m,\u001b[49m\u001b[43m \u001b[49m\u001b[43meq\u001b[49m\u001b[38;5;241;43m.\u001b[39;49m\u001b[43mNFP\u001b[49m\u001b[43m,\u001b[49m\u001b[43m \u001b[49m\u001b[43mdA\u001b[49m\u001b[43m)\u001b[49m\n\u001b[1;32m   1163\u001b[0m \u001b[38;5;28;01mreturn\u001b[39;00m jnp\u001b[38;5;241m.\u001b[39mlinalg\u001b[38;5;241m.\u001b[39mnorm(Bplasma \u001b[38;5;241m-\u001b[39m eval_data[\u001b[38;5;124m\"\u001b[39m\u001b[38;5;124mB\u001b[39m\u001b[38;5;124m\"\u001b[39m], axis\u001b[38;5;241m=\u001b[39m\u001b[38;5;241m-\u001b[39m\u001b[38;5;241m1\u001b[39m)\n",
      "File \u001b[0;32m/CODES/DESC/desc/magnetic_fields/_core.py:88\u001b[0m, in \u001b[0;36mB_from_surface_integral\u001b[0;34m(re, rs, K, NFP, dA)\u001b[0m\n\u001b[1;32m     86\u001b[0m r \u001b[38;5;241m=\u001b[39m jnp\u001b[38;5;241m.\u001b[39marray([jnp\u001b[38;5;241m.\u001b[39mlinalg\u001b[38;5;241m.\u001b[39mnorm(row \u001b[38;5;241m-\u001b[39m rs, axis\u001b[38;5;241m=\u001b[39m\u001b[38;5;241m-\u001b[39m\u001b[38;5;241m1\u001b[39m) \u001b[38;5;28;01mfor\u001b[39;00m row \u001b[38;5;129;01min\u001b[39;00m re])\n\u001b[1;32m     87\u001b[0m \u001b[38;5;28mprint\u001b[39m(r\u001b[38;5;241m.\u001b[39mshape)\n\u001b[0;32m---> 88\u001b[0m \u001b[43merrorif\u001b[49m\u001b[43m(\u001b[49m\n\u001b[1;32m     89\u001b[0m \u001b[43m    \u001b[49m\u001b[43mjnp\u001b[49m\u001b[38;5;241;43m.\u001b[39;49m\u001b[43many\u001b[49m\u001b[43m(\u001b[49m\u001b[43mr\u001b[49m\u001b[43m \u001b[49m\u001b[38;5;241;43m<\u001b[39;49m\u001b[38;5;241;43m=\u001b[39;49m\u001b[43m \u001b[49m\u001b[38;5;241;43m1e-6\u001b[39;49m\u001b[43m,\u001b[49m\u001b[43m \u001b[49m\u001b[43maxis\u001b[49m\u001b[38;5;241;43m=\u001b[39;49m\u001b[38;5;28;43;01mNone\u001b[39;49;00m\u001b[43m)\u001b[49m\u001b[43m,\u001b[49m\n\u001b[1;32m     90\u001b[0m \u001b[43m    \u001b[49m\u001b[38;5;167;43;01mUserWarning\u001b[39;49;00m\u001b[43m,\u001b[49m\n\u001b[1;32m     91\u001b[0m \u001b[43m    \u001b[49m\u001b[38;5;124;43m\"\u001b[39;49m\u001b[38;5;124;43mThe integral you are calculating is singular. Please check the \u001b[39;49m\u001b[38;5;124;43m\"\u001b[39;49m\n\u001b[1;32m     92\u001b[0m \u001b[43m    \u001b[49m\u001b[38;5;241;43m+\u001b[39;49m\u001b[43m \u001b[49m\u001b[38;5;124;43m\"\u001b[39;49m\u001b[38;5;124;43msource and evaluation points or check singularities.py for \u001b[39;49m\u001b[38;5;124;43m\"\u001b[39;49m\n\u001b[1;32m     93\u001b[0m \u001b[43m    \u001b[49m\u001b[38;5;241;43m+\u001b[39;49m\u001b[43m \u001b[49m\u001b[38;5;124;43m\"\u001b[39;49m\u001b[38;5;124;43mmethods to handle singular integrals.\u001b[39;49m\u001b[38;5;124;43m\"\u001b[39;49m\u001b[43m,\u001b[49m\n\u001b[1;32m     94\u001b[0m \u001b[43m\u001b[49m\u001b[43m)\u001b[49m\n\u001b[1;32m     96\u001b[0m \u001b[38;5;28;01mdef\u001b[39;00m \u001b[38;5;21mnfp_loop\u001b[39m(j, f):\n\u001b[1;32m     97\u001b[0m     \u001b[38;5;66;03m# calculate (by rotating) rs, rs_t, rz_t\u001b[39;00m\n\u001b[1;32m     98\u001b[0m     phi \u001b[38;5;241m=\u001b[39m (rs[:, \u001b[38;5;241m1\u001b[39m] \u001b[38;5;241m+\u001b[39m j \u001b[38;5;241m*\u001b[39m \u001b[38;5;241m2\u001b[39m \u001b[38;5;241m*\u001b[39m jnp\u001b[38;5;241m.\u001b[39mpi \u001b[38;5;241m/\u001b[39m NFP) \u001b[38;5;241m%\u001b[39m (\u001b[38;5;241m2\u001b[39m \u001b[38;5;241m*\u001b[39m jnp\u001b[38;5;241m.\u001b[39mpi)\n",
      "File \u001b[0;32m/CODES/DESC/desc/utils.py:534\u001b[0m, in \u001b[0;36merrorif\u001b[0;34m(cond, err, msg)\u001b[0m\n\u001b[1;32m    528\u001b[0m \u001b[38;5;28;01mdef\u001b[39;00m \u001b[38;5;21merrorif\u001b[39m(cond, err\u001b[38;5;241m=\u001b[39m\u001b[38;5;167;01mValueError\u001b[39;00m, msg\u001b[38;5;241m=\u001b[39m\u001b[38;5;124m\"\u001b[39m\u001b[38;5;124m\"\u001b[39m):\n\u001b[1;32m    529\u001b[0m \u001b[38;5;250m    \u001b[39m\u001b[38;5;124;03m\"\"\"Raise an error if condition is met.\u001b[39;00m\n\u001b[1;32m    530\u001b[0m \n\u001b[1;32m    531\u001b[0m \u001b[38;5;124;03m    Similar to assert but allows wider range of Error types, rather than\u001b[39;00m\n\u001b[1;32m    532\u001b[0m \u001b[38;5;124;03m    just AssertionError.\u001b[39;00m\n\u001b[1;32m    533\u001b[0m \u001b[38;5;124;03m    \"\"\"\u001b[39;00m\n\u001b[0;32m--> 534\u001b[0m     \u001b[38;5;28;01mif\u001b[39;00m cond:\n\u001b[1;32m    535\u001b[0m         \u001b[38;5;28;01mraise\u001b[39;00m err(msg)\n",
      "    \u001b[0;31m[... skipping hidden 2 frame]\u001b[0m\n",
      "File \u001b[0;32m~/anaconda3/envs/desc-env/lib/python3.12/site-packages/jax/_src/errors.py:522\u001b[0m, in \u001b[0;36mTracerBoolConversionError.__init__\u001b[0;34m(self, tracer)\u001b[0m\n\u001b[1;32m    519\u001b[0m \u001b[38;5;28;01mdef\u001b[39;00m \u001b[38;5;21m__init__\u001b[39m(\u001b[38;5;28mself\u001b[39m, tracer: core\u001b[38;5;241m.\u001b[39mTracer):\n\u001b[1;32m    520\u001b[0m   JAXTypeError\u001b[38;5;241m.\u001b[39m\u001b[38;5;21m__init__\u001b[39m(\u001b[38;5;28mself\u001b[39m,\n\u001b[1;32m    521\u001b[0m       \u001b[38;5;124mf\u001b[39m\u001b[38;5;124m\"\u001b[39m\u001b[38;5;124mAttempted boolean conversion of \u001b[39m\u001b[38;5;132;01m{\u001b[39;00mtracer\u001b[38;5;241m.\u001b[39m_error_repr()\u001b[38;5;132;01m}\u001b[39;00m\u001b[38;5;124m.\u001b[39m\u001b[38;5;124m\"\u001b[39m\n\u001b[0;32m--> 522\u001b[0m       \u001b[38;5;124mf\u001b[39m\u001b[38;5;124m\"\u001b[39m\u001b[38;5;132;01m{\u001b[39;00m\u001b[43mtracer\u001b[49m\u001b[38;5;241;43m.\u001b[39;49m\u001b[43m_origin_msg\u001b[49m\u001b[43m(\u001b[49m\u001b[43m)\u001b[49m\u001b[38;5;132;01m}\u001b[39;00m\u001b[38;5;124m\"\u001b[39m)\n",
      "File \u001b[0;32m~/anaconda3/envs/desc-env/lib/python3.12/site-packages/jax/_src/interpreters/partial_eval.py:1695\u001b[0m, in \u001b[0;36mDynamicJaxprTracer._origin_msg\u001b[0;34m(self)\u001b[0m\n\u001b[1;32m   1693\u001b[0m arg_info \u001b[38;5;241m=\u001b[39m arg_info_all(dbg)\n\u001b[1;32m   1694\u001b[0m \u001b[38;5;28;01mif\u001b[39;00m invar_pos \u001b[38;5;129;01mand\u001b[39;00m arg_info:\n\u001b[0;32m-> 1695\u001b[0m   arg_info \u001b[38;5;241m=\u001b[39m [\u001b[43marg_info\u001b[49m\u001b[43m[\u001b[49m\u001b[43mi\u001b[49m\u001b[43m]\u001b[49m \u001b[38;5;28;01mfor\u001b[39;00m i \u001b[38;5;129;01min\u001b[39;00m invar_pos]\n\u001b[1;32m   1696\u001b[0m   arg_names \u001b[38;5;241m=\u001b[39m [\u001b[38;5;124mf\u001b[39m\u001b[38;5;124m'\u001b[39m\u001b[38;5;132;01m{\u001b[39;00mname\u001b[38;5;132;01m}\u001b[39;00m\u001b[38;5;132;01m{\u001b[39;00mkeystr(path)\u001b[38;5;132;01m}\u001b[39;00m\u001b[38;5;124m'\u001b[39m \u001b[38;5;28;01mfor\u001b[39;00m name, path \u001b[38;5;129;01min\u001b[39;00m arg_info]\n\u001b[1;32m   1697\u001b[0m   \u001b[38;5;28;01mif\u001b[39;00m \u001b[38;5;28mlen\u001b[39m(arg_names) \u001b[38;5;241m==\u001b[39m \u001b[38;5;241m1\u001b[39m:\n",
      "\u001b[0;31mIndexError\u001b[0m: list index out of range"
     ]
    }
   ],
   "source": [
    "eq = get(\"precise_QA\")\n",
    "eq_org = eq.copy()\n",
    "\n",
    "optimizer = Optimizer(\"proximal-lsq-exact\")\n",
    "# fix |m| <= \"fix_modes\" modes\n",
    "fix_modes = 2\n",
    "R_modes = eq.surface.R_basis.modes[\n",
    "    np.max(np.abs(eq.surface.R_basis.modes), 1) > fix_modes, :\n",
    "]\n",
    "Z_modes = eq.surface.Z_basis.modes[\n",
    "    np.max(np.abs(eq.surface.Z_basis.modes), 1) > fix_modes, :\n",
    "]\n",
    "constraints = (\n",
    "    FixBoundaryR(eq=eq, modes=R_modes),\n",
    "    FixBoundaryZ(eq=eq, modes=Z_modes),\n",
    "    # ForceBalance(eq=eq),\n",
    ")\n",
    "objective = ObjectiveFunction(\n",
    "    (\n",
    "        BFieldErrorAtIslandSurface(eq=eq, rho=0.5), \n",
    "    )\n",
    ")\n",
    "eq.optimize(\n",
    "    optimizer=optimizer,\n",
    "    constraints=constraints,\n",
    "    objective=objective,\n",
    "    verbose=3,\n",
    "    maxiter=100,\n",
    ")\n",
    "\n",
    "plot_comparison(eqs=[eq_org, eq], labels=[\"Original\", \"Optimized\"]);\n",
    "plt.savefig(\"test-precise-QA.png\", dpi=500)"
   ]
  },
  {
   "cell_type": "code",
   "execution_count": 7,
   "metadata": {},
   "outputs": [
    {
     "name": "stdout",
     "output_type": "stream",
     "text": [
      "[[0. 0. 0. 0. 0. 0. 0. 0. 0. 0.]\n",
      " [0. 0. 0. 0. 0. 0. 0. 0. 0. 0.]\n",
      " [0. 0. 0. 0. 0. 0. 0. 0. 0. 0.]\n",
      " [0. 0. 0. 0. 0. 0. 0. 0. 0. 0.]\n",
      " [0. 0. 0. 0. 0. 0. 0. 0. 0. 0.]\n",
      " [0. 0. 0. 0. 0. 0. 0. 0. 0. 0.]\n",
      " [0. 0. 0. 0. 0. 0. 0. 0. 0. 0.]\n",
      " [0. 0. 0. 0. 0. 0. 0. 0. 0. 0.]\n",
      " [0. 0. 0. 0. 0. 0. 0. 0. 0. 0.]\n",
      " [0. 0. 0. 0. 0. 0. 0. 0. 0. 0.]]\n"
     ]
    },
    {
     "data": {
      "text/plain": [
       "False"
      ]
     },
     "execution_count": 7,
     "metadata": {},
     "output_type": "execute_result"
    }
   ],
   "source": [
    "a = np.zeros((10,10))\n",
    "print(a)\n",
    "a[1,1] = 1e2\n",
    "np.any(a>100)"
   ]
  },
  {
   "cell_type": "code",
   "execution_count": null,
   "metadata": {},
   "outputs": [],
   "source": [
    "from desc.magnetic_fields._core import B_from_surface_integral\n",
    "import time\n",
    "\n",
    "eq = get(\"precise_QA\")\n",
    "\n",
    "t0 = time.time()\n",
    "grid_source = LinearGrid(rho=1, M=550, N=550, NFP=int(eq.NFP))\n",
    "grid_eval = LinearGrid(rho=np.array([0.2, 0.3, 0.4, 0.5, 0.6, 0.7, 0.9]), M=10, N=0, NFP=int(eq.NFP))\n",
    "\n",
    "keys = [\n",
    "    \"K_vc\",\n",
    "    \"|e_theta x e_zeta|\",\n",
    "    \"R\",\n",
    "    \"phi\",\n",
    "    \"Z\",\n",
    "    \"e^rho\",\n",
    "    \"e^theta\",\n",
    "]\n",
    "data_source = eq.compute(keys, grid=grid_source)\n",
    "data_eval = eq.compute(keys, grid=grid_eval)\n",
    "\n",
    "re = jnp.vstack((data_eval[\"R\"], data_eval[\"phi\"], data_eval[\"Z\"])).T\n",
    "rs = jnp.vstack((data_source[\"R\"], data_source[\"phi\"], data_source[\"Z\"])).T\n",
    "dA = grid_source.weights * data_source[\"|e_theta x e_zeta|\"] / grid_source.NFP\n",
    "K = data_source[\"K_vc\"]\n",
    "print(f\"Setting parameters took: {time.time()-t0:.2f} seconds\")\n",
    "\n",
    "Bplasma2 = B_from_surface_integral(re, rs, K, eq.NFP, dA)  \n",
    "scale = 2\n",
    "fig,ax = plot_surfaces(eq,theta=0,rho=np.arange(0.1,1.01,0.1), phi=0.0,figsize=(8,8),lcfs_color=\"k\")\n",
    "ax[0].quiver(data_eval[\"R\"],data_eval[\"Z\"],data_eval[\"B\"][:,0],data_eval[\"B\"][:,2],\n",
    "             label=r\"$B_{eval-grid}$\",scale=scale,color=\"r\")\n",
    "ax[0].quiver(data_eval[\"R\"],data_eval[\"Z\"],Bplasma2[:,0],Bplasma2[:,2],\n",
    "             label=r\"$B_{surface-integral}$\",scale=scale,color=\"g\")\n",
    "ax[0].legend(fontsize=12)\n",
    "fig=plt.gcf()"
   ]
  },
  {
   "cell_type": "code",
   "execution_count": null,
   "metadata": {},
   "outputs": [],
   "source": [
    "from desc.magnetic_fields import field_line_integrate, ToroidalMagneticField\n",
    "from desc.magnetic_fields._core import biot_savart_general\n",
    "from desc.compute import rpz2xyz, rpz2xyz_vec, xyz2rpz_vec\n",
    "from desc.backend import jnp, fori_loop\n",
    "\n",
    "def B_from_K_trace(re, params=None, basis=\"rpz\",source_grid=grid_source):\n",
    "    phi_re = re[:, 1]\n",
    "    re = rpz2xyz(re)\n",
    "    def nfp_loop(j, f):\n",
    "        # calculate (by rotating) rs, rs_t, rz_t\n",
    "        phi = (grid_source.nodes[:, 2] + j * 2 * jnp.pi / grid_source.NFP) % (\n",
    "            2 * jnp.pi\n",
    "        )\n",
    "        # new coords are just old R,Z at a new phi (bc of discrete NFP symmetry)\n",
    "        rs = jnp.vstack((_rs[:, 0], phi, _rs[:, 2])).T\n",
    "        rs = rpz2xyz(rs)\n",
    "        \n",
    "        K = rpz2xyz_vec(_K, phi=phi)\n",
    "        fj = biot_savart_general(\n",
    "            re,\n",
    "            rs,\n",
    "            K,\n",
    "            _dV,\n",
    "        )\n",
    "        f += fj\n",
    "        return f\n",
    "\n",
    "    Bplasma = fori_loop(0, grid_source.NFP, nfp_loop, jnp.zeros_like(re))\n",
    "    Bplasma = xyz2rpz_vec(Bplasma, phi=phi_re)\n",
    "    return Bplasma\n",
    "\n",
    "grid_source = LinearGrid(rho=1, M=550, N=550, NFP=int(eq.NFP))\n",
    "\n",
    "keys = [\n",
    "    \"K_vc\",\n",
    "    \"|e_theta x e_zeta|\",\n",
    "    \"R\",\n",
    "    \"phi\",\n",
    "    \"Z\",\n",
    "]\n",
    "data_source = eq.compute(keys, grid=grid_source)\n",
    "_rs = jnp.vstack((data_source[\"R\"], data_source[\"phi\"], data_source[\"Z\"])).T\n",
    "_dV = grid_source.weights * data_source[\"|e_theta x e_zeta|\"] / grid_source.NFP\n",
    "_K = data_source[\"K_vc\"]\n",
    "\n",
    "ntransit=50\n",
    "n_R_points = 10\n",
    "\n",
    "phis = np.arange(0, ntransit * 2 * np.pi, 2 * np.pi)\n",
    "rrr = np.linspace(1.17,1.25,n_R_points) # initial R positions of field-lines to trace\n",
    "Bfield = ToroidalMagneticField(1,1)\n",
    "Bfield.compute_magnetic_field = B_from_K_trace\n",
    "field_R, field_Z = field_line_integrate(rrr, np.zeros_like(rrr), phis, Bfield, source_grid=grid_source)"
   ]
  }
 ],
 "metadata": {
  "kernelspec": {
   "display_name": "desc-env",
   "language": "python",
   "name": "python3"
  },
  "language_info": {
   "codemirror_mode": {
    "name": "ipython",
    "version": 3
   },
   "file_extension": ".py",
   "mimetype": "text/x-python",
   "name": "python",
   "nbconvert_exporter": "python",
   "pygments_lexer": "ipython3",
   "version": "3.12.0"
  }
 },
 "nbformat": 4,
 "nbformat_minor": 2
}
