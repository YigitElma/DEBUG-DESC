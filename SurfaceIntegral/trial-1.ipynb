{
 "cells": [
  {
   "cell_type": "code",
   "execution_count": 1,
   "metadata": {},
   "outputs": [],
   "source": [
    "import sys\n",
    "import os\n",
    "\n",
    "sys.path.insert(0, os.path.abspath(\".\"))\n",
    "sys.path.append(os.path.abspath(\"../../\"))\n",
    "\n",
    "# from desc import set_device\n",
    "# set_device(\"cpu\")"
   ]
  },
  {
   "cell_type": "code",
   "execution_count": 2,
   "metadata": {},
   "outputs": [
    {
     "name": "stdout",
     "output_type": "stream",
     "text": [
      "DESC version 0.11.1+571.g6790b22c6.dirty,using JAX backend, jax version=0.4.25, jaxlib version=0.4.25, dtype=float64\n",
      "Using device: CPU, with 9.43 GB available memory\n"
     ]
    }
   ],
   "source": [
    "import numpy as np\n",
    "%matplotlib inline\n",
    "import matplotlib.pyplot as plt\n",
    "from scipy.constants import mu_0\n",
    "import plotly.graph_objects as go\n",
    "import warnings\n",
    "\n",
    "from desc.backend import jnp\n",
    "from desc.transform import Transform\n",
    "from desc.plotting import plot_1d,plot_3d,plot_comparison, plot_surfaces, plot_grid\n",
    "from desc.optimize import Optimizer\n",
    "from desc.examples import get\n",
    "from desc.objectives import get_fixed_boundary_constraints, maybe_add_self_consistency\n",
    "from desc.grid import LinearGrid, QuadratureGrid, Grid\n",
    "\n",
    "from desc.compute.utils import _compute as compute_fun\n",
    "from desc.nestor import Nestor\n",
    "from desc.objectives.objective_funs import _Objective\n",
    "from desc.singularities import (\n",
    "    DFTInterpolator,\n",
    "    FFTInterpolator,\n",
    "    virtual_casing_biot_savart,\n",
    "    _nonsingular_part,\n",
    "    _singular_part,\n",
    "    kernels,\n",
    ")\n",
    "from desc.utils import Timer, errorif, warnif\n",
    "\n",
    "from desc.objectives import ObjectiveFunction, BaroundIslandError"
   ]
  },
  {
   "cell_type": "code",
   "execution_count": 7,
   "metadata": {},
   "outputs": [
    {
     "name": "stdout",
     "output_type": "stream",
     "text": [
      "Building objective: B consistency error\n",
      "Precomputing transforms\n",
      "Timer: Precomputing transforms = 65.3 ms\n",
      "Timer: Objective build = 241 ms\n"
     ]
    }
   ],
   "source": [
    "eq = get(\"precise_QA\")\n",
    "# eq.pressure = 0\n",
    "# eq.solve();\n",
    "objective = ObjectiveFunction(BaroundIslandError(eq=eq, rho=0.5))\n",
    "objective.build(verbose=3)"
   ]
  },
  {
   "cell_type": "code",
   "execution_count": null,
   "metadata": {},
   "outputs": [],
   "source": [
    "from desc.magnetic_fields._core import B_from_surface_integral\n",
    "import time\n",
    "\n",
    "eq = get(\"precise_QA\")\n",
    "\n",
    "t0 = time.time()\n",
    "grid_source = LinearGrid(rho=1, M=550, N=550, NFP=int(eq.NFP))\n",
    "grid_eval = LinearGrid(rho=0.5, M=4, N=0, NFP=int(eq.NFP))\n",
    "\n",
    "keys = [\n",
    "    \"K_vc\",\n",
    "    \"|e_theta x e_zeta|\",\n",
    "    \"R\",\n",
    "    \"phi\",\n",
    "    \"Z\",\n",
    "]\n",
    "data_source = eq.compute(keys, grid=grid_source)\n",
    "data_eval = eq.compute(keys, grid=grid_eval)\n",
    "\n",
    "re = jnp.vstack((data_eval[\"R\"], data_eval[\"phi\"], data_eval[\"Z\"])).T\n",
    "rs = jnp.vstack((data_source[\"R\"], data_source[\"phi\"], data_source[\"Z\"])).T\n",
    "dA = grid_source.weights * data_source[\"|e_theta x e_zeta|\"] / grid_source.NFP\n",
    "K = data_source[\"K_vc\"]\n",
    "print(f\"Setting parameters took: {time.time()-t0:.2f} seconds\")\n",
    "\n",
    "Bplasma2 = B_from_surface_integral(re, rs, K, eq.NFP, dA)\n",
    "\n",
    "scale = 1\n",
    "fig,ax = plot_surfaces(eq,theta=0,rho=np.arange(0.1,1.01,0.1), phi=0.0,figsize=(8,8),lcfs_color=\"k\")\n",
    "ax[0].quiver(data_eval[\"R\"],data_eval[\"Z\"],data_eval[\"B\"][:,0],data_eval[\"B\"][:,2],label=r\"$B_{eval-grid}$\",scale=scale,color=\"r\")\n",
    "ax[0].quiver(data_eval[\"R\"],data_eval[\"Z\"],Bplasma2[:,0],Bplasma2[:,2],label=r\"$B_{surface-integral}$\",scale=scale,color=\"g\")\n",
    "ax[0].legend(fontsize=12)\n",
    "fig=plt.gcf()"
   ]
  },
  {
   "cell_type": "code",
   "execution_count": null,
   "metadata": {},
   "outputs": [],
   "source": [
    "from desc.magnetic_fields import field_line_integrate, ToroidalMagneticField\n",
    "from desc.magnetic_fields._core import biot_savart_general\n",
    "from desc.compute import rpz2xyz, rpz2xyz_vec, xyz2rpz_vec\n",
    "from desc.backend import jnp, fori_loop\n",
    "\n",
    "def B_from_K_trace(re, params=None, basis=\"rpz\",source_grid=grid_source):\n",
    "    phi_re = re[:, 1]\n",
    "    re = rpz2xyz(re)\n",
    "    def nfp_loop(j, f):\n",
    "        # calculate (by rotating) rs, rs_t, rz_t\n",
    "        phi = (grid_source.nodes[:, 2] + j * 2 * jnp.pi / grid_source.NFP) % (\n",
    "            2 * jnp.pi\n",
    "        )\n",
    "        # new coords are just old R,Z at a new phi (bc of discrete NFP symmetry)\n",
    "        rs = jnp.vstack((_rs[:, 0], phi, _rs[:, 2])).T\n",
    "        rs = rpz2xyz(rs)\n",
    "        \n",
    "        K = rpz2xyz_vec(_K, phi=phi)\n",
    "        fj = biot_savart_general(\n",
    "            re,\n",
    "            rs,\n",
    "            K,\n",
    "            _dV,\n",
    "        )\n",
    "        f += fj\n",
    "        return f\n",
    "\n",
    "    Bplasma = fori_loop(0, grid_source.NFP, nfp_loop, jnp.zeros_like(re))\n",
    "    Bplasma = xyz2rpz_vec(Bplasma, phi=phi_re)\n",
    "    return Bplasma\n",
    "\n",
    "grid_source = LinearGrid(rho=1, M=550, N=550, NFP=int(eq.NFP))\n",
    "\n",
    "keys = [\n",
    "    \"K_vc\",\n",
    "    \"|e_theta x e_zeta|\",\n",
    "    \"R\",\n",
    "    \"phi\",\n",
    "    \"Z\",\n",
    "]\n",
    "data_source = eq.compute(keys, grid=grid_source)\n",
    "_rs = jnp.vstack((data_source[\"R\"], data_source[\"phi\"], data_source[\"Z\"])).T\n",
    "_dV = grid_source.weights * data_source[\"|e_theta x e_zeta|\"] / grid_source.NFP\n",
    "_K = data_source[\"K_vc\"]\n",
    "\n",
    "ntransit=50\n",
    "n_R_points = 10\n",
    "\n",
    "phis = np.arange(0, ntransit * 2 * np.pi, 2 * np.pi)\n",
    "rrr = np.linspace(1.17,1.25,n_R_points) # initial R positions of field-lines to trace\n",
    "Bfield = ToroidalMagneticField(1,1)\n",
    "Bfield.compute_magnetic_field = B_from_K_trace\n",
    "field_R, field_Z = field_line_integrate(rrr, np.zeros_like(rrr), phis, Bfield, source_grid=grid_source)"
   ]
  }
 ],
 "metadata": {
  "kernelspec": {
   "display_name": "desc-env",
   "language": "python",
   "name": "python3"
  },
  "language_info": {
   "codemirror_mode": {
    "name": "ipython",
    "version": 3
   },
   "file_extension": ".py",
   "mimetype": "text/x-python",
   "name": "python",
   "nbconvert_exporter": "python",
   "pygments_lexer": "ipython3",
   "version": "3.12.0"
  }
 },
 "nbformat": 4,
 "nbformat_minor": 2
}
