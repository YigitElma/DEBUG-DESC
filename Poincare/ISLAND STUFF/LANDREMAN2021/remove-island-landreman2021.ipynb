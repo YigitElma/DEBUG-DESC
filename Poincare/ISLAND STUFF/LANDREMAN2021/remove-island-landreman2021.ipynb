{
 "cells": [
  {
   "cell_type": "code",
   "execution_count": null,
   "id": "9950fb9d",
   "metadata": {},
   "outputs": [],
   "source": [
    "import sys\n",
    "import os\n",
    "\n",
    "sys.path.insert(0, os.path.abspath(\".\"))\n",
    "sys.path.append(os.path.abspath(\"../../../\"))"
   ]
  },
  {
   "cell_type": "code",
   "execution_count": null,
   "id": "c9d63c0b",
   "metadata": {},
   "outputs": [],
   "source": [
    "from desc import set_device\n",
    "set_device(\"gpu\")"
   ]
  },
  {
   "cell_type": "code",
   "execution_count": null,
   "id": "23b9040f",
   "metadata": {},
   "outputs": [],
   "source": [
    "import numpy as np\n",
    "np.set_printoptions(linewidth=np.inf, precision=4, suppress=True, threshold=sys.maxsize)\n",
    "import matplotlib.pyplot as plt\n",
    "%matplotlib inline\n",
    "import plotly.graph_objects as go\n",
    "import functools\n",
    "import scipy"
   ]
  },
  {
   "cell_type": "code",
   "execution_count": null,
   "id": "39539b84-d064-4adb-bd98-667958f0ffcf",
   "metadata": {},
   "outputs": [],
   "source": [
    "import desc\n",
    "\n",
    "from desc.basis import *\n",
    "from desc.backend import *\n",
    "from desc.compute import *\n",
    "from desc.coils import *\n",
    "from desc.equilibrium import *\n",
    "from desc.examples import *\n",
    "from desc.grid import *\n",
    "from desc.geometry import *\n",
    "\n",
    "from desc.objectives import *\n",
    "from desc.objectives.objective_funs import *\n",
    "from desc.objectives.getters import *\n",
    "from desc.objectives.normalization import compute_scaling_factors\n",
    "from desc.objectives.utils import *\n",
    "from desc.optimize._constraint_wrappers import *\n",
    "\n",
    "from desc.transform import Transform\n",
    "from desc.plotting import *\n",
    "from desc.optimize import *\n",
    "from desc.perturbations import *\n",
    "from desc.profiles import *\n",
    "from desc.compat import *\n",
    "from desc.utils import *\n",
    "from desc.magnetic_fields import *\n",
    "\n",
    "from desc.__main__ import main\n",
    "from desc.vmec_utils import vmec_boundary_subspace\n",
    "from desc.input_reader import InputReader\n",
    "from desc.continuation import solve_continuation_automatic\n",
    "\n",
    "print_backend_info()"
   ]
  },
  {
   "cell_type": "code",
   "execution_count": null,
   "id": "538f2e55",
   "metadata": {},
   "outputs": [],
   "source": [
    "def plot_field_lines(field, equ, ntransit=200, nrho=9):\n",
    "    # for starting locations we'll pick positions on flux surfaces on the outboard midplane\n",
    "    grid_trace = LinearGrid(rho=np.linspace(0, 1, nrho))\n",
    "    r0 = equ.compute(\"R\", grid=grid_trace)[\"R\"]\n",
    "    z0 = equ.compute(\"Z\", grid=grid_trace)[\"Z\"]\n",
    "    fig, ax = desc.plotting.plot_surfaces(equ)\n",
    "    fig, ax = desc.plotting.poincare_plot(\n",
    "        field,\n",
    "        r0,\n",
    "        z0,\n",
    "        NFP=equ.NFP,\n",
    "        ax=ax,\n",
    "        color=\"k\",\n",
    "        size=0.5,\n",
    "        ntransit=ntransit,\n",
    "    )\n",
    "    return fig, ax\n",
    "\n",
    "def plot_init_coils_modular(equ, ncoils=3, r_over_a=3.5):\n",
    "    coilset = initialize_modular_coils(\n",
    "        equ, num_coils=ncoils, r_over_a=r_over_a\n",
    "    ).to_FourierXYZ()\n",
    "    fig = plot_3d(equ, \"|B|\")\n",
    "    fig = plot_coils(coilset, fig=fig)\n",
    "    return fig"
   ]
  },
  {
   "cell_type": "code",
   "execution_count": null,
   "id": "df109614",
   "metadata": {},
   "outputs": [],
   "source": [
    "def optimize_coils(equ, coilset0=None):\n",
    "    if coilset0 is None:\n",
    "        coilset0 = initialize_modular_coils(\n",
    "            equ, num_coils=3, r_over_a=3.5\n",
    "        ).to_FourierXYZ()\n",
    "    # define our objective function (we will use a helper function here to make it easier to change weights later)\n",
    "    weights = {\n",
    "        \"quadratic flux\": 500,\n",
    "        \"coil-coil min dist\": 100,\n",
    "        \"plasma-coil min dist\": 10,\n",
    "        \"coil curvature\": 250,\n",
    "        \"coil length\": 20,\n",
    "    }\n",
    "    coil_grid = LinearGrid(N=50)\n",
    "    # similarly define a grid on the plasma surface where B*n errors will be evaluated\n",
    "    plasma_grid = LinearGrid(M=25, N=25, NFP=equ.NFP, sym=equ.sym)\n",
    "    obj = ObjectiveFunction(\n",
    "        (\n",
    "            QuadraticFlux(\n",
    "                equ,\n",
    "                field=coilset0,\n",
    "                # grid of points on plasma surface to evaluate normal field error\n",
    "                eval_grid=plasma_grid,\n",
    "                field_grid=coil_grid,\n",
    "                vacuum=True,  # vacuum=True means we won't calculate the plasma contribution to B as it is zero\n",
    "                weight=weights[\"quadratic flux\"],\n",
    "                bs_chunk_size=10,\n",
    "            ),\n",
    "            CoilCurvature(\n",
    "                coilset0,\n",
    "                bounds=(-1, 2),\n",
    "                normalize_target=False,  # we're giving bounds in normalized units\n",
    "                grid=coil_grid,\n",
    "                weight=weights[\"coil curvature\"],\n",
    "            ),\n",
    "            CoilLength(\n",
    "                coilset0,\n",
    "                bounds=(0, 2 * np.pi * (coilset0[0].compute(\"length\")[\"length\"])),\n",
    "                normalize_target=True,  # target length is in meters, not normalized\n",
    "                grid=coil_grid,\n",
    "                weight=weights[\"coil length\"],\n",
    "            ),\n",
    "        )\n",
    "    )\n",
    "    coil_indices_to_fix_current = [False for c in coilset0]\n",
    "    coil_indices_to_fix_current[0] = True\n",
    "    constraints = (FixCoilCurrent(coilset0, indices=coil_indices_to_fix_current),)\n",
    "\n",
    "    optimizer = Optimizer(\"lsq-exact\")\n",
    "\n",
    "    (optimized_coilset,), _ = optimizer.optimize(\n",
    "        coilset0,\n",
    "        objective=obj,\n",
    "        constraints=constraints,\n",
    "        maxiter=200,\n",
    "        verbose=3,\n",
    "        ftol=1e-6,\n",
    "        xtol=0,\n",
    "        copy=True,\n",
    "    )\n",
    "    return optimized_coilset"
   ]
  },
  {
   "cell_type": "code",
   "execution_count": null,
   "id": "2338d367",
   "metadata": {},
   "outputs": [],
   "source": [
    "def optimize_coils_regcoil(surf, equ, num_coils=16):\n",
    "    # create the FourierCurrentPotentialField object from the constant offset surface we found in the previous cell\n",
    "    surface_current_field = FourierCurrentPotentialField.from_surface(\n",
    "        surf,\n",
    "        I=0,\n",
    "        # manually setting G to value needed to provide the equilibrium's toroidal flux,\n",
    "        # though this is not necessary as it gets set automatically inside the solve_regularized_surface_current function\n",
    "        G=np.asarray(\n",
    "            [\n",
    "                -equ.compute(\"G\", grid=LinearGrid(rho=np.array(1.0)))[\"G\"][0]\n",
    "                / mu_0\n",
    "                * 2\n",
    "                * np.pi\n",
    "            ]\n",
    "        ),\n",
    "        # set symmetry of the current potential, \"sin\" is usually expected for stellarator-symmetric surfaces and equilibria\n",
    "        sym_Phi=\"sin\",\n",
    "    )\n",
    "\n",
    "    surface_current_field.change_Phi_resolution(M=12, N=12)\n",
    "\n",
    "    # create the evaluation grid (where Bn will be minimized on plasma surface)\n",
    "    # and source grid (discretizes the source K for Biot-Savart and where |K| will be penalized on winding surface)\n",
    "    Megrid = 20\n",
    "    Negrid = 20\n",
    "    Msgrid = 20\n",
    "    Nsgrid = 20\n",
    "\n",
    "    eval_grid = LinearGrid(M=Megrid, N=Negrid, NFP=eq.NFP, sym=False)\n",
    "    # ensure that sym=False for source grid so the field evaluated from the surface current is accurate\n",
    "    # (i.e. must evaluate source over whole surface, not just the symmetric part)\n",
    "    # NFP>1 is ok, as we internally will rotate the source through the field periods to sample entire winding surface\n",
    "    sgrid = LinearGrid(M=Msgrid, N=Nsgrid, NFP=eq.NFP, sym=False)\n",
    "\n",
    "    lambda_regularization = np.append(np.array([0]), np.logspace(-30, 1, 20))\n",
    "\n",
    "    # solve_regularized_surface_current method runs the REGCOIL algorithm\n",
    "    fields, data = solve_regularized_surface_current(\n",
    "        surface_current_field,  # the surface current field whose geometry and Phi resolution will be used\n",
    "        eq=equ,  # the Equilibrium object to minimize Bn on the surface of\n",
    "        source_grid=sgrid,  # source grid\n",
    "        eval_grid=eval_grid,  # evaluation grid\n",
    "        current_helicity=(\n",
    "            1,\n",
    "            0,\n",
    "        ),  # pair of integers (M_coil, N_coil), determines topology of contours (almost like  QS helicity),\n",
    "        #  M_coil is the number of times the coil transits poloidally before closing back on itself\n",
    "        # and N_coil is the toroidal analog (if M_coil!=0 and N_coil=0, we have modular coils, if both M_coil\n",
    "        # and N_coil are nonzero, we have helical coils)\n",
    "        # we pass in an array to perform scan over the regularization parameter (which we call lambda_regularization)\n",
    "        # to see tradeoff between Bn and current complexity\n",
    "        lambda_regularization=lambda_regularization,\n",
    "        # lambda_regularization can also be just a single number in which case no scan is performed\n",
    "        vacuum=True,  # this is a vacuum equilibrium, so no need to calculate the Bn contribution from the plasma currents\n",
    "        regularization_type=\"regcoil\",\n",
    "        chunk_size=40,\n",
    "    )\n",
    "    surface_current_field = fields[\n",
    "        0\n",
    "    ]  # fields is a list of FourierCurrentPotentialField objects\n",
    "\n",
    "    coilset = surface_current_field.to_CoilSet(num_coils=num_coils, stell_sym=True)\n",
    "    \n",
    "    return coilset"
   ]
  },
  {
   "cell_type": "code",
   "execution_count": null,
   "id": "5740beba",
   "metadata": {},
   "outputs": [],
   "source": [
    "def solve_n0_fixed(eq2solve, **kwargs):\n",
    "    jac_chunk_size = kwargs.pop(\"jac_chunk_size\", None)\n",
    "    R_modes = eq2solve.R_basis.modes[eq2solve.R_basis.modes[:, 2] == 0]\n",
    "    Z_modes = eq2solve.Z_basis.modes[eq2solve.Z_basis.modes[:, 2] == 0]\n",
    "    cons = (\n",
    "        FixModeR(eq2solve, modes=R_modes),\n",
    "        FixModeZ(eq2solve, modes=Z_modes),\n",
    "        FixPressure(eq2solve),\n",
    "        FixPsi(eq2solve),\n",
    "        FixCurrent(eq2solve),\n",
    "        FixSheetCurrent(eq2solve),\n",
    "        FixLambdaGauge(eq2solve),\n",
    "    )\n",
    "    cons = maybe_add_self_consistency(eq2solve, cons)\n",
    "    obj = ObjectiveFunction(ForceBalance(eq2solve, jac_chunk_size=jac_chunk_size))\n",
    "    eq2solve.solve(\n",
    "        constraints=cons,\n",
    "        objective=obj,\n",
    "        **kwargs,\n",
    "    )"
   ]
  },
  {
   "cell_type": "markdown",
   "id": "2a3c998f",
   "metadata": {},
   "source": [
    "# Now solve with Fixed N=0 Modes"
   ]
  },
  {
   "cell_type": "code",
   "execution_count": null,
   "id": "af04c623",
   "metadata": {},
   "outputs": [],
   "source": [
    "eq_poin = eq.copy()\n",
    "solve_n0_fixed(eq_poin, maxiter=500, ftol=5e-4)"
   ]
  },
  {
   "cell_type": "code",
   "execution_count": null,
   "id": "09d6c332",
   "metadata": {},
   "outputs": [],
   "source": [
    "eq_poin.save(f\"landreman2021-island-poincare-solved-L{eq_poin.L}M{eq_poin.M}N{eq_poin.N}.h5\")"
   ]
  },
  {
   "cell_type": "markdown",
   "id": "0cdad0a4",
   "metadata": {},
   "source": [
    "As seen below, the boundary change is minimal. If we haven't solved for high res, this wouldn't be the case."
   ]
  },
  {
   "cell_type": "code",
   "execution_count": null,
   "id": "576f0dbf",
   "metadata": {},
   "outputs": [],
   "source": [
    "plot_comparison(eqs=[eq, eq_poin], labels=[\"original\", \"resolve poincare\"]);"
   ]
  },
  {
   "cell_type": "markdown",
   "id": "db862fc3",
   "metadata": {},
   "source": [
    "Optimize some coils for field line tracing."
   ]
  },
  {
   "cell_type": "code",
   "execution_count": null,
   "id": "daf1f3e8",
   "metadata": {},
   "outputs": [],
   "source": [
    "# create the constant offset surface\n",
    "surf2 = eq_poin.surface.constant_offset_surface(\n",
    "    offset=0.25,  # desired offset\n",
    "    M=16,  # Poloidal resolution of desired offset surface\n",
    "    N=16,  # Toroidal resolution of desired offset surface\n",
    "    grid=LinearGrid(M=32, N=32, NFP=eq_poin.NFP),\n",
    ")  # grid of points on base surface to evaluate unit normal and find points on offset surface,\n",
    "# generally should be twice the desired resolution\n",
    "optimized_coilset2 = optimize_coils_regcoil(surf2, eq_poin)"
   ]
  },
  {
   "cell_type": "code",
   "execution_count": null,
   "id": "a2561bcf",
   "metadata": {},
   "outputs": [],
   "source": [
    "eq_poin.surface = eq_poin.get_surface_at(rho=1.)\n",
    "fig = plot_3d(\n",
    "    eq_poin.surface,\n",
    "    \"B*n\",\n",
    "    field=optimized_coilset2,\n",
    "    field_grid=coil_grid,\n",
    "    grid=plot_grid,\n",
    ")\n",
    "\n",
    "fig = plot_coils(optimized_coilset2, fig=fig)\n",
    "fig.show()"
   ]
  },
  {
   "cell_type": "code",
   "execution_count": null,
   "id": "ef1f8030",
   "metadata": {},
   "outputs": [],
   "source": [
    "fig, ax = plot_field_lines(optimized_coilset2, eq_poin, nrho=18, ntransit=200)\n",
    "plt.show()\n",
    "# fig.savefig(\"landreman2021-islands-after-poincare.png\", dpi=1000)"
   ]
  },
  {
   "cell_type": "code",
   "execution_count": null,
   "id": "0b8f72bc",
   "metadata": {},
   "outputs": [],
   "source": [
    "plot_boozer_surface(eq_poin)\n",
    "plt.title(\"After Poincare\")\n",
    "plot_boozer_surface(eq)\n",
    "plt.title(\"Original\");"
   ]
  },
  {
   "cell_type": "code",
   "execution_count": null,
   "id": "83a44855",
   "metadata": {},
   "outputs": [],
   "source": [
    "levels = np.logspace(-1,5, 7)\n",
    "plot_section(eq_poin, \"|F|\", phi=3, log=True, levels=levels);\n",
    "plt.title(\"After Poincare\")\n",
    "plot_section(eq, \"|F|\", phi=3, log=True, levels=levels);\n",
    "plt.title(\"Original\");"
   ]
  },
  {
   "cell_type": "code",
   "execution_count": null,
   "id": "be71313c",
   "metadata": {},
   "outputs": [],
   "source": [
    "plot_1d(eq, \"iota\")\n",
    "plot_1d(eq_poin, \"iota\");"
   ]
  },
  {
   "cell_type": "code",
   "execution_count": null,
   "id": "0146243e",
   "metadata": {},
   "outputs": [],
   "source": [
    "plot_1d(eq, \"current\")\n",
    "plot_1d(eq_poin, \"current\");"
   ]
  },
  {
   "cell_type": "markdown",
   "id": "2f79ea13",
   "metadata": {},
   "source": [
    "# Don't fix $\\lambda$"
   ]
  },
  {
   "cell_type": "code",
   "execution_count": null,
   "id": "649f2f1e",
   "metadata": {},
   "outputs": [],
   "source": [
    "eq._xsection = eq.get_surface_at(zeta=0)\n",
    "eq_poin_noL = eq.copy()\n",
    "solve_poincare(eq_poin_noL, maxiter=350, ftol=5e-4, fix_lambda=False)\n",
    "eq_poin_noL.surface = eq_poin_noL.get_surface_at(rho=1)"
   ]
  },
  {
   "cell_type": "code",
   "execution_count": null,
   "id": "0f973108",
   "metadata": {},
   "outputs": [],
   "source": [
    "plot_comparison([eq, eq_poin_noL], labels=[\"original\", \"poincare no L\"]);"
   ]
  },
  {
   "cell_type": "code",
   "execution_count": null,
   "id": "b217010a",
   "metadata": {},
   "outputs": [],
   "source": [
    "# create the constant offset surface\n",
    "surf3 = eq_poin_noL.surface.constant_offset_surface(\n",
    "    offset=0.25,  # desired offset\n",
    "    M=16,  # Poloidal resolution of desired offset surface\n",
    "    N=16,  # Toroidal resolution of desired offset surface\n",
    "    grid=LinearGrid(M=32, N=32, NFP=eq_poin_noL.NFP),\n",
    ")  # grid of points on base surface to evaluate unit normal and find points on offset surface,\n",
    "# generally should be twice the desired resolution\n",
    "optimized_coilset3 = optimize_coils_regcoil(surf3, eq_poin_noL)"
   ]
  },
  {
   "cell_type": "code",
   "execution_count": null,
   "id": "0f559a16",
   "metadata": {},
   "outputs": [],
   "source": [
    "eq_poin_noL.surface = eq_poin_noL.get_surface_at(rho=1.0)\n",
    "fig = plot_3d(\n",
    "    eq_poin_noL.surface,\n",
    "    \"B*n\",\n",
    "    field=optimized_coilset3,\n",
    "    field_grid=coil_grid,\n",
    "    grid=plot_grid,\n",
    ")\n",
    "\n",
    "fig = plot_coils(optimized_coilset3, fig=fig)\n",
    "fig.show()"
   ]
  },
  {
   "cell_type": "code",
   "execution_count": null,
   "id": "8a2d2e13",
   "metadata": {},
   "outputs": [],
   "source": [
    "fig, ax = plot_field_lines(optimized_coilset3, eq_poin_noL, nrho=18, ntransit=200)\n",
    "plt.show()\n",
    "# fig.savefig(\"landreman2021-islands-after-poincare.png\", dpi=1000)"
   ]
  },
  {
   "cell_type": "code",
   "execution_count": null,
   "id": "8bbcbb85",
   "metadata": {},
   "outputs": [],
   "source": [
    "plot_1d(eq_poin_noL, \"iota\")"
   ]
  },
  {
   "cell_type": "markdown",
   "id": "67da3e63",
   "metadata": {},
   "source": [
    "# Fix n=0 modes"
   ]
  },
  {
   "cell_type": "code",
   "execution_count": null,
   "id": "83927e5a",
   "metadata": {},
   "outputs": [],
   "source": [
    "eq_poin0 = eq.copy()\n",
    "R_modes = eq_poin0.R_basis.modes[eq_poin0.R_basis.modes[:, 2] == 0]\n",
    "Z_modes = eq_poin0.Z_basis.modes[eq_poin0.Z_basis.modes[:, 2] == 0]\n",
    "cons = (\n",
    "    FixModeR(eq_poin0, modes=R_modes),\n",
    "    FixModeZ(eq_poin0, modes=Z_modes),\n",
    "    FixPressure(eq_poin0),\n",
    "    FixPsi(eq_poin0),\n",
    "    FixCurrent(eq_poin0),\n",
    "    FixSheetCurrent(eq_poin0),\n",
    "    FixLambdaGauge(eq_poin0),\n",
    ")\n",
    "cons = maybe_add_self_consistency(eq_poin0, cons)\n",
    "obj = ObjectiveFunction(ForceBalance(eq_poin0))\n",
    "eq_poin0.solve(\n",
    "    constraints=cons,\n",
    "    objective=obj,\n",
    "    maxiter=500,\n",
    "    ftol=5e-4,\n",
    "    verbose=3,\n",
    ")"
   ]
  },
  {
   "cell_type": "code",
   "execution_count": null,
   "id": "b44cc966",
   "metadata": {},
   "outputs": [],
   "source": [
    "plot_comparison([eq, eq_poin0], labels=[\"original\", \"fix n=0 modes\"]);"
   ]
  },
  {
   "cell_type": "code",
   "execution_count": null,
   "id": "7e67d338",
   "metadata": {},
   "outputs": [],
   "source": [
    "# create the constant offset surface\n",
    "surf4 = eq_poin0.surface.constant_offset_surface(\n",
    "    offset=0.25,  # desired offset\n",
    "    M=16,  # Poloidal resolution of desired offset surface\n",
    "    N=16,  # Toroidal resolution of desired offset surface\n",
    "    grid=LinearGrid(M=32, N=32, NFP=eq_poin0.NFP),\n",
    ")  # grid of points on base surface to evaluate unit normal and find points on offset surface,\n",
    "# generally should be twice the desired resolution\n",
    "optimized_coilset4 = optimize_coils_regcoil(surf3, eq_poin0)"
   ]
  },
  {
   "cell_type": "code",
   "execution_count": null,
   "id": "d22506cc",
   "metadata": {},
   "outputs": [],
   "source": [
    "eq_poin0.surface = eq_poin0.get_surface_at(rho=1.0)\n",
    "fig = plot_3d(\n",
    "    eq_poin0.surface,\n",
    "    \"B*n\",\n",
    "    field=optimized_coilset4,\n",
    "    field_grid=coil_grid,\n",
    "    grid=plot_grid,\n",
    ")\n",
    "\n",
    "fig = plot_coils(optimized_coilset4, fig=fig)\n",
    "fig.show()"
   ]
  },
  {
   "cell_type": "code",
   "execution_count": null,
   "id": "079f4594",
   "metadata": {},
   "outputs": [],
   "source": [
    "fig, ax = plot_field_lines(optimized_coilset4, eq_poin0, nrho=18, ntransit=200)\n",
    "plt.show()\n",
    "fig.savefig(\"landreman2021-islands-after-pfixed-n0-modes.png\", dpi=1000)"
   ]
  },
  {
   "cell_type": "code",
   "execution_count": null,
   "id": "1a76924c",
   "metadata": {},
   "outputs": [],
   "source": [
    "plot_1d(eq_poin0, \"iota\")\n",
    "plot_1d(eq, \"iota\")"
   ]
  },
  {
   "cell_type": "code",
   "execution_count": null,
   "id": "c0c5085d",
   "metadata": {},
   "outputs": [],
   "source": [
    "levels = np.logspace(-1, 5, 7)\n",
    "plot_section(eq_poin0, \"|F|\", phi=3, log=True, levels=levels)\n",
    "plt.title(\"After Poincare\")\n",
    "plot_section(eq, \"|F|\", phi=3, log=True, levels=levels)\n",
    "plt.title(\"Original\")"
   ]
  }
 ],
 "metadata": {
  "kernelspec": {
   "display_name": "desc-env",
   "language": "python",
   "name": "python3"
  },
  "language_info": {
   "codemirror_mode": {
    "name": "ipython",
    "version": 3
   },
   "file_extension": ".py",
   "mimetype": "text/x-python",
   "name": "python",
   "nbconvert_exporter": "python",
   "pygments_lexer": "ipython3",
   "version": "3.12.9"
  }
 },
 "nbformat": 4,
 "nbformat_minor": 5
}
