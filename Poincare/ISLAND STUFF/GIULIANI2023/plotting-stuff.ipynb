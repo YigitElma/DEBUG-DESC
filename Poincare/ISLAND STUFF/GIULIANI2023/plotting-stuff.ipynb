{
 "cells": [
  {
   "cell_type": "code",
   "execution_count": null,
   "id": "84cdb79e",
   "metadata": {},
   "outputs": [],
   "source": [
    "import sys\n",
    "import os\n",
    "\n",
    "sys.path.insert(0, os.path.abspath(\".\"))\n",
    "sys.path.append(os.path.abspath(\"../../../../\"))"
   ]
  },
  {
   "cell_type": "code",
   "execution_count": null,
   "id": "ab33e22f",
   "metadata": {},
   "outputs": [],
   "source": [
    "from desc import set_device\n",
    "set_device(\"gpu\")"
   ]
  },
  {
   "cell_type": "code",
   "execution_count": null,
   "id": "1617fb40",
   "metadata": {},
   "outputs": [],
   "source": [
    "import numpy as np\n",
    "np.set_printoptions(linewidth=np.inf, precision=4, suppress=True, threshold=sys.maxsize)\n",
    "import matplotlib.pyplot as plt\n",
    "%matplotlib inline\n",
    "import plotly.graph_objects as go\n",
    "import functools\n",
    "import scipy"
   ]
  },
  {
   "cell_type": "code",
   "execution_count": null,
   "id": "2fd40545",
   "metadata": {},
   "outputs": [],
   "source": [
    "import desc\n",
    "\n",
    "from desc.basis import *\n",
    "from desc.backend import *\n",
    "from desc.compute import *\n",
    "from desc.coils import *\n",
    "from desc.equilibrium import *\n",
    "from desc.examples import *\n",
    "from desc.grid import *\n",
    "from desc.geometry import *\n",
    "\n",
    "from desc.objectives import *\n",
    "from desc.objectives.objective_funs import *\n",
    "from desc.objectives.getters import *\n",
    "from desc.objectives.normalization import compute_scaling_factors\n",
    "from desc.objectives.utils import *\n",
    "from desc.optimize._constraint_wrappers import *\n",
    "\n",
    "from desc.transform import Transform\n",
    "from desc.plotting import *\n",
    "from desc.optimize import *\n",
    "from desc.perturbations import *\n",
    "from desc.profiles import *\n",
    "from desc.compat import *\n",
    "from desc.utils import *\n",
    "from desc.magnetic_fields import *\n",
    "\n",
    "from desc.__main__ import main\n",
    "from desc.vmec_utils import vmec_boundary_subspace\n",
    "from desc.input_reader import InputReader\n",
    "from desc.continuation import solve_continuation_automatic\n",
    "\n",
    "print_backend_info()"
   ]
  },
  {
   "cell_type": "code",
   "execution_count": null,
   "id": "67af46a7",
   "metadata": {},
   "outputs": [],
   "source": [
    "import glob\n",
    "\n",
    "pwd = os.getcwd()\n",
    "\n",
    "for fname in glob.glob(pwd + \"/eq-poincare/eq-poincare*.h5\"):\n",
    "    foutputname = fname.split(\".\")[0].split(\"/\")[-1]\n",
    "    print(f\"Plotting the output file {foutputname}\")\n",
    "    eqi = desc.io.load(fname)\n",
    "    eq0 = desc.io.load(fname.replace(\"eq-poincare\", \"eq-org\"))  \n",
    "    fig, ax = plot_1d(eqi, \"iota\", label=\"poincare\", linecolor=\"r\")\n",
    "    fig, ax = plot_1d(eq0, \"iota\", label=\"original\", ax=ax, linecolor=\"b\")\n",
    "    fig.suptitle(f\"L{eqi.L} M{eqi.M} N{eqi.N}\")\n",
    "    fig.savefig(f\"./eq-poincare/iota-giuliani2023-L{eqi.L}M{eqi.M}N{eqi.N}.png\", dpi=300)"
   ]
  },
  {
   "cell_type": "code",
   "execution_count": null,
   "id": "d1d1d134",
   "metadata": {},
   "outputs": [],
   "source": [
    "import glob\n",
    "\n",
    "pwd = os.getcwd()\n",
    "\n",
    "for fname in glob.glob(pwd + \"/eq-fixed-n0/eq-fixed-n0*.h5\"):\n",
    "    foutputname = fname.split(\".\")[0].split(\"/\")[-1]\n",
    "    print(f\"Plotting the output file {foutputname}\")\n",
    "    eqi = desc.io.load(fname)\n",
    "    eq0 = desc.io.load(fname.replace(\"eq-fixed-n0\", \"eq-org\"))\n",
    "    fig, ax = plot_1d(eqi, \"iota\", label=\"fixed-n0\", linecolor=\"r\")\n",
    "    fig, ax = plot_1d(eq0, \"iota\", label=\"original\", ax=ax, linecolor=\"b\")\n",
    "    fig.suptitle(f\"L{eqi.L} M{eqi.M} N{eqi.N}\")\n",
    "    fig.savefig(\n",
    "        f\"./eq-fixed-n0/iota-giuliani2023-L{eqi.L}M{eqi.M}N{eqi.N}.png\", dpi=300\n",
    "    )"
   ]
  },
  {
   "cell_type": "code",
   "execution_count": null,
   "id": "f7369acf",
   "metadata": {},
   "outputs": [],
   "source": []
  }
 ],
 "metadata": {
  "kernelspec": {
   "display_name": "desc-env",
   "language": "python",
   "name": "python3"
  },
  "language_info": {
   "codemirror_mode": {
    "name": "ipython",
    "version": 3
   },
   "file_extension": ".py",
   "mimetype": "text/x-python",
   "name": "python",
   "nbconvert_exporter": "python",
   "pygments_lexer": "ipython3",
   "version": "3.12.9"
  }
 },
 "nbformat": 4,
 "nbformat_minor": 5
}
