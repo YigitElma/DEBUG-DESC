{
 "cells": [
  {
   "cell_type": "code",
   "execution_count": 1,
   "metadata": {},
   "outputs": [
    {
     "name": "stdout",
     "output_type": "stream",
     "text": [
      "DESC version 0.12.1+390.gfc160a9a9,using JAX backend, jax version=0.4.31, jaxlib version=0.4.31, dtype=float64\n",
      "Using device: CPU, with 10.95 GB available memory\n"
     ]
    }
   ],
   "source": [
    "import sys\n",
    "import os\n",
    "\n",
    "sys.path.insert(0, os.path.abspath(\".\"))\n",
    "sys.path.append(os.path.abspath(\"../../\"))\n",
    "\n",
    "import desc\n",
    "from desc.objectives import *\n",
    "from desc.basis import ZernikePolynomial, FourierZernikeBasis, DoubleFourierSeries\n",
    "from desc.transform import Transform\n",
    "from desc.equilibrium import EquilibriaFamily, Equilibrium\n",
    "from desc.plotting import (\n",
    "    plot_1d,\n",
    "    plot_2d,\n",
    "    plot_3d,\n",
    "    plot_comparison, \n",
    "    plot_section, \n",
    "    plot_fsa, \n",
    "    plot_surfaces,\n",
    ")\n",
    "from desc.optimize import Optimizer\n",
    "from desc.perturbations import *\n",
    "import numpy as np\n",
    "np.set_printoptions(linewidth=np.inf, threshold=sys.maxsize)\n",
    "\n",
    "from desc.geometry import (\n",
    "    FourierRZToroidalSurface,  \n",
    "    SplineXYZCurve, \n",
    "    FourierXYZCurve,\n",
    ")\n",
    "%matplotlib inline\n",
    "from desc.utils import copy_coeffs\n",
    "import matplotlib.pyplot as plt\n",
    "from desc.examples import get\n",
    "from desc.objectives.getters import (\n",
    "    get_fixed_boundary_constraints, \n",
    "    maybe_add_self_consistency,\n",
    ")\n",
    "from desc.grid import LinearGrid, QuadratureGrid, Grid\n",
    "import plotly.graph_objects as go\n",
    "from desc.profiles import PowerSeriesProfile\n",
    "from desc.__main__ import main\n",
    "from desc.vmec_utils import vmec_boundary_subspace\n",
    "from desc.compute import data_index\n",
    "from desc.coils import SplineXYZCoil\n",
    "from desc.equilibrium import Equilibrium\n",
    "from desc.geometry import FourierRZToroidalSurface\n",
    "from desc.objectives import (\n",
    "    ObjectiveFunction,\n",
    "    ForceBalance,\n",
    "    get_fixed_boundary_constraints,\n",
    ")\n",
    "from desc.optimize import Optimizer\n",
    "from desc.plotting import plot_1d, plot_section, plot_surfaces\n",
    "from desc.profiles import PowerSeriesProfile\n",
    "from desc.examples import get\n",
    "from desc.grid import LinearGrid\n",
    "import plotly.graph_objects as go\n",
    "\n",
    "from scipy.linalg import qr_insert, qr\n",
    "\n",
    "import jax.numpy as jnp\n",
    "from jax.lax import fori_loop\n",
    "from jax.lax import rsqrt\n",
    "import jax\n",
    "\n",
    "import functools\n",
    "from desc.objectives.normalization import compute_scaling_factors"
   ]
  },
  {
   "cell_type": "code",
   "execution_count": 2,
   "metadata": {},
   "outputs": [],
   "source": [
    "eq = get(\"HELIOTRON\")"
   ]
  },
  {
   "cell_type": "code",
   "execution_count": 3,
   "metadata": {},
   "outputs": [
    {
     "name": "stdout",
     "output_type": "stream",
     "text": [
      "Building objective: lcfs R\n",
      "Building objective: lcfs Z\n",
      "Building objective: fixed Psi\n",
      "Building objective: fixed pressure\n",
      "Building objective: fixed iota\n",
      "Building objective: fixed sheet current\n",
      "Building objective: self_consistency boundary R\n",
      "Building objective: self_consistency boundary Z\n",
      "Building objective: lambda gauge\n",
      "Building objective: self_consistency axis R\n",
      "Building objective: self_consistency axis Z\n",
      "Building objective: self_consistency section R\n",
      "Building objective: self_consistency section Z\n",
      "Building objective: self_consistency section Lambda\n",
      "Building objective: force\n",
      "Precomputing transforms\n",
      "0.0\n",
      "0.0\n",
      "0.0\n",
      "0.0\n",
      "0.0\n",
      "0.0\n",
      "5.189260187289721e-15\n",
      "1.570829369336555e-15\n",
      "0.0\n",
      "6.1371721738636655e-15\n",
      "1.1589285893609364e-16\n",
      "2.524513058901832e-15\n",
      "6.055875176239623e-16\n",
      "0.0\n"
     ]
    }
   ],
   "source": [
    "from desc.objectives.utils import factorize_linear_constraints, combine_args\n",
    "constraints = get_fixed_boundary_constraints(eq)\n",
    "constraints = maybe_add_self_consistency(eq, constraints)\n",
    "constraints = ObjectiveFunction(constraints)\n",
    "objective = ObjectiveFunction(ForceBalance(eq))\n",
    "constraints.build()\n",
    "objective.build()\n",
    "objective, constraints = combine_args(objective, constraints)\n",
    "xp, A, b, Z, unfixed, project, recover = factorize_linear_constraints(objective, constraints)"
   ]
  },
  {
   "cell_type": "code",
   "execution_count": 3,
   "metadata": {},
   "outputs": [
    {
     "name": "stdout",
     "output_type": "stream",
     "text": [
      "Building objective: lcfs R\n",
      "Building objective: lcfs Z\n",
      "Building objective: fixed Psi\n",
      "Building objective: fixed pressure\n",
      "Building objective: fixed iota\n",
      "Building objective: fixed sheet current\n",
      "Building objective: self_consistency boundary R\n",
      "Building objective: self_consistency boundary Z\n",
      "Building objective: lambda gauge\n",
      "Building objective: self_consistency axis R\n",
      "Building objective: self_consistency axis Z\n",
      "Building objective: self_consistency section R\n",
      "Building objective: self_consistency section Z\n",
      "Building objective: self_consistency section Lambda\n",
      "Building objective: force\n",
      "Precomputing transforms\n",
      "0.0\n",
      "0.0\n",
      "0.0\n",
      "0.0\n",
      "0.0\n",
      "0.0\n",
      "2.104729836894458e-14\n",
      "3.0004050830366466e-15\n",
      "0.0\n",
      "4.7014203614482855e-14\n",
      "5.8765769286766e-17\n",
      "6.172714617515281e-15\n",
      "5.52007406467261e-16\n",
      "0.0\n"
     ]
    }
   ],
   "source": [
    "from desc.objectives.utils import factorize_linear_constraints, combine_args\n",
    "constraints = get_fixed_boundary_constraints(eq)\n",
    "constraints = maybe_add_self_consistency(eq, constraints)\n",
    "constraints = ObjectiveFunction(constraints)\n",
    "objective = ObjectiveFunction(ForceBalance(eq))\n",
    "constraints.build()\n",
    "objective.build()\n",
    "objective, constraints = combine_args(objective, constraints)\n",
    "xp, A, b, Z, unfixed, project, recover = factorize_linear_constraints(objective, constraints)"
   ]
  },
  {
   "cell_type": "code",
   "execution_count": 3,
   "metadata": {},
   "outputs": [
    {
     "name": "stdout",
     "output_type": "stream",
     "text": [
      "Building objective: lcfs R\n",
      "Building objective: lcfs Z\n",
      "Building objective: fixed Psi\n",
      "Building objective: fixed pressure\n",
      "Building objective: fixed iota\n",
      "Building objective: fixed sheet current\n",
      "Building objective: self_consistency boundary R\n",
      "Building objective: self_consistency boundary Z\n",
      "Building objective: lambda gauge\n",
      "Building objective: self_consistency axis R\n",
      "Building objective: self_consistency axis Z\n",
      "Building objective: self_consistency section R\n",
      "Building objective: self_consistency section Z\n",
      "Building objective: self_consistency section Lambda\n",
      "Building objective: force\n",
      "Precomputing transforms\n",
      "0.0\n",
      "0.0\n",
      "0.0\n",
      "0.0\n",
      "0.0\n",
      "0.0\n",
      "5.189260187289721e-15\n",
      "1.570829369336555e-15\n",
      "0.0\n",
      "6.1371721738636655e-15\n",
      "1.1589285893609364e-16\n",
      "2.524513058901832e-15\n",
      "6.055875176239623e-16\n",
      "0.0\n"
     ]
    }
   ],
   "source": [
    "from desc.objectives.utils import factorize_linear_constraints, combine_args\n",
    "constraints = get_fixed_boundary_constraints(eq)\n",
    "constraints = maybe_add_self_consistency(eq, constraints)\n",
    "constraints = ObjectiveFunction(constraints)\n",
    "objective = ObjectiveFunction(ForceBalance(eq))\n",
    "constraints.build()\n",
    "objective.build()\n",
    "objective, constraints = combine_args(objective, constraints)\n",
    "xp, A, b, Z, unfixed, project, recover = factorize_linear_constraints(objective, constraints)"
   ]
  },
  {
   "cell_type": "code",
   "execution_count": null,
   "metadata": {},
   "outputs": [],
   "source": [
    "fig = plt.figure(figsize=(16, 12))\n",
    "ax = fig.add_subplot(111)\n",
    "im = ax.imshow(A, aspect=\"auto\", interpolation='None', cmap='viridis')\n",
    "fig.colorbar(im)\n",
    "plt.savefig(\"A.png\", dpi=1000)\n",
    "\n",
    "plt.figure()\n",
    "fig = plt.figure(figsize=(16, 12))\n",
    "ax = fig.add_subplot(111)\n",
    "im = ax.imshow(Z, aspect=\"auto\", interpolation='None', cmap='viridis')\n",
    "fig.colorbar(im)\n",
    "plt.savefig(\"Z.png\", dpi=1000)"
   ]
  },
  {
   "cell_type": "code",
   "execution_count": null,
   "metadata": {},
   "outputs": [],
   "source": [
    "# np.savetxt(\"poin-A.txt\", A)\n",
    "# np.savetxt(\"poin-Z.txt\", Z)\n",
    "# np.savetxt(\"poin-b.txt\", b)\n",
    "# np.savetxt(\"poin-xp.txt\", xp)\n",
    "# np.savetxt(\"poin-unfixed.txt\", unfixed)\n",
    "\n",
    "np.savetxt(\"master-A.txt\", A)\n",
    "np.savetxt(\"master-Z.txt\", Z)\n",
    "np.savetxt(\"master-b.txt\", b)\n",
    "np.savetxt(\"master-xp.txt\", xp)\n",
    "np.savetxt(\"master-unfixed.txt\", unfixed)"
   ]
  },
  {
   "cell_type": "code",
   "execution_count": 3,
   "metadata": {},
   "outputs": [],
   "source": [
    "A = np.loadtxt(\"master-A.txt\")\n",
    "Z = np.loadtxt(\"master-Z.txt\")\n",
    "b = np.loadtxt(\"master-b.txt\")\n",
    "xp = np.loadtxt(\"master-xp.txt\")\n",
    "unfixed = np.loadtxt(\"master-unfixed.txt\")\n",
    "\n",
    "A_poin = np.loadtxt(\"poin-A.txt\")\n",
    "Z_poin = np.loadtxt(\"poin-Z.txt\")\n",
    "b_poin = np.loadtxt(\"poin-b.txt\")\n",
    "xp_poin = np.loadtxt(\"poin-xp.txt\")\n",
    "unfixed_poin = np.loadtxt(\"poin-unfixed.txt\")"
   ]
  },
  {
   "cell_type": "code",
   "execution_count": 9,
   "metadata": {},
   "outputs": [
    {
     "name": "stdout",
     "output_type": "stream",
     "text": [
      "(168, 1761) (413, 2006)\n",
      "(1761, 1593) (2006, 1593)\n",
      "(168,) (413,)\n",
      "(1977,) (2296,)\n",
      "(1761,) (2006,)\n",
      "(1593,)\n",
      "(1593,)\n"
     ]
    },
    {
     "data": {
      "text/plain": [
       "4.371503159461554e-16"
      ]
     },
     "execution_count": 9,
     "metadata": {},
     "output_type": "execute_result"
    }
   ],
   "source": [
    "print(f\"{A.shape} {A_poin.shape}\")\n",
    "print(f\"{Z.shape} {Z_poin.shape}\")\n",
    "print(f\"{b.shape} {b_poin.shape}\")\n",
    "print(f\"{xp.shape} {xp_poin.shape}\")\n",
    "print(f\"{unfixed.shape} {unfixed_poin.shape}\")\n",
    "\n",
    "print(f\"{(Z.T@xp[unfixed.astype(int)]).shape}\")\n",
    "print(f\"{(Z_poin.T@xp_poin[unfixed_poin.astype(int)]).shape}\")\n",
    "\n",
    "x_reduced_m =  Z.T@xp[unfixed.astype(int)]\n",
    "x_reduced_p = Z_poin.T@xp_poin[unfixed_poin.astype(int)]\n",
    "\n",
    "assert np.allclose(x_reduced_m, x_reduced_p)\n",
    "max(x_reduced_m - x_reduced_p)"
   ]
  },
  {
   "cell_type": "code",
   "execution_count": null,
   "metadata": {},
   "outputs": [],
   "source": [
    "def find_indices_with_single_negative_one(A):\n",
    "    for row, bi in zip(A, b_poin):\n",
    "        prt = row[np.where(row!=0)]\n",
    "        # prt[prt<0] = 0\n",
    "        print(prt, bi)\n",
    "\n",
    "find_indices_with_single_negative_one(A_poin)"
   ]
  },
  {
   "cell_type": "code",
   "execution_count": null,
   "metadata": {},
   "outputs": [],
   "source": []
  }
 ],
 "metadata": {
  "kernelspec": {
   "display_name": "desc-env",
   "language": "python",
   "name": "python3"
  },
  "language_info": {
   "codemirror_mode": {
    "name": "ipython",
    "version": 3
   },
   "file_extension": ".py",
   "mimetype": "text/x-python",
   "name": "python",
   "nbconvert_exporter": "python",
   "pygments_lexer": "ipython3",
   "version": "3.12.0"
  }
 },
 "nbformat": 4,
 "nbformat_minor": 2
}
