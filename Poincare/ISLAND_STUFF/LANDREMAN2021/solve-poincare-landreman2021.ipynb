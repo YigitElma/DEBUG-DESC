{
 "cells": [
  {
   "cell_type": "code",
   "execution_count": 1,
   "id": "9950fb9d",
   "metadata": {},
   "outputs": [],
   "source": [
    "import sys\n",
    "import os\n",
    "\n",
    "sys.path.insert(0, os.path.abspath(\".\"))\n",
    "sys.path.append(os.path.abspath(\"../../../../\"))"
   ]
  },
  {
   "cell_type": "code",
   "execution_count": 2,
   "id": "c9d63c0b",
   "metadata": {},
   "outputs": [],
   "source": [
    "from desc import set_device\n",
    "set_device(\"gpu\")"
   ]
  },
  {
   "cell_type": "code",
   "execution_count": 3,
   "id": "23b9040f",
   "metadata": {},
   "outputs": [],
   "source": [
    "import numpy as np\n",
    "np.set_printoptions(linewidth=np.inf, precision=4, suppress=True, threshold=sys.maxsize)\n",
    "import matplotlib.pyplot as plt\n",
    "%matplotlib inline\n",
    "import plotly.graph_objects as go\n",
    "import functools\n",
    "import scipy"
   ]
  },
  {
   "cell_type": "code",
   "execution_count": 4,
   "id": "39539b84-d064-4adb-bd98-667958f0ffcf",
   "metadata": {},
   "outputs": [
    {
     "name": "stdout",
     "output_type": "stream",
     "text": [
      "DESC version=0.14.1+371.g6a626f49a.\n",
      "Using JAX backend: jax version=0.5.0, jaxlib version=0.5.0, dtype=float64.\n",
      "Using device: NVIDIA GeForce RTX 4080 Laptop GPU (id=0), with 10.62 GB available memory.\n"
     ]
    }
   ],
   "source": [
    "import desc\n",
    "\n",
    "from desc.basis import *\n",
    "from desc.backend import *\n",
    "from desc.compute import *\n",
    "from desc.coils import *\n",
    "from desc.equilibrium import *\n",
    "from desc.examples import *\n",
    "from desc.grid import *\n",
    "from desc.geometry import *\n",
    "\n",
    "from desc.objectives import *\n",
    "from desc.objectives.objective_funs import *\n",
    "from desc.objectives.getters import *\n",
    "from desc.objectives.normalization import compute_scaling_factors\n",
    "from desc.objectives.utils import *\n",
    "from desc.optimize._constraint_wrappers import *\n",
    "\n",
    "from desc.transform import Transform\n",
    "from desc.plotting import *\n",
    "from desc.optimize import *\n",
    "from desc.perturbations import *\n",
    "from desc.profiles import *\n",
    "from desc.compat import *\n",
    "from desc.utils import *\n",
    "from desc.magnetic_fields import *\n",
    "\n",
    "from desc.__main__ import main\n",
    "from desc.vmec_utils import vmec_boundary_subspace\n",
    "from desc.input_reader import InputReader\n",
    "from desc.continuation import solve_continuation_automatic\n",
    "\n",
    "print_backend_info()"
   ]
  },
  {
   "cell_type": "code",
   "execution_count": 5,
   "id": "538f2e55",
   "metadata": {},
   "outputs": [],
   "source": [
    "def plot_field_lines(field, equ, ntransit=200, nrho=9, size=0.4, outside=False):\n",
    "    # for starting locations we'll pick positions on flux surfaces on the outboard midplane\n",
    "    if outside:\n",
    "        grid_trace = LinearGrid(rho=np.linspace(0, 1, 2))\n",
    "        r0 = equ.compute(\"R\", grid=grid_trace)[\"R\"]\n",
    "        z0 = equ.compute(\"Z\", grid=grid_trace)[\"Z\"]\n",
    "        rmax = np.max(r0)\n",
    "        rmin = np.min(r0)\n",
    "        r0 = np.linspace(rmin, rmax + (rmax-rmin)*0.05, nrho)\n",
    "        z0 = np.zeros_like(r0)\n",
    "    else:\n",
    "        grid_trace = LinearGrid(rho=np.linspace(0, 1, nrho))\n",
    "        r0 = equ.compute(\"R\", grid=grid_trace)[\"R\"]\n",
    "        z0 = equ.compute(\"Z\", grid=grid_trace)[\"Z\"]\n",
    "    fig, ax = plot_surfaces(equ)\n",
    "    fig, ax = poincare_plot(\n",
    "        field,\n",
    "        r0,\n",
    "        z0,\n",
    "        NFP=equ.NFP,\n",
    "        ax=ax,\n",
    "        color=\"k\",\n",
    "        size=size,\n",
    "        ntransit=ntransit,\n",
    "        bounds_R=(0.5, 1.5),\n",
    "        bounds_Z=(-0.7, 0.7),\n",
    "    )\n",
    "    return fig, ax\n",
    "\n",
    "def plot_init_coils_modular(equ, ncoils=3, r_over_a=3.5):\n",
    "    coilset = initialize_modular_coils(\n",
    "        equ, num_coils=ncoils, r_over_a=r_over_a\n",
    "    ).to_FourierXYZ()\n",
    "    fig = plot_3d(equ, \"|B|\")\n",
    "    fig = plot_coils(coilset, fig=fig)\n",
    "    return fig"
   ]
  },
  {
   "cell_type": "code",
   "execution_count": 6,
   "id": "df109614",
   "metadata": {},
   "outputs": [],
   "source": [
    "def optimize_coils(equ, coilset0=None, curvature=True):\n",
    "    if coilset0 is None:\n",
    "        coilset0 = initialize_modular_coils(\n",
    "            equ, num_coils=3, r_over_a=3.5\n",
    "        ).to_FourierXYZ()\n",
    "    # define our objective function (we will use a helper function here to make it easier to change weights later)\n",
    "    weights = {\n",
    "        \"quadratic flux\": 500,\n",
    "        \"coil-coil min dist\": 100,\n",
    "        \"plasma-coil min dist\": 10,\n",
    "        \"coil curvature\": 250,\n",
    "        \"coil length\": 20,\n",
    "    }\n",
    "    coil_grid = LinearGrid(N=50)\n",
    "    # similarly define a grid on the plasma surface where B*n errors will be evaluated\n",
    "    plasma_grid = LinearGrid(M=25, N=25, NFP=equ.NFP, sym=equ.sym)\n",
    "    objs = [\n",
    "        QuadraticFlux(\n",
    "            equ,\n",
    "            field=coilset0,\n",
    "            # grid of points on plasma surface to evaluate normal field error\n",
    "            eval_grid=plasma_grid,\n",
    "            field_grid=coil_grid,\n",
    "            vacuum=True,  # vacuum=True means we won't calculate the plasma contribution to B as it is zero\n",
    "            weight=weights[\"quadratic flux\"],\n",
    "            bs_chunk_size=10,\n",
    "        ),\n",
    "        CoilLength(\n",
    "            coilset0,\n",
    "            bounds=(0, 2 * np.pi * (coilset0[0].compute(\"length\")[\"length\"])),\n",
    "            normalize_target=True,  # target length is in meters, not normalized\n",
    "            grid=coil_grid,\n",
    "            weight=weights[\"coil length\"],\n",
    "        ),\n",
    "    ]\n",
    "    if curvature:\n",
    "        objs += [\n",
    "            CoilCurvature(\n",
    "                coilset0,\n",
    "                bounds=(-1, 2),\n",
    "                normalize_target=False,  # we're giving bounds in normalized units\n",
    "                grid=coil_grid,\n",
    "                weight=weights[\"coil curvature\"],\n",
    "            )\n",
    "        ]\n",
    "    obj = ObjectiveFunction(objs)\n",
    "    coil_indices_to_fix_current = [False for c in coilset0]\n",
    "    coil_indices_to_fix_current[0] = True\n",
    "    constraints = (FixCoilCurrent(coilset0, indices=coil_indices_to_fix_current),)\n",
    "\n",
    "    optimizer = Optimizer(\"lsq-exact\")\n",
    "\n",
    "    (optimized_coilset,), _ = optimizer.optimize(\n",
    "        coilset0,\n",
    "        objective=obj,\n",
    "        constraints=constraints,\n",
    "        maxiter=200,\n",
    "        verbose=3,\n",
    "        ftol=1e-6,\n",
    "        xtol=0,\n",
    "        copy=True,\n",
    "    )\n",
    "    return optimized_coilset"
   ]
  },
  {
   "cell_type": "code",
   "execution_count": 7,
   "id": "2338d367",
   "metadata": {},
   "outputs": [],
   "source": [
    "def optimize_coils_regcoil(surf, equ, num_coils=16, return_k=False):\n",
    "    # create the FourierCurrentPotentialField object from the constant offset surface we found in the previous cell\n",
    "    surface_current_field = FourierCurrentPotentialField.from_surface(\n",
    "        surf,\n",
    "        I=0,\n",
    "        # manually setting G to value needed to provide the equilibrium's toroidal flux,\n",
    "        # though this is not necessary as it gets set automatically inside the solve_regularized_surface_current function\n",
    "        G=np.asarray(\n",
    "            [\n",
    "                -equ.compute(\"G\", grid=LinearGrid(rho=np.array(1.0)))[\"G\"][0]\n",
    "                / mu_0\n",
    "                * 2\n",
    "                * np.pi\n",
    "            ]\n",
    "        ),\n",
    "        # set symmetry of the current potential, \"sin\" is usually expected for stellarator-symmetric surfaces and equilibria\n",
    "        sym_Phi=\"sin\",\n",
    "    )\n",
    "\n",
    "    surface_current_field.change_Phi_resolution(M=12, N=12)\n",
    "\n",
    "    # create the evaluation grid (where Bn will be minimized on plasma surface)\n",
    "    # and source grid (discretizes the source K for Biot-Savart and where |K| will be penalized on winding surface)\n",
    "    Megrid = 20\n",
    "    Negrid = 20\n",
    "    Msgrid = 20\n",
    "    Nsgrid = 20\n",
    "\n",
    "    eval_grid = LinearGrid(M=Megrid, N=Negrid, NFP=equ.NFP, sym=False)\n",
    "    # ensure that sym=False for source grid so the field evaluated from the surface current is accurate\n",
    "    # (i.e. must evaluate source over whole surface, not just the symmetric part)\n",
    "    # NFP>1 is ok, as we internally will rotate the source through the field periods to sample entire winding surface\n",
    "    sgrid = LinearGrid(M=Msgrid, N=Nsgrid, NFP=equ.NFP, sym=False)\n",
    "\n",
    "    lambda_regularization = np.append(np.array([0]), np.logspace(-30, 1, 20))\n",
    "\n",
    "    # solve_regularized_surface_current method runs the REGCOIL algorithm\n",
    "    fields, data = solve_regularized_surface_current(\n",
    "        surface_current_field,  # the surface current field whose geometry and Phi resolution will be used\n",
    "        eq=equ,  # the Equilibrium object to minimize Bn on the surface of\n",
    "        source_grid=sgrid,  # source grid\n",
    "        eval_grid=eval_grid,  # evaluation grid\n",
    "        current_helicity=(\n",
    "            1*surface_current_field.NFP,\n",
    "            -1,\n",
    "        ),  # pair of integers (M_coil, N_coil), determines topology of contours (almost like  QS helicity),\n",
    "        #  M_coil is the number of times the coil transits poloidally before closing back on itself\n",
    "        # and N_coil is the toroidal analog (if M_coil!=0 and N_coil=0, we have modular coils, if both M_coil\n",
    "        # and N_coil are nonzero, we have helical coils)\n",
    "        # we pass in an array to perform scan over the regularization parameter (which we call lambda_regularization)\n",
    "        # to see tradeoff between Bn and current complexity\n",
    "        lambda_regularization=lambda_regularization,\n",
    "        # lambda_regularization can also be just a single number in which case no scan is performed\n",
    "        vacuum=True,  # this is a vacuum equilibrium, so no need to calculate the Bn contribution from the plasma currents\n",
    "        regularization_type=\"regcoil\",\n",
    "        chunk_size=40,\n",
    "    )\n",
    "    surface_current_field = fields[\n",
    "        0\n",
    "    ]  # fields is a list of FourierCurrentPotentialField objects\n",
    "\n",
    "    if return_k:\n",
    "        return surface_current_field\n",
    "    else:\n",
    "        coilset = surface_current_field.to_CoilSet(num_coils=num_coils, stell_sym=True)\n",
    "        return coilset"
   ]
  },
  {
   "cell_type": "markdown",
   "id": "3f5ea7c8",
   "metadata": {},
   "source": [
    "# Get Equilibria"
   ]
  },
  {
   "cell_type": "code",
   "execution_count": 8,
   "id": "7a2915ba-9409-4949-b52f-f52632861123",
   "metadata": {},
   "outputs": [
    {
     "data": {
      "image/png": "[encoded data removed]",
      "text/plain": [
       "<Figure size 384.076x384.076 with 1 Axes>"
      ]
     },
     "metadata": {},
     "output_type": "display_data"
    }
   ],
   "source": [
    "eq0 = desc.io.load(\"eq-org-landreman2021-island-LMN8.h5\")\n",
    "eq = desc.io.load(\"eq-org-landreman2021-island-LMN8.h5\")\n",
    "plot_1d(eq0, \"iota\");"
   ]
  },
  {
   "cell_type": "code",
   "execution_count": 9,
   "id": "bdc84f8e",
   "metadata": {},
   "outputs": [],
   "source": [
    "coil_grid = LinearGrid(N=50)\n",
    "plasma_grid = LinearGrid(M=25, N=25, NFP=eq.NFP, sym=eq.sym)\n",
    "plot_grid = LinearGrid(M=20, N=40, NFP=1, endpoint=True)"
   ]
  },
  {
   "cell_type": "markdown",
   "id": "2a3c998f",
   "metadata": {},
   "source": [
    "# Solve with Poincare\n",
    "\n",
    "We will use the lower resolution LMN=10. Let's fix the $\\zeta=0$ cross-section and resolve using Poincare BC."
   ]
  },
  {
   "cell_type": "code",
   "execution_count": 10,
   "id": "5740beba",
   "metadata": {},
   "outputs": [],
   "source": [
    "from desc.objectives.getters import *\n",
    "from desc.objectives import *\n",
    "def solve_poincare(eq2solve, fix_lambda=True, **kwargs):\n",
    "    jac_chunk_size = kwargs.pop(\"jac_chunk_size\", None)\n",
    "    constraints = get_fixed_xsection_constraints(eq2solve, fix_lambda=fix_lambda)\n",
    "    objective = ObjectiveFunction(ForceBalance(eq2solve, jac_chunk_size=jac_chunk_size))\n",
    "    eq2solve.solve(constraints=constraints, objective=objective, verbose=3, **kwargs)"
   ]
  },
  {
   "cell_type": "code",
   "execution_count": null,
   "id": "af04c623",
   "metadata": {},
   "outputs": [],
   "source": [
    "eq._xsection = eq.get_surface_at(zeta=0)\n",
    "eq_poin = eq.copy()\n",
    "solve_poincare(eq_poin, maxiter=500, ftol=5e-4)\n",
    "eq_poin.surface = eq_poin.get_surface_at(rho=1)"
   ]
  },
  {
   "cell_type": "code",
   "execution_count": null,
   "id": "09d6c332",
   "metadata": {},
   "outputs": [],
   "source": [
    "eq_poin.save(f\"eq-poincare-landreman2021-island-L{eq_poin.L}M{eq_poin.M}N{eq_poin.N}.h5\")"
   ]
  },
  {
   "cell_type": "code",
   "execution_count": null,
   "id": "a040d5b8",
   "metadata": {},
   "outputs": [],
   "source": [
    "L, M, N = 10, 10, 10\n",
    "eq_poin = desc.io.load(f\"eq-poincare-landreman2021-island-L{L}M{M}N{N}.h5\")"
   ]
  },
  {
   "cell_type": "markdown",
   "id": "0cdad0a4",
   "metadata": {},
   "source": [
    "As seen below, the boundary change is minimal. If we haven't solved for high res, this wouldn't be the case."
   ]
  },
  {
   "cell_type": "code",
   "execution_count": null,
   "id": "576f0dbf",
   "metadata": {},
   "outputs": [],
   "source": [
    "plot_comparison(\n",
    "    eqs=[eq, eq_poin],\n",
    "    labels=[\"original\", f\"resolve poincare L{eq_poin.L}M{eq_poin.M}N{eq_poin.N}\"],\n",
    ")\n",
    "plt.savefig(\n",
    "    f\"plot-landreman2021-surface-compare-L{eq_poin.L}M{eq_poin.M}N{eq_poin.N}.png\", dpi=1000\n",
    ")"
   ]
  },
  {
   "cell_type": "markdown",
   "id": "db862fc3",
   "metadata": {},
   "source": [
    "Optimize some coils for field line tracing."
   ]
  },
  {
   "cell_type": "code",
   "execution_count": null,
   "id": "daf1f3e8",
   "metadata": {},
   "outputs": [],
   "source": [
    "regcoil = 1\n",
    "return_k = 1\n",
    "if regcoil:\n",
    "    # create the constant offset surface\n",
    "    surf2 = eq_poin.surface.constant_offset_surface(\n",
    "        offset=0.25,  # desired offset\n",
    "        M=16,  # Poloidal resolution of desired offset surface\n",
    "        N=16,  # Toroidal resolution of desired offset surface\n",
    "        grid=LinearGrid(M=32, N=32, NFP=eq_poin.NFP),\n",
    "    )  # grid of points on base surface to evaluate unit normal and find points on offset surface,\n",
    "    # generally should be twice the desired resolution\n",
    "    if return_k:\n",
    "        optimized_coilset2 = optimize_coils_regcoil(\n",
    "            surf2, eq_poin, num_coils=8, return_k=True\n",
    "        )\n",
    "    else:\n",
    "        optimized_coilset2 = optimize_coils_regcoil(surf2, eq_poin, num_coils=8)\n",
    "else:\n",
    "    coilset0 = initialize_modular_coils(eq_poin, num_coils=3, r_over_a=4).to_FourierXYZ()\n",
    "    optimized_coilset2 = optimize_coils(eq_poin, coilset0=coilset0, curvature=True)"
   ]
  },
  {
   "cell_type": "code",
   "execution_count": null,
   "id": "5923dd2d",
   "metadata": {},
   "outputs": [],
   "source": [
    "optimized_coilset2.save(f\"surface-K-poincare-landreman2021-L{eq_poin.L}M{eq_poin.M}N{eq_poin.N}.h5\")"
   ]
  },
  {
   "cell_type": "code",
   "execution_count": null,
   "id": "b183a9d5",
   "metadata": {},
   "outputs": [],
   "source": [
    "optimized_coilset2 = desc.io.load(\n",
    "    f\"surface-K-poincare-landreman2021-L{eq_poin.L}M{eq_poin.M}N{eq_poin.N}.h5\"\n",
    ")"
   ]
  },
  {
   "cell_type": "code",
   "execution_count": null,
   "id": "a2561bcf",
   "metadata": {},
   "outputs": [],
   "source": [
    "eq_poin.surface = eq_poin.get_surface_at(rho=1.)\n",
    "if not return_k:\n",
    "    fig = plot_3d(\n",
    "        eq_poin.surface,\n",
    "        \"B*n\",\n",
    "        field=optimized_coilset2,\n",
    "        field_grid=coil_grid,\n",
    "        grid=plot_grid,\n",
    "    )\n",
    "\n",
    "    fig = plot_coils(optimized_coilset2, fig=fig)\n",
    "    fig.show()"
   ]
  },
  {
   "cell_type": "code",
   "execution_count": null,
   "id": "ef1f8030",
   "metadata": {},
   "outputs": [],
   "source": [
    "fig, ax = plot_field_lines(optimized_coilset2, eq_poin, nrho=18, ntransit=200, size=0.2, outside=False)\n",
    "plt.show()\n",
    "fig.savefig(\n",
    "    f\"plot-landreman2021-poincare-L{eq_poin.L}M{eq_poin.M}N{eq_poin.N}.png\", dpi=1000\n",
    ")"
   ]
  },
  {
   "cell_type": "code",
   "execution_count": null,
   "id": "83a44855",
   "metadata": {},
   "outputs": [],
   "source": [
    "levels = np.logspace(-6,0, 7)\n",
    "fig, ax = plot_section(eq_poin, \"|F|\", phi=3, log=True, norm_F=True, levels=levels);\n",
    "fig.suptitle(f\"After Poincare L={eq_poin.L} M={eq_poin.M} N={eq_poin.N}\");\n",
    "fig, ax = plot_section(eq, \"|F|\", phi=3, log=True, norm_F=True, levels=levels)\n",
    "fig.suptitle(f\"Original L={eq.L} M={eq.M} N={eq.N}\");"
   ]
  },
  {
   "cell_type": "code",
   "execution_count": null,
   "id": "be71313c",
   "metadata": {},
   "outputs": [],
   "source": [
    "plot_1d(eq, \"iota\")\n",
    "plt.title(f\"Original with L={eq.L}M={eq.M}N={eq.N}\");\n",
    "plot_1d(eq_poin, \"iota\")\n",
    "plt.title(f\"Poincare with L={eq_poin.L}M={eq_poin.M}N={eq_poin.N}\");"
   ]
  },
  {
   "cell_type": "code",
   "execution_count": null,
   "id": "0b8f72bc",
   "metadata": {},
   "outputs": [],
   "source": [
    "plot_boozer_surface(eq)\n",
    "plt.title(f\"Original with L={eq.L}M={eq.M}N={eq.N}\");\n",
    "plot_boozer_surface(eq_poin)\n",
    "plt.title(f\"After Poincare L={eq_poin.L}M={eq_poin.M}N={eq_poin.N}\");"
   ]
  },
  {
   "cell_type": "markdown",
   "id": "501a22b1",
   "metadata": {},
   "source": [
    "# Do all of the above for different Resolutions"
   ]
  },
  {
   "cell_type": "code",
   "execution_count": null,
   "id": "a3956fdb",
   "metadata": {},
   "outputs": [],
   "source": [
    "def all_above(equ):\n",
    "    print(f\"\\n\\nSOLVING POINCARE FOR L={equ.L} M={equ.M} N={equ.N}\\n\\n\")\n",
    "    equ._xsection = equ.get_surface_at(zeta=0)\n",
    "    eqp = equ.copy()\n",
    "    solve_poincare(eqp, maxiter=500, ftol=5e-4)\n",
    "    eqp.surface = eqp.get_surface_at(rho=1)\n",
    "    eqp.save(f\"eq-poincare-landreman2021-island-L{eqp.L}M{eqp.M}N{eqp.N}.h5\")\n",
    "    plot_comparison(\n",
    "        eqs=[equ, eqp],\n",
    "        labels=[\n",
    "            f\"original L{equ.L}M{equ.M}N{equ.N}\",\n",
    "            f\"resolve poincare L{eqp.L}M{eqp.M}N{eqp.N}\",\n",
    "        ],\n",
    "    )\n",
    "    plt.savefig(\n",
    "        f\"plot-landreman2021-surface-compare-L{eqp.L}M{eqp.M}N{eqp.N}.png\",\n",
    "        dpi=1000,\n",
    "    )\n",
    "    regcoil = 1\n",
    "    return_k = 1\n",
    "    if regcoil:\n",
    "        # create the constant offset surface\n",
    "        surf2 = eqp.surface.constant_offset_surface(\n",
    "            offset=0.25,  # desired offset\n",
    "            M=16,  # Poloidal resolution of desired offset surface\n",
    "            N=16,  # Toroidal resolution of desired offset surface\n",
    "            grid=LinearGrid(M=32, N=32, NFP=eqp.NFP),\n",
    "        )  # grid of points on base surface to evaluate unit normal and find points on offset surface,\n",
    "        # generally should be twice the desired resolution\n",
    "        if return_k:\n",
    "            optimized_coilset2 = optimize_coils_regcoil(\n",
    "                surf2, eqp, num_coils=8, return_k=True\n",
    "            )\n",
    "        else:\n",
    "            optimized_coilset2 = optimize_coils_regcoil(surf2, eqp, num_coils=8)\n",
    "    else:\n",
    "        coilset0 = initialize_modular_coils(\n",
    "            eqp, num_coils=3, r_over_a=4\n",
    "        ).to_FourierXYZ()\n",
    "        optimized_coilset2 = optimize_coils(eqp, coilset0=coilset0, curvature=True)\n",
    "    optimized_coilset2.save(\n",
    "        f\"surface-K-poincare-landreman2021-L{eqp.L}M{eqp.M}N{eqp.N}.h5\"\n",
    "    )\n",
    "    fig, ax = plot_field_lines(\n",
    "        optimized_coilset2, eqp, nrho=18, ntransit=200, size=0.2, outside=False\n",
    "    )\n",
    "    fig.suptitle(f\"Field Line Trace after Poincare L={eqp.L} M={eqp.M} N={eqp.N}\")\n",
    "    fig.savefig(f\"plot-landreman2021-poincare-L{eqp.L}M{eqp.M}N{eqp.N}.png\", dpi=1000)\n",
    "    plot_1d(equ, \"iota\")\n",
    "    plt.title(f\"Original with L={equ.L}M={equ.M}N={equ.N}\")\n",
    "    plot_1d(eqp, \"iota\")\n",
    "    plt.title(f\"Poincare with L={eqp.L}M={eqp.M}N={eqp.N}\")\n",
    "    plot_boozer_surface(equ)\n",
    "    plt.title(f\"Original with L={equ.L}M={equ.M}N={equ.N}\")\n",
    "    plot_boozer_surface(eqp)\n",
    "    plt.title(f\"After Poincare L={eqp.L}M={eqp.M}N={eqp.N}\");"
   ]
  },
  {
   "cell_type": "code",
   "execution_count": null,
   "id": "33da09e9",
   "metadata": {},
   "outputs": [],
   "source": [
    "eqi = desc.io.load(\"eq-org-landreman2021-island-resolved.h5\")\n",
    "all_above(eqi)\n",
    "for res in [4, 6, 8, 10]:\n",
    "    eqi = desc.io.load((f\"eq-org-landreman2021-island-LMN{res}.h5\"))\n",
    "    all_above(eqi)\n",
    "for res in [6, 8, 10, 12, 14, 16]:\n",
    "    eqi = desc.io.load((f\"eq-org-landreman2021-island-L{res}M{res}N4.h5\"))\n",
    "    all_above(eqi)\n",
    "for res in [6, 8, 10, 12, 14, 16]:\n",
    "    eqi = desc.io.load((f\"eq-org-landreman2021-island-L{res}M3N4.h5\"))\n",
    "    all_above(eqi)"
   ]
  },
  {
   "cell_type": "code",
   "execution_count": null,
   "id": "559c5f5e",
   "metadata": {},
   "outputs": [],
   "source": []
  }
 ],
 "metadata": {
  "kernelspec": {
   "display_name": "desc-env",
   "language": "python",
   "name": "python3"
  },
  "language_info": {
   "codemirror_mode": {
    "name": "ipython",
    "version": 3
   },
   "file_extension": ".py",
   "mimetype": "text/x-python",
   "name": "python",
   "nbconvert_exporter": "python",
   "pygments_lexer": "ipython3",
   "version": "3.12.9"
  }
 },
 "nbformat": 4,
 "nbformat_minor": 5
}
