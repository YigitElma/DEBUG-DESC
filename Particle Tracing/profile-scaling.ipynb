{
 "cells": [
  {
   "cell_type": "code",
   "execution_count": null,
   "metadata": {},
   "outputs": [],
   "source": [
    "import sys\n",
    "import os\n",
    "\n",
    "sys.path.insert(0, os.path.abspath(\".\"))\n",
    "sys.path.insert(0, os.path.abspath(\".\"))\n",
    "sys.path.append(os.path.abspath(\"../../\"))\n",
    "\n",
    "os.environ[\"XLA_PYTHON_CLIENT_MEM_FRACTION\"] = \"0.99\"\n",
    "# os.environ[\"XLA_PYTHON_CLIENT_ALLOCATOR\"] = \"platform\"\n",
    "# os.environ[\"XLA_FLAGS\"] = (\n",
    "#     \"--xla_disable_hlo_passes=constant_folding\"  # this disables constant folding\n",
    "# )\n",
    "from desc import set_device\n",
    "set_device(\"gpu\")"
   ]
  },
  {
   "cell_type": "code",
   "execution_count": null,
   "metadata": {},
   "outputs": [],
   "source": [
    "import numpy as np\n",
    "np.set_printoptions(linewidth=np.inf, precision=4, suppress=True, threshold=sys.maxsize)\n",
    "import matplotlib.pyplot as plt\n",
    "%matplotlib inline\n",
    "import plotly.graph_objects as go\n",
    "import functools\n",
    "import scipy"
   ]
  },
  {
   "cell_type": "code",
   "execution_count": null,
   "metadata": {},
   "outputs": [],
   "source": [
    "import desc\n",
    "\n",
    "from desc.basis import *\n",
    "from desc.backend import *\n",
    "from desc.compute import *\n",
    "from desc.coils import *\n",
    "from desc.equilibrium import *\n",
    "from desc.examples import *\n",
    "from desc.grid import *\n",
    "from desc.geometry import *\n",
    "\n",
    "from desc.objectives import *\n",
    "from desc.objectives.objective_funs import *\n",
    "from desc.objectives.getters import *\n",
    "from desc.objectives.normalization import compute_scaling_factors\n",
    "from desc.objectives.utils import *\n",
    "from desc.optimize._constraint_wrappers import *\n",
    "\n",
    "from desc.transform import Transform\n",
    "from desc.plotting import *\n",
    "from desc.optimize import *\n",
    "from desc.perturbations import *\n",
    "from desc.profiles import *\n",
    "from desc.compat import *\n",
    "from desc.utils import *\n",
    "from desc.magnetic_fields import *\n",
    "\n",
    "from desc.__main__ import main\n",
    "from desc.vmec_utils import vmec_boundary_subspace\n",
    "from desc.input_reader import InputReader\n",
    "from desc.continuation import solve_continuation_automatic\n",
    "from desc.compute.data_index import register_compute_fun\n",
    "from desc.optimize.utils import solve_triangular_regularized\n",
    "\n",
    "print_backend_info()"
   ]
  },
  {
   "cell_type": "code",
   "execution_count": null,
   "metadata": {},
   "outputs": [],
   "source": [
    "from diffrax import *\n",
    "from desc.particles import *\n",
    "from desc.particles import _trace_particles\n",
    "import timeit"
   ]
  },
  {
   "cell_type": "code",
   "execution_count": null,
   "metadata": {},
   "outputs": [],
   "source": [
    "eqi = get(\"precise_QA\")\n",
    "eq = rescale(eq=eqi, L=(\"a\", 1.7044), B=(\"<B>\", 5.86), copy=True)\n",
    "\n",
    "model = VacuumGuidingCenterTrajectory(frame=\"flux\")"
   ]
  },
  {
   "cell_type": "code",
   "execution_count": null,
   "metadata": {},
   "outputs": [],
   "source": [
    "# these will be used as 1e-T\n",
    "ts_to_profile = [1, 2, 3, 4, 5]"
   ]
  },
  {
   "cell_type": "code",
   "execution_count": null,
   "metadata": {},
   "outputs": [],
   "source": [
    "Ns = [1, 10, 30, 100, 300, 500, 1000, 3000, 5000, 10000]\n",
    "Ns = np.array(Ns)\n",
    "np.savetxt(\"Ns_used4all.txt\", Ns)\n",
    "\n",
    "for T in ts_to_profile:\n",
    "    ts = np.linspace(0, 10**(-T), 100)\n",
    "\n",
    "    @jit\n",
    "    def fun(x0, args):\n",
    "        rpz, _ = _trace_particles(\n",
    "            field=eq,\n",
    "            y0=x0,\n",
    "            model_args=args,\n",
    "            model=model,\n",
    "            ts=ts,\n",
    "        )\n",
    "        return rpz\n",
    "\n",
    "    Ts = []\n",
    "    repeat = 5\n",
    "    for n in Ns:\n",
    "        rhos = [0.7] * n\n",
    "        initializer = ManualParticleInitializerFlux(\n",
    "            rho0=rhos,\n",
    "            theta0=0,\n",
    "            zeta0=np.random.rand(n) * 2 * np.pi,\n",
    "            xi0=0.7,\n",
    "            E=3.5e6,\n",
    "            m=4.0,\n",
    "            q=1.0,\n",
    "        )\n",
    "        x0, args = initializer.init_particles(model=model, field=eq)\n",
    "        _ = fun(x0, args).block_until_ready()  # compile\n",
    "        fun_time = lambda: fun(x0, args).block_until_ready()\n",
    "        t = timeit.timeit(fun_time, number=repeat)\n",
    "        print(f\"N={n:^7} and Tf=1e-{T} took {t/repeat:.4f} seconds per run\")\n",
    "        Ts.append(t / repeat)\n",
    "\n",
    "    Ts = np.array(Ts)\n",
    "    np.savetxt(f\"ts_1e-{T}.txt\", Ts)"
   ]
  },
  {
   "cell_type": "code",
   "execution_count": null,
   "metadata": {},
   "outputs": [],
   "source": [
    "Ns = np.loadtxt(\"Ns_used4all.txt\")\n",
    "for T in ts_to_profile:\n",
    "    Tsi = np.loadtxt(f\"ts_1e-{T}-qa.txt\")\n",
    "    plt.semilogx(Ns, Tsi, label=f\"tf = 1e-{T}\")\n",
    "plt.xlabel(\"Number of particles\")\n",
    "plt.ylabel(\"Time per run (seconds)\")\n",
    "plt.legend()\n",
    "plt.title(\"Time to trace particles in reactor size precise_QA\")\n",
    "plt.ylim([0, 10])\n",
    "plt.savefig(\"time_to_trace_particles_precise_qa.png\", dpi=500)"
   ]
  },
  {
   "cell_type": "markdown",
   "metadata": {},
   "source": [
    "# Precise QH"
   ]
  },
  {
   "cell_type": "code",
   "execution_count": null,
   "metadata": {},
   "outputs": [],
   "source": [
    "eqi = get(\"precise_QH\")\n",
    "eq = rescale(eq=eqi, L=(\"a\", 1.7044), B=(\"<B>\", 5.86), copy=True)\n",
    "\n",
    "model = VacuumGuidingCenterTrajectory(frame=\"flux\")\n",
    "# these will be used as 1e-T\n",
    "ts_to_profile = [6, 5, 4, 3]\n",
    "Ns = [1, 10, 30, 100, 300, 500, 1000, 3000, 5000, 10000]\n",
    "Ns = np.array(Ns)\n",
    "np.savetxt(\"Ns_used4all-qh.txt\", Ns)"
   ]
  },
  {
   "cell_type": "code",
   "execution_count": null,
   "metadata": {},
   "outputs": [],
   "source": [
    "for T in ts_to_profile:\n",
    "    ts = np.linspace(0, 10 ** (-T), 100)\n",
    "\n",
    "    @jit\n",
    "    def fun(x0, args):\n",
    "        rpz, _ = _trace_particles(\n",
    "            field=eq, y0=x0, model_args=args, model=model, ts=ts, min_step_size=1e-11,\n",
    "        )\n",
    "        return rpz\n",
    "\n",
    "    Ts = []\n",
    "    repeat = 5\n",
    "    for n in Ns:\n",
    "        rhos = [0.3] * n\n",
    "        initializer = ManualParticleInitializerFlux(\n",
    "            rho0=rhos,\n",
    "            theta0=0,\n",
    "            zeta0=np.random.rand(n) * 2 * np.pi,\n",
    "            xi0=0.3,\n",
    "            E=3.5e6,\n",
    "            m=4.0,\n",
    "            q=1.0,\n",
    "        )\n",
    "        x0, args = initializer.init_particles(model=model, field=eq)\n",
    "        _ = fun(x0, args).block_until_ready()  # compile\n",
    "        fun_time = lambda: fun(x0, args).block_until_ready()\n",
    "        t = timeit.timeit(fun_time, number=repeat)\n",
    "        print(f\"N={n:^7} and Tf=1e-{T} took {t/repeat:.4f} seconds per run\")\n",
    "        Ts.append(t / repeat)\n",
    "\n",
    "    Ts = np.array(Ts)\n",
    "    np.savetxt(f\"ts_1e-{T}-qh-same.txt\", Ts)"
   ]
  },
  {
   "cell_type": "code",
   "execution_count": null,
   "metadata": {},
   "outputs": [],
   "source": [
    "Ts = np.array(\n",
    "    [7.7308, 75.0176, 79.4468, 78.9849, 82.2073, 93.2229, 112.6139, 136.8404, 80, 80]\n",
    ")\n",
    "np.savetxt(f\"ts_1e-3-qh.txt\", Ts)"
   ]
  },
  {
   "cell_type": "code",
   "execution_count": null,
   "metadata": {},
   "outputs": [],
   "source": [
    "Ns = np.loadtxt(\"Ns_used4all-qh.txt\")\n",
    "ts_to_profile = [6, 5, 4]\n",
    "for T in ts_to_profile:\n",
    "    Tsi = np.loadtxt(f\"ts_1e-{T}-qh-same.txt\")\n",
    "    plt.semilogx(Ns, Tsi, label=f\"tf = 1e-{T}\")\n",
    "plt.xlabel(\"Number of particles\")\n",
    "plt.ylabel(\"Time per run (seconds)\")\n",
    "plt.legend()\n",
    "plt.title(\"Time to trace particles in reactor size precise_QH\")\n",
    "# plt.ylim([0, 90])\n",
    "plt.savefig(\"time_to_trace_particles_precise_qh_same.png\", dpi=500)"
   ]
  }
 ],
 "metadata": {
  "kernelspec": {
   "display_name": "gpu",
   "language": "python",
   "name": "python3"
  },
  "language_info": {
   "codemirror_mode": {
    "name": "ipython",
    "version": 3
   },
   "file_extension": ".py",
   "mimetype": "text/x-python",
   "name": "python",
   "nbconvert_exporter": "python",
   "pygments_lexer": "ipython3",
   "version": "3.12.11"
  }
 },
 "nbformat": 4,
 "nbformat_minor": 2
}
