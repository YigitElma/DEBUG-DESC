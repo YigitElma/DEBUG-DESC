{
 "cells": [
  {
   "cell_type": "code",
   "execution_count": null,
   "metadata": {},
   "outputs": [],
   "source": [
    "# import jax\n",
    "# import jax.numpy as jnp\n",
    "\n",
    "# jax.config.update(\"jax_compilation_cache_dir\", \"./jax-caches\")\n",
    "# jax.config.update(\"jax_persistent_cache_min_entry_size_bytes\", -1)\n",
    "# jax.config.update(\"jax_persistent_cache_min_compile_time_secs\", 0)"
   ]
  },
  {
   "cell_type": "code",
   "execution_count": null,
   "metadata": {},
   "outputs": [],
   "source": [
    "import sys\n",
    "import os\n",
    "\n",
    "sys.path.insert(0, os.path.abspath(\".\"))\n",
    "sys.path.append(os.path.abspath(\"../../\"))\n",
    "\n",
    "# os.environ[\"XLA_PYTHON_CLIENT_MEM_FRACTION\"] = \"0.25\"\n",
    "# os.environ[\"XLA_PYTHON_CLIENT_ALLOCATOR\"] = \"platform\"\n",
    "# os.environ[\"XLA_FLAGS\"] = (\n",
    "#     \"--xla_disable_hlo_passes=constant_folding\"  # this disables constant folding\n",
    "# )\n",
    "from desc import set_device\n",
    "set_device(\"gpu\")"
   ]
  },
  {
   "cell_type": "code",
   "execution_count": null,
   "metadata": {},
   "outputs": [],
   "source": [
    "# from desc import set_device, _set_cpu_count\n",
    "\n",
    "# num_device = 2\n",
    "# _set_cpu_count(num_device)\n",
    "# set_device(\"cpu\", num_device=num_device)"
   ]
  },
  {
   "cell_type": "code",
   "execution_count": null,
   "metadata": {},
   "outputs": [],
   "source": [
    "import numpy as np\n",
    "np.set_printoptions(linewidth=np.inf, precision=4, suppress=True, threshold=sys.maxsize)\n",
    "import matplotlib.pyplot as plt\n",
    "%matplotlib inline\n",
    "import plotly.graph_objects as go\n",
    "import functools\n",
    "import scipy"
   ]
  },
  {
   "cell_type": "code",
   "execution_count": null,
   "metadata": {},
   "outputs": [],
   "source": [
    "import desc\n",
    "\n",
    "from desc.basis import *\n",
    "from desc.backend import *\n",
    "from desc.compute import *\n",
    "from desc.coils import *\n",
    "from desc.equilibrium import *\n",
    "from desc.examples import *\n",
    "from desc.grid import *\n",
    "from desc.geometry import *\n",
    "\n",
    "from desc.objectives import *\n",
    "from desc.objectives.objective_funs import *\n",
    "from desc.objectives.getters import *\n",
    "from desc.objectives.normalization import compute_scaling_factors\n",
    "from desc.objectives.utils import *\n",
    "from desc.optimize._constraint_wrappers import *\n",
    "\n",
    "from desc.transform import Transform\n",
    "from desc.plotting import *\n",
    "from desc.optimize import *\n",
    "from desc.perturbations import *\n",
    "from desc.profiles import *\n",
    "from desc.compat import *\n",
    "from desc.utils import *\n",
    "from desc.magnetic_fields import *\n",
    "\n",
    "from desc.__main__ import main\n",
    "from desc.vmec_utils import vmec_boundary_subspace\n",
    "from desc.input_reader import InputReader\n",
    "from desc.continuation import solve_continuation_automatic\n",
    "from desc.compute.data_index import register_compute_fun\n",
    "from desc.optimize.utils import solve_triangular_regularized\n",
    "\n",
    "print_backend_info()"
   ]
  },
  {
   "cell_type": "code",
   "execution_count": null,
   "metadata": {},
   "outputs": [],
   "source": [
    "from desc.particles import *\n",
    "from diffrax import *"
   ]
  },
  {
   "cell_type": "code",
   "execution_count": null,
   "metadata": {},
   "outputs": [],
   "source": [
    "eqi = get(\"precise_QA\")\n",
    "eq = rescale(eq=eqi, L=(\"a\", 1.7044), B=(\"<B>\", 5.86), copy=True)\n",
    "eqi_scaled = eq.copy()\n",
    "# eq = desc.io.load(\"precise_qa_particle_1e-6_5iter.h5\")\n",
    "# eq.iota = eq.get_profile(\"iota\", kind=\"power_series\")\n",
    "# eq.solve(verbose=3);"
   ]
  },
  {
   "cell_type": "code",
   "execution_count": null,
   "metadata": {},
   "outputs": [],
   "source": [
    "N = 50  # particles traced\n",
    "RHO0 = 0.3 * np.ones(N)\n",
    "\n",
    "model_flux = VacuumGuidingCenterTrajectory(frame=\"flux\")\n",
    "particles_flux = ManualParticleInitializerFlux(\n",
    "    rho0=RHO0,\n",
    "    theta0=np.random.rand(N) * 2 * np.pi,\n",
    "    zeta0=np.random.rand(N) * 2 * np.pi,\n",
    "    xi0=np.random.rand(N),\n",
    "    E=3.5e6,\n",
    ")\n",
    "dt = 0.01 / max(particles_flux.vpar0)\n",
    "print(f\"dt = {dt:.2e}\")"
   ]
  },
  {
   "cell_type": "code",
   "execution_count": null,
   "metadata": {},
   "outputs": [],
   "source": [
    "obj = ObjectiveFunction(\n",
    "    DirectParticleTracing(\n",
    "        eq,\n",
    "        particles=particles_flux,\n",
    "        model=model_flux,\n",
    "        solver=Tsit5(),\n",
    "        ts=np.linspace(0, 1e-4, 1000),\n",
    "        min_step_size=dt,\n",
    "        stepsize_controller=PIDController(rtol=1e-8, atol=1e-8, dtmin=dt),\n",
    "        deriv_mode=\"rev\",\n",
    "    )\n",
    ")\n",
    "obj.build()\n",
    "obj.compute_scaled_error(obj.x(eq))"
   ]
  },
  {
   "cell_type": "code",
   "execution_count": null,
   "metadata": {},
   "outputs": [],
   "source": [
    "with jax.log_compiles():\n",
    "    obj.compute_scaled_error(obj.x(eq))"
   ]
  },
  {
   "cell_type": "code",
   "execution_count": null,
   "metadata": {},
   "outputs": [],
   "source": [
    "AR = eq.compute(\"R0/a\")[\"R0/a\"]\n",
    "obj = ObjectiveFunction(\n",
    "    [\n",
    "        DirectParticleTracing(\n",
    "            eq,\n",
    "            particles=particles_flux,\n",
    "            model=model_flux,\n",
    "            solver=Tsit5(),\n",
    "            ts=np.linspace(0, 1e-5, 100),\n",
    "            min_step_size=dt,\n",
    "            stepsize_controller=PIDController(rtol=1e-8, atol=1e-8, dtmin=dt),\n",
    "            deriv_mode=\"rev\",\n",
    "        ),\n",
    "        AspectRatio(eq, target=AR, weight=1e3),\n",
    "    ]\n",
    ")\n",
    "constraints = (ForceBalance(eq), FixPressure(eq), FixPsi(eq), FixCurrent(eq))\n",
    "\n",
    "k = 2\n",
    "R_modes = eq.surface.R_basis.modes[np.max(np.abs(eq.surface.R_basis.modes), 1) > 2, :]\n",
    "Z_modes = eq.surface.Z_basis.modes[np.max(np.abs(eq.surface.Z_basis.modes), 1) > 2, :]\n",
    "bdry_constraints = (\n",
    "    FixBoundaryR(eq=eq, modes=R_modes),\n",
    "    FixBoundaryZ(eq=eq, modes=Z_modes),\n",
    ")\n",
    "\n",
    "eq.optimize(\n",
    "    objective=obj,\n",
    "    constraints=constraints + bdry_constraints,\n",
    "    verbose=3,\n",
    "    maxiter=2,\n",
    "    options={\"max_nfev\": 3, \"initial_trust_ratio\": 1e-3}\n",
    ")"
   ]
  },
  {
   "cell_type": "code",
   "execution_count": null,
   "metadata": {},
   "outputs": [],
   "source": [
    "plot_comparison([eqi_scaled, eq], labels=[\"Initial\", \"Final\"]);"
   ]
  },
  {
   "cell_type": "code",
   "execution_count": null,
   "metadata": {},
   "outputs": [],
   "source": [
    "eq.save(\"precise_qa_particle_1e-5_10iter.h5\")"
   ]
  },
  {
   "cell_type": "code",
   "execution_count": null,
   "metadata": {},
   "outputs": [],
   "source": [
    "ts = np.linspace(0, 1e-6, 1000)\n",
    "fig = plot_3d(eq, \"|B|\", alpha=0.3)\n",
    "\n",
    "fig, data1 = plot_particle_trajectories(\n",
    "    eq,\n",
    "    model_flux,\n",
    "    particles_flux,\n",
    "    ts,\n",
    "    fig=fig,\n",
    "    min_step_size=dt,\n",
    "    color=\"blue\",\n",
    "    return_data=True,\n",
    ")\n",
    "\n",
    "fig2 = plot_3d(eqi_scaled, \"|B|\", alpha=0.3)\n",
    "fig2, data2 = plot_particle_trajectories(\n",
    "    eqi_scaled,\n",
    "    model_flux,\n",
    "    particles_flux,\n",
    "    ts,\n",
    "    fig=fig2,\n",
    "    min_step_size=dt,\n",
    "    color=\"red\",\n",
    "    return_data=True,\n",
    ")\n",
    "# fig"
   ]
  },
  {
   "cell_type": "code",
   "execution_count": null,
   "metadata": {},
   "outputs": [],
   "source": [
    "# fig.write_html(\"optimized_particle_orbits.html\")\n",
    "fig"
   ]
  },
  {
   "cell_type": "code",
   "execution_count": null,
   "metadata": {},
   "outputs": [],
   "source": [
    "# fig.write_html(\"unoptimized_particle_orbits.html\")\n",
    "fig2"
   ]
  },
  {
   "cell_type": "code",
   "execution_count": null,
   "metadata": {},
   "outputs": [],
   "source": [
    "for i, (rhos, phis) in enumerate(zip(data1[\"rho\"], data1[\"phi\"])):\n",
    "    plt.plot(phis, rhos)\n",
    "plt.ylim([0,1])"
   ]
  },
  {
   "cell_type": "code",
   "execution_count": null,
   "metadata": {},
   "outputs": [],
   "source": [
    "for i, (rhos, phis) in enumerate(zip(data2[\"rho\"], data2[\"phi\"])):\n",
    "    plt.plot(phis, rhos)\n",
    "plt.ylim([0, 1])"
   ]
  }
 ],
 "metadata": {
  "kernelspec": {
   "display_name": "gpu",
   "language": "python",
   "name": "python3"
  },
  "language_info": {
   "codemirror_mode": {
    "name": "ipython",
    "version": 3
   },
   "file_extension": ".py",
   "mimetype": "text/x-python",
   "name": "python",
   "nbconvert_exporter": "python",
   "pygments_lexer": "ipython3",
   "version": "3.13.0"
  }
 },
 "nbformat": 4,
 "nbformat_minor": 2
}
