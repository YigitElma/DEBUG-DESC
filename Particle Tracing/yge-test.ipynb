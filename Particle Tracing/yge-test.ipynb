{
 "cells": [
  {
   "cell_type": "code",
   "execution_count": 1,
   "metadata": {},
   "outputs": [],
   "source": [
    "# import jax\n",
    "# import jax.numpy as jnp\n",
    "\n",
    "# jax.config.update(\"jax_compilation_cache_dir\", \"../jax-caches\")\n",
    "# jax.config.update(\"jax_persistent_cache_min_entry_size_bytes\", -1)\n",
    "# jax.config.update(\"jax_persistent_cache_min_compile_time_secs\", 0)"
   ]
  },
  {
   "cell_type": "code",
   "execution_count": 2,
   "metadata": {},
   "outputs": [
    {
     "name": "stderr",
     "output_type": "stream",
     "text": [
      "/home/yigit/Codes/DESC/desc/__init__.py:99: UserWarning: No GPU found, falling back to CPU\n",
      "  warnings.warn(colored(\"No GPU found, falling back to CPU\", \"yellow\"))\n"
     ]
    }
   ],
   "source": [
    "import sys\n",
    "import os\n",
    "\n",
    "sys.path.insert(0, os.path.abspath(\".\"))\n",
    "sys.path.append(os.path.abspath(\"../../\"))\n",
    "\n",
    "# os.environ[\"XLA_PYTHON_CLIENT_MEM_FRACTION\"] = \"0.25\"\n",
    "# os.environ[\"XLA_PYTHON_CLIENT_ALLOCATOR\"] = \"platform\"\n",
    "from desc import set_device\n",
    "set_device(\"gpu\")"
   ]
  },
  {
   "cell_type": "code",
   "execution_count": 3,
   "metadata": {},
   "outputs": [],
   "source": [
    "# from desc import set_device, _set_cpu_count\n",
    "\n",
    "# num_device = 2\n",
    "# _set_cpu_count(num_device)\n",
    "# set_device(\"cpu\", num_device=num_device)"
   ]
  },
  {
   "cell_type": "code",
   "execution_count": 4,
   "metadata": {},
   "outputs": [],
   "source": [
    "import numpy as np\n",
    "np.set_printoptions(linewidth=np.inf, precision=4, suppress=True, threshold=sys.maxsize)\n",
    "import matplotlib.pyplot as plt\n",
    "%matplotlib inline\n",
    "import plotly.graph_objects as go\n",
    "import functools\n",
    "import scipy"
   ]
  },
  {
   "cell_type": "code",
   "execution_count": 5,
   "metadata": {},
   "outputs": [
    {
     "name": "stdout",
     "output_type": "stream",
     "text": [
      "DESC version=0.15.0+31.g40687419f.\n",
      "Using JAX backend: jax version=0.6.2, jaxlib version=0.6.2, dtype=float64.\n",
      "Using device: CPU, with 7.24 GB available memory.\n"
     ]
    }
   ],
   "source": [
    "import desc\n",
    "\n",
    "from desc.basis import *\n",
    "from desc.backend import *\n",
    "from desc.compute import *\n",
    "from desc.coils import *\n",
    "from desc.equilibrium import *\n",
    "from desc.examples import *\n",
    "from desc.grid import *\n",
    "from desc.geometry import *\n",
    "\n",
    "from desc.objectives import *\n",
    "from desc.objectives.objective_funs import *\n",
    "from desc.objectives.getters import *\n",
    "from desc.objectives.normalization import compute_scaling_factors\n",
    "from desc.objectives.utils import *\n",
    "from desc.optimize._constraint_wrappers import *\n",
    "\n",
    "from desc.transform import Transform\n",
    "from desc.plotting import *\n",
    "from desc.optimize import *\n",
    "from desc.perturbations import *\n",
    "from desc.profiles import *\n",
    "from desc.compat import *\n",
    "from desc.utils import *\n",
    "from desc.magnetic_fields import *\n",
    "\n",
    "from desc.__main__ import main\n",
    "from desc.vmec_utils import vmec_boundary_subspace\n",
    "from desc.input_reader import InputReader\n",
    "from desc.continuation import solve_continuation_automatic\n",
    "from desc.compute.data_index import register_compute_fun\n",
    "from desc.optimize.utils import solve_triangular_regularized\n",
    "\n",
    "print_backend_info()"
   ]
  },
  {
   "cell_type": "code",
   "execution_count": 6,
   "metadata": {},
   "outputs": [],
   "source": [
    "# from desc.particles import *\n",
    "# from diffrax import *"
   ]
  },
  {
   "cell_type": "code",
   "execution_count": 14,
   "metadata": {},
   "outputs": [],
   "source": [
    "from desc.vmec import VMECIO\n",
    "eq = VMECIO.load(\"Compare Firm3D/booz_xform/wout_LandremanPaul2021_QH_reactorScale_lowres_reference.nc\", L=8, M=8, N=8, profile=\"current\")"
   ]
  },
  {
   "cell_type": "code",
   "execution_count": 15,
   "metadata": {},
   "outputs": [
    {
     "name": "stdout",
     "output_type": "stream",
     "text": [
      "Building objective: force\n",
      "Precomputing transforms\n",
      "Timer: Precomputing transforms = 1.29 sec\n",
      "Timer: Objective build = 1.40 sec\n",
      "Building objective: lcfs R\n",
      "Building objective: lcfs Z\n",
      "Building objective: fixed Psi\n",
      "Building objective: fixed pressure\n",
      "Building objective: fixed current\n",
      "Building objective: fixed sheet current\n",
      "Building objective: self_consistency R\n",
      "Building objective: self_consistency Z\n",
      "Building objective: lambda gauge\n",
      "Building objective: axis R self consistency\n",
      "Building objective: axis Z self consistency\n",
      "Timer: Objective build = 189 ms\n",
      "Timer: LinearConstraintProjection build = 2.69 sec\n",
      "Number of parameters: 856\n",
      "Number of objectives: 5346\n",
      "Timer: Initializing the optimization = 4.34 sec\n",
      "\n",
      "Starting optimization\n",
      "Using method: lsq-exact\n",
      "   Iteration     Total nfev        Cost      Cost reduction    Step norm     Optimality   \n",
      "       0              1          1.300e-02                                    7.072e-02   \n",
      "       1              2          8.049e-06      1.300e-02      4.891e-02      9.422e-04   \n",
      "       2              3          1.354e-06      6.695e-06      2.997e-02      6.005e-04   \n",
      "       3              4          1.284e-06      7.037e-08      2.011e-02      3.143e-04   \n",
      "       4              5          1.952e-08      1.264e-06      5.596e-03      5.311e-05   \n",
      "       5              7          8.849e-09      1.067e-08      2.481e-03      1.309e-05   \n",
      "       6              9          7.789e-09      1.060e-09      1.234e-03      3.405e-06   \n",
      "       7             10          7.704e-09      8.458e-11      2.468e-03      1.056e-05   \n",
      "       8             11          7.184e-09      5.209e-10      6.314e-04      5.426e-07   \n",
      "       9             12          7.037e-09      1.464e-10      1.264e-03      1.929e-06   \n",
      "      10             13          6.952e-09      8.535e-11      2.620e-03      5.177e-06   \n",
      "      11             14          6.696e-09      2.555e-10      2.690e-03      4.416e-06   \n",
      "      12             15          6.530e-09      1.662e-10      2.725e-03      4.265e-06   \n",
      "      13             16          6.405e-09      1.253e-10      2.746e-03      4.431e-06   \n",
      "      14             17          6.305e-09      9.969e-11      2.749e-03      4.319e-06   \n",
      "      15             18          6.231e-09      7.385e-11      2.730e-03      3.914e-06   \n",
      "      16             19          6.186e-09      4.512e-11      2.697e-03      3.394e-06   \n",
      "Optimization terminated successfully.\n",
      "`ftol` condition satisfied. (ftol=1.00e-02)\n",
      "         Current function value: 6.186e-09\n",
      "         Total delta_x: 5.685e-02\n",
      "         Iterations: 16\n",
      "         Function evaluations: 19\n",
      "         Jacobian evaluations: 17\n",
      "Timer: Solution time = 1.10 min\n",
      "Timer: Avg time per step = 3.89 sec\n",
      "==============================================================================================================\n",
      "                                                                 Start  -->   End\n",
      "Total (sum of squares):                                      1.300e-02  -->   6.186e-09, \n",
      "Maximum absolute Force error:                                6.208e+08  -->   1.874e+05 (N)\n",
      "Minimum absolute Force error:                                2.190e+02  -->   1.403e+00 (N)\n",
      "Average absolute Force error:                                7.183e+06  -->   7.023e+03 (N)\n",
      "Maximum absolute Force error:                                1.297e-01  -->   3.913e-05 (normalized)\n",
      "Minimum absolute Force error:                                4.573e-08  -->   2.930e-10 (normalized)\n",
      "Average absolute Force error:                                1.500e-03  -->   1.467e-06 (normalized)\n",
      "R boundary error:                                            0.000e+00  -->   1.792e-15 (m)\n",
      "Z boundary error:                                            0.000e+00  -->   3.187e-16 (m)\n",
      "Fixed Psi error:                                             0.000e+00  -->   0.000e+00 (Wb)\n",
      "Fixed pressure profile error:                                0.000e+00  -->   0.000e+00 (Pa)\n",
      "Fixed current profile error:                                 0.000e+00  -->   2.447e-24 (A)\n",
      "Fixed sheet current error:                                   0.000e+00  -->   0.000e+00 (~)\n",
      "==============================================================================================================\n",
      "\n"
     ]
    }
   ],
   "source": [
    "eq.solve(verbose=3, maxiter=100);"
   ]
  },
  {
   "cell_type": "code",
   "execution_count": 16,
   "metadata": {},
   "outputs": [],
   "source": [
    "eq.save(\"desc_LandremanPaul2021_QH_reactorScale_lowres_reference_dario_branch.h5\")"
   ]
  },
  {
   "cell_type": "code",
   "execution_count": null,
   "metadata": {},
   "outputs": [],
   "source": []
  }
 ],
 "metadata": {
  "kernelspec": {
   "display_name": "desc-env",
   "language": "python",
   "name": "python3"
  },
  "language_info": {
   "codemirror_mode": {
    "name": "ipython",
    "version": 3
   },
   "file_extension": ".py",
   "mimetype": "text/x-python",
   "name": "python",
   "nbconvert_exporter": "python",
   "pygments_lexer": "ipython3",
   "version": "3.12.11"
  }
 },
 "nbformat": 4,
 "nbformat_minor": 2
}
