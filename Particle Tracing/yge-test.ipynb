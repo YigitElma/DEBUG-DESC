{
 "cells": [
  {
   "cell_type": "code",
   "execution_count": null,
   "metadata": {},
   "outputs": [],
   "source": [
    "# import jax\n",
    "# import jax.numpy as jnp\n",
    "\n",
    "# jax.config.update(\"jax_compilation_cache_dir\", \"../jax-caches\")\n",
    "# jax.config.update(\"jax_persistent_cache_min_entry_size_bytes\", -1)\n",
    "# jax.config.update(\"jax_persistent_cache_min_compile_time_secs\", 0)"
   ]
  },
  {
   "cell_type": "code",
   "execution_count": null,
   "metadata": {},
   "outputs": [],
   "source": [
    "import sys\n",
    "import os\n",
    "\n",
    "sys.path.insert(0, os.path.abspath(\".\"))\n",
    "sys.path.append(os.path.abspath(\"../../\"))\n",
    "\n",
    "# os.environ[\"XLA_PYTHON_CLIENT_MEM_FRACTION\"] = \"0.25\"\n",
    "# os.environ[\"XLA_PYTHON_CLIENT_ALLOCATOR\"] = \"platform\"\n",
    "# from desc import set_device\n",
    "# set_device(\"gpu\")"
   ]
  },
  {
   "cell_type": "code",
   "execution_count": null,
   "metadata": {},
   "outputs": [],
   "source": [
    "# from desc import set_device, _set_cpu_count\n",
    "\n",
    "# num_device = 2\n",
    "# _set_cpu_count(num_device)\n",
    "# set_device(\"cpu\", num_device=num_device)"
   ]
  },
  {
   "cell_type": "code",
   "execution_count": null,
   "metadata": {},
   "outputs": [],
   "source": [
    "import numpy as np\n",
    "np.set_printoptions(linewidth=np.inf, precision=4, suppress=True, threshold=sys.maxsize)\n",
    "import matplotlib.pyplot as plt\n",
    "%matplotlib inline\n",
    "import plotly.graph_objects as go\n",
    "import functools\n",
    "import scipy"
   ]
  },
  {
   "cell_type": "code",
   "execution_count": null,
   "metadata": {},
   "outputs": [],
   "source": [
    "import desc\n",
    "\n",
    "from desc.basis import *\n",
    "from desc.backend import *\n",
    "from desc.compute import *\n",
    "from desc.coils import *\n",
    "from desc.equilibrium import *\n",
    "from desc.examples import *\n",
    "from desc.grid import *\n",
    "from desc.geometry import *\n",
    "\n",
    "from desc.objectives import *\n",
    "from desc.objectives.objective_funs import *\n",
    "from desc.objectives.getters import *\n",
    "from desc.objectives.normalization import compute_scaling_factors\n",
    "from desc.objectives.utils import *\n",
    "from desc.optimize._constraint_wrappers import *\n",
    "\n",
    "from desc.transform import Transform\n",
    "from desc.plotting import *\n",
    "from desc.optimize import *\n",
    "from desc.perturbations import *\n",
    "from desc.profiles import *\n",
    "from desc.compat import *\n",
    "from desc.utils import *\n",
    "from desc.magnetic_fields import *\n",
    "\n",
    "from desc.__main__ import main\n",
    "from desc.vmec_utils import vmec_boundary_subspace\n",
    "from desc.input_reader import InputReader\n",
    "from desc.continuation import solve_continuation_automatic\n",
    "from desc.compute.data_index import register_compute_fun\n",
    "from desc.optimize.utils import solve_triangular_regularized\n",
    "\n",
    "print_backend_info()"
   ]
  },
  {
   "cell_type": "code",
   "execution_count": null,
   "metadata": {},
   "outputs": [],
   "source": [
    "from desc.particles import *"
   ]
  },
  {
   "cell_type": "code",
   "execution_count": null,
   "metadata": {},
   "outputs": [],
   "source": [
    "# field = VerticalMagneticField(B0=1.0)\n",
    "eq = get(\"precise_QA\")\n",
    "R0 = jnp.array([1.2, 1.25])\n",
    "particles = ManualParticleInitializerLab(\n",
    "    R0=R0,\n",
    "    phi0 = jnp.zeros_like(R0),\n",
    "    Z0=jnp.zeros_like(R0),\n",
    "    xi0=0.7*jnp.ones_like(R0),\n",
    "    E = 1e-3,\n",
    "    m = 4.0,\n",
    "    q = 1.0,\n",
    "    eq = eq,\n",
    ")\n",
    "\n",
    "RHO0 = jnp.array([0.5])\n",
    "particles_flux = ManualParticleInitializerFlux(\n",
    "    rho0=RHO0,\n",
    "    theta0 = jnp.zeros_like(RHO0),\n",
    "    zeta0=jnp.zeros_like(RHO0),\n",
    "    xi0=0.1*jnp.ones_like(RHO0),\n",
    "    E = 1e-3,\n",
    "    m = 4.0,\n",
    "    q = 1.0,\n",
    "    eq = eq,\n",
    ")\n",
    "\n",
    "model = VacuumGuidingCenterTrajectory(frame=\"lab\")\n",
    "model_flux = VacuumGuidingCenterTrajectory(frame=\"flux\")"
   ]
  },
  {
   "cell_type": "code",
   "execution_count": null,
   "metadata": {},
   "outputs": [],
   "source": [
    "ts=np.linspace(0, 1e-10, 1)\n",
    "x0, args = particles_flux.init_particles(model=model_flux, field=eq)\n",
    "ms, qs, mus = args[:3]\n",
    "args"
   ]
  },
  {
   "cell_type": "code",
   "execution_count": null,
   "metadata": {},
   "outputs": [],
   "source": [
    "with jax.log_compiles():    \n",
    "    rpz, _ = trace_particles(\n",
    "        eq, x0, ms, qs, mus, model=model_flux, \n",
    "        ts=ts, min_step_size = 1e-10\n",
    "    )\n",
    "rpz"
   ]
  },
  {
   "cell_type": "code",
   "execution_count": null,
   "metadata": {},
   "outputs": [],
   "source": [
    "# Equilibrium is not necessary but helps to find initial particle positions\n",
    "eq = desc.examples.get(\"precise_QA\")\n",
    "grid_trace = desc.grid.LinearGrid(rho=np.linspace(0.5, 1.0, 2))\n",
    "r0 = eq.compute(\"R\", grid=grid_trace)[\"R\"]\n",
    "z0 = eq.compute(\"Z\", grid=grid_trace)[\"Z\"]\n",
    "# grid = LinearGrid(rho=1.0, M=10, N=16, NFP=1, endpoint=True)\n",
    "fig = plot_3d(eq, \"|B|\", alpha=0.5)\n",
    "particles = ManualParticleInitializerLab(\n",
    "    R0=r0,\n",
    "    phi0 = jnp.zeros_like(r0),\n",
    "    Z0=z0,\n",
    "    xi0=0.7*jnp.ones_like(r0),\n",
    "    E = 1e-1,\n",
    "    m = 4.0,\n",
    "    q = 1.0,\n",
    "    eq = eq,\n",
    ")\n",
    "field = desc.io.load(\"../../tests/inputs/precise_QA_helical_coils.h5\") \n",
    "\n",
    "plot_field_lines(field, r0, z0, ntransit=2, color=\"red\", fig=fig)\n",
    "plot_particle_trajectories(field, model, particles, ts=np.linspace(0, 1e-2, 1000), fig=fig)\n",
    "# fig.write_html(\"plot_particle_trajectories.html\")\n",
    "fig"
   ]
  },
  {
   "cell_type": "code",
   "execution_count": null,
   "metadata": {},
   "outputs": [],
   "source": []
  }
 ],
 "metadata": {
  "kernelspec": {
   "display_name": "desc-env",
   "language": "python",
   "name": "python3"
  },
  "language_info": {
   "codemirror_mode": {
    "name": "ipython",
    "version": 3
   },
   "file_extension": ".py",
   "mimetype": "text/x-python",
   "name": "python",
   "nbconvert_exporter": "python",
   "pygments_lexer": "ipython3",
   "version": "3.12.0"
  }
 },
 "nbformat": 4,
 "nbformat_minor": 2
}
