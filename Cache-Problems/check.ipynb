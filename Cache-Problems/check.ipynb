{
 "cells": [
  {
   "cell_type": "code",
   "execution_count": 1,
   "metadata": {},
   "outputs": [
    {
     "name": "stdout",
     "output_type": "stream",
     "text": [
      "cache_1: interpax                      0.3.4\n",
      "cache_2: interpax                      0.3.3\n",
      "\n",
      "cache_1: pip                           24.3.1\n",
      "cache_2: pip                           24.2\n",
      "\n",
      "cache_1: pytest-benchmark              5.0.0\n",
      "cache_2: pytest-benchmark              4.0.0\n",
      "\n",
      "cache_1: virtualenv                    20.27.1\n",
      "cache_2: virtualenv                    20.27.0\n",
      "\n"
     ]
    }
   ],
   "source": [
    "with open('cache_1.txt', 'r') as file:\n",
    "    cache_1 = file.read() \n",
    "with open('cache_2.txt', 'r') as file:\n",
    "    cache_2 = file.read() \n",
    "\n",
    "\n",
    "cache_1_lines = cache_1.split('\\n')\n",
    "cache_2_lines = cache_2.split('\\n')\n",
    "\n",
    "for line1, line2 in zip(cache_1_lines, cache_2_lines):\n",
    "    if line1 != line2:\n",
    "        print(f\"cache_1: {line1}\")\n",
    "        print(f\"cache_2: {line2}\")\n",
    "        print()"
   ]
  }
 ],
 "metadata": {
  "kernelspec": {
   "display_name": "desc-env",
   "language": "python",
   "name": "python3"
  },
  "language_info": {
   "codemirror_mode": {
    "name": "ipython",
    "version": 3
   },
   "file_extension": ".py",
   "mimetype": "text/x-python",
   "name": "python",
   "nbconvert_exporter": "python",
   "pygments_lexer": "ipython3",
   "version": "3.12.7"
  }
 },
 "nbformat": 4,
 "nbformat_minor": 2
}
