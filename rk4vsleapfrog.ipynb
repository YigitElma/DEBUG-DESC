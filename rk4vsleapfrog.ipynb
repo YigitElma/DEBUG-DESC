{
 "cells": [
  {
   "cell_type": "code",
   "execution_count": null,
   "metadata": {},
   "outputs": [
    {
     "data": {
      "image/png": "[encoded data removed]",
      "text/plain": [
       "<Figure size 640x480 with 1 Axes>"
      ]
     },
     "metadata": {},
     "output_type": "display_data"
    }
   ],
   "source": [
    "import numpy as np\n",
    "import matplotlib.pyplot as plt\n",
    "\n",
    "# Define Hamiltonian System\n",
    "def hamiltonian(q, p):\n",
    "    return 0.5 * (q**2 + p**2)\n",
    "\n",
    "# Define parameters\n",
    "N_steps = 10**6  # Number of periods\n",
    "h_rk = 1e-1  # RK4 step size\n",
    "h_lf = 1e-1  # LeapFrog step size\n",
    "\n",
    "# Initial conditions\n",
    "q0, p0 = 1.0, 0.0  # Initial conditions (on unit circle)\n",
    "q_rk4, p_rk4 = q0, p0\n",
    "q_lf, p_lf = q0, p0\n",
    "\n",
    "# Store energy errors\n",
    "energy_rk4 = []\n",
    "energy_lf = []\n",
    "\n",
    "# RK4 Method\n",
    "def rk4_step(q, p, h):\n",
    "    k1_q, k1_p = p, -q\n",
    "    k2_q, k2_p = p + (h / 2) * k1_p, -(q + (h / 2) * k1_q)\n",
    "    k3_q, k3_p = p + (h / 2) * k2_p, -(q + (h / 2) * k2_q)\n",
    "    k4_q, k4_p = p + h * k3_p, -(q + h * k3_q)\n",
    "\n",
    "    q_new = q + (h / 6) * (k1_q + 2 * k2_q + 2 * k3_q + k4_q)\n",
    "    p_new = p + (h / 6) * (k1_p + 2 * k2_p + 2 * k3_p + k4_p)\n",
    "    return q_new, p_new\n",
    "\n",
    "# Leapfrog Method\n",
    "def leapfrog_step(q, p, h):\n",
    "    p_half = p - (h / 2) * q\n",
    "    q_new = q + h * p_half\n",
    "    p_new = p_half - (h / 2) * q_new\n",
    "    return q_new, p_new\n",
    "\n",
    "# Run simulation\n",
    "for i in range(int(N_steps / h_rk)):\n",
    "    # RK4 step\n",
    "    q_rk4, p_rk4 = rk4_step(q_rk4, p_rk4, h_rk)\n",
    "    if i % 100 == 0:\n",
    "        energy_rk4.append(hamiltonian(q_rk4, p_rk4))\n",
    "for i in range(int(N_steps / h_lf)):\n",
    "    # Leapfrog step\n",
    "    q_lf, p_lf = leapfrog_step(q_lf, p_lf, h_lf)\n",
    "    if i % 100 == 0:\n",
    "        energy_lf.append(hamiltonian(q_lf, p_lf))\n",
    "\n",
    "# Plot energy error\n",
    "plt.plot(np.linspace(0, N_steps, len(energy_rk4)), energy_rk4, label=\"RK4\")\n",
    "plt.plot(np.linspace(0, N_steps, len(energy_lf)), energy_lf, label=\"Leapfrog\")\n",
    "plt.ylim(0, 1)\n",
    "plt.legend()\n",
    "plt.show()"
   ]
  },
  {
   "cell_type": "markdown",
   "metadata": {},
   "source": [
    "As can be seen above, for the same step size, after 1 million steps, leap frog still conserves energy but RK4 doesn't."
   ]
  }
 ],
 "metadata": {
  "kernelspec": {
   "display_name": "desc-env",
   "language": "python",
   "name": "python3"
  },
  "language_info": {
   "codemirror_mode": {
    "name": "ipython",
    "version": 3
   },
   "file_extension": ".py",
   "mimetype": "text/x-python",
   "name": "python",
   "nbconvert_exporter": "python",
   "pygments_lexer": "ipython3",
   "version": "3.12.8"
  }
 },
 "nbformat": 4,
 "nbformat_minor": 2
}
