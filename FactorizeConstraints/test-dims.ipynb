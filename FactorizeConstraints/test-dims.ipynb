{
 "cells": [
  {
   "cell_type": "code",
   "execution_count": 1,
   "metadata": {},
   "outputs": [
    {
     "name": "stdout",
     "output_type": "stream",
     "text": [
      "DESC version 0.11.1+536.g11f5b4d36.dirty,using JAX backend, jax version=0.4.25, jaxlib version=0.4.25, dtype=float64\n",
      "Using device: CPU, with 8.15 GB available memory\n"
     ]
    }
   ],
   "source": [
    "import sys\n",
    "import os\n",
    "\n",
    "sys.path.insert(0, os.path.abspath(\".\"))\n",
    "sys.path.append(os.path.abspath(\"../../\"))\n",
    "\n",
    "from desc.objectives import (\n",
    "    ObjectiveFunction,\n",
    "    ForceBalance\n",
    ")\n",
    "import numpy as np\n",
    "from desc.examples import get\n",
    "from desc.objectives.getters import *\n",
    "from desc.optimize import LinearConstraintProjection"
   ]
  },
  {
   "cell_type": "code",
   "execution_count": 2,
   "metadata": {},
   "outputs": [
    {
     "name": "stdout",
     "output_type": "stream",
     "text": [
      "Building objective: force\n",
      "Precomputing transforms\n",
      "Timer: Precomputing transforms = 3.67 sec\n",
      "Timer: Objective build = 13.0 sec\n",
      "Building objective: lcfs R\n",
      "Building objective: lcfs Z\n",
      "Building objective: fixed Psi\n",
      "Building objective: fixed pressure\n",
      "Building objective: fixed current\n",
      "Building objective: fixed sheet current\n",
      "Building objective: self_consistency R\n",
      "Building objective: self_consistency Z\n",
      "Building objective: lambda gauge\n",
      "Building objective: axis R self consistency\n",
      "Building objective: axis Z self consistency\n",
      "Timer: Objective build = 7.03 sec\n",
      "Number of Fixed rows: 452\n",
      "Number of Fixed rows: 34\n",
      "Timer: Linear constraint projection build = 36.6 sec\n",
      "(408, 4286)\n",
      "(4286, 3878)\n"
     ]
    }
   ],
   "source": [
    "eq = get(\"NCSX\")\n",
    "constraints = get_fixed_boundary_constraints(eq)\n",
    "constraints = maybe_add_self_consistency(eq, constraints)\n",
    "constraints = ObjectiveFunction(constraints)\n",
    "\n",
    "objective = ObjectiveFunction(ForceBalance(eq))\n",
    "objective = LinearConstraintProjection(objective, constraints)\n",
    "objective.build(verbose=3)\n",
    "print(objective._A.shape)\n",
    "print(objective._Z.shape)"
   ]
  },
  {
   "cell_type": "code",
   "execution_count": null,
   "metadata": {},
   "outputs": [],
   "source": []
  }
 ],
 "metadata": {
  "kernelspec": {
   "display_name": "desc-env",
   "language": "python",
   "name": "python3"
  },
  "language_info": {
   "codemirror_mode": {
    "name": "ipython",
    "version": 3
   },
   "file_extension": ".py",
   "mimetype": "text/x-python",
   "name": "python",
   "nbconvert_exporter": "python",
   "pygments_lexer": "ipython3",
   "version": "3.12.0"
  }
 },
 "nbformat": 4,
 "nbformat_minor": 2
}
