{
 "cells": [
  {
   "cell_type": "code",
   "execution_count": 2,
   "metadata": {},
   "outputs": [],
   "source": [
    "import sys\n",
    "import os\n",
    "\n",
    "sys.path.insert(0, os.path.abspath(\".\"))\n",
    "sys.path.append(os.path.abspath(\"../../\"))"
   ]
  },
  {
   "cell_type": "code",
   "execution_count": 3,
   "metadata": {},
   "outputs": [],
   "source": [
    "import numpy as np\n",
    "np.set_printoptions(linewidth=np.inf, precision=4, suppress=True, threshold=sys.maxsize)\n",
    "import matplotlib.pyplot as plt\n",
    "%matplotlib inline\n",
    "import plotly.graph_objects as go\n",
    "import functools\n",
    "import scipy"
   ]
  },
  {
   "cell_type": "code",
   "execution_count": null,
   "metadata": {},
   "outputs": [
    {
     "name": "stdout",
     "output_type": "stream",
     "text": [
      "DESC version=0.13.0+1698.gf12602085.\n",
      "Using JAX backend: jax version=0.5.0, jaxlib version=0.5.0, dtype=float64.\n",
      "Using device: CPU, with 7.73 GB available memory.\n"
     ]
    }
   ],
   "source": [
    "import desc\n",
    "\n",
    "from desc.basis import *\n",
    "from desc.backend import *\n",
    "from desc.compute import *\n",
    "from desc.coils import *\n",
    "from desc.equilibrium import *\n",
    "from desc.examples import *\n",
    "from desc.grid import *\n",
    "from desc.geometry import *\n",
    "\n",
    "from desc.objectives import *\n",
    "from desc.objectives.objective_funs import *\n",
    "from desc.objectives.getters import *\n",
    "from desc.objectives.normalization import *\n",
    "from desc.objectives.utils import *\n",
    "from desc.optimize._constraint_wrappers import *\n",
    "\n",
    "from desc.transform import Transform\n",
    "from desc.plotting import *\n",
    "from desc.optimize import *\n",
    "from desc.perturbations import *\n",
    "from desc.profiles import *\n",
    "from desc.compat import *\n",
    "from desc.utils import *\n",
    "from desc.magnetic_fields import *\n",
    "\n",
    "from desc.__main__ import *\n",
    "from desc.vmec_utils import *\n",
    "from desc.input_reader import *\n",
    "from desc.continuation import *\n",
    "\n",
    "print_backend_info()"
   ]
  },
  {
   "cell_type": "code",
   "execution_count": 5,
   "metadata": {},
   "outputs": [
    {
     "data": {
      "text/plain": [
       "(598,)"
      ]
     },
     "execution_count": 5,
     "metadata": {},
     "output_type": "execute_result"
    }
   ],
   "source": [
    "eq = get(\"HELIOTRON\")\n",
    "eq.R_lmn.shape"
   ]
  },
  {
   "cell_type": "code",
   "execution_count": 5,
   "metadata": {},
   "outputs": [
    {
     "name": "stdout",
     "output_type": "stream",
     "text": [
      "5.25e+18\n",
      "9.55e+17\n",
      "5.99e+04\n",
      "1.79e+01\n",
      "1.19e+01\n",
      "1.20e+01\n",
      "1.21e+01\n",
      "1.22e+01\n"
     ]
    }
   ],
   "source": [
    "method = \"direct1\"\n",
    "for L in [18, 20, 25, 30, 36, 54, 72, 90]:\n",
    "    M = eq.M_grid\n",
    "    N = eq.N_grid\n",
    "    grid = ConcentricGrid(L=L, M=M, N=N, NFP=eq.NFP, sym=eq.sym)\n",
    "    transform = Transform(grid=grid, basis=eq.R_basis, method=method)\n",
    "    if method in [\"direct2\"]:\n",
    "        A = transform.matrices[method][0]\n",
    "    elif method in [\"fft\"]:\n",
    "        A = transform.matrices[method][0][0]\n",
    "    else:\n",
    "        A = transform.matrices[method][0][0][0]\n",
    "    cond = np.linalg.cond(A)\n",
    "    print(f\"{cond:.2e}\")"
   ]
  },
  {
   "cell_type": "code",
   "execution_count": 6,
   "metadata": {},
   "outputs": [
    {
     "data": {
      "text/plain": [
       "(5980, 598)"
      ]
     },
     "execution_count": 6,
     "metadata": {},
     "output_type": "execute_result"
    }
   ],
   "source": [
    "A.shape"
   ]
  },
  {
   "cell_type": "code",
   "execution_count": null,
   "metadata": {},
   "outputs": [
    {
     "name": "stdout",
     "output_type": "stream",
     "text": [
      "Building objective: force\n",
      "Precomputing transforms\n",
      "Building objective: lcfs R\n",
      "Building objective: lcfs Z\n",
      "Building objective: fixed Psi\n",
      "Building objective: fixed pressure\n",
      "Building objective: fixed iota\n",
      "Building objective: fixed sheet current\n",
      "Building objective: self_consistency R\n",
      "Building objective: self_consistency Z\n",
      "Building objective: lambda gauge\n",
      "Building objective: axis R self consistency\n",
      "Building objective: axis Z self consistency\n"
     ]
    }
   ],
   "source": [
    "grid = LinearGrid(L=1, M=4, N=4)\n",
    "obj = ObjectiveFunction(ForceBalance(eq))\n",
    "cons = get_fixed_boundary_constraints(eq)\n",
    "cons = maybe_add_self_consistency(eq, cons)\n",
    "con = ObjectiveFunction(cons)\n",
    "obj = LinearConstraintProjection(obj, con)\n",
    "obj.build()"
   ]
  },
  {
   "cell_type": "code",
   "execution_count": 8,
   "metadata": {},
   "outputs": [],
   "source": [
    "J = obj.jac_scaled_error(obj.x())"
   ]
  },
  {
   "cell_type": "code",
   "execution_count": 9,
   "metadata": {},
   "outputs": [
    {
     "name": "stdout",
     "output_type": "stream",
     "text": [
      "2.23e+07\n"
     ]
    }
   ],
   "source": [
    "cond = np.linalg.cond(J)\n",
    "print(f\"{cond:.2e}\")"
   ]
  }
 ],
 "metadata": {
  "kernelspec": {
   "display_name": "desc-env",
   "language": "python",
   "name": "python3"
  },
  "language_info": {
   "codemirror_mode": {
    "name": "ipython",
    "version": 3
   },
   "file_extension": ".py",
   "mimetype": "text/x-python",
   "name": "python",
   "nbconvert_exporter": "python",
   "pygments_lexer": "ipython3",
   "version": "3.12.0"
  }
 },
 "nbformat": 4,
 "nbformat_minor": 2
}
