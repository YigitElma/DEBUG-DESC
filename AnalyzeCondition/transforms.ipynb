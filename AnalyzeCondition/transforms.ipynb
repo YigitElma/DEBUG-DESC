{
 "cells": [
  {
   "cell_type": "code",
   "execution_count": null,
   "metadata": {},
   "outputs": [],
   "source": [
    "import sys\n",
    "import os\n",
    "\n",
    "sys.path.insert(0, os.path.abspath(\".\"))\n",
    "sys.path.append(os.path.abspath(\"../../\"))"
   ]
  },
  {
   "cell_type": "code",
   "execution_count": null,
   "metadata": {},
   "outputs": [],
   "source": [
    "import numpy as np\n",
    "np.set_printoptions(linewidth=np.inf, precision=4, suppress=True, threshold=sys.maxsize)\n",
    "import matplotlib.pyplot as plt\n",
    "%matplotlib inline\n",
    "import plotly.graph_objects as go\n",
    "import functools\n",
    "import scipy"
   ]
  },
  {
   "cell_type": "code",
   "execution_count": null,
   "metadata": {},
   "outputs": [],
   "source": [
    "import desc\n",
    "\n",
    "from desc.basis import *\n",
    "from desc.backend import *\n",
    "from desc.compute import *\n",
    "from desc.coils import *\n",
    "from desc.equilibrium import *\n",
    "from desc.examples import *\n",
    "from desc.grid import *\n",
    "from desc.geometry import *\n",
    "\n",
    "from desc.objectives import *\n",
    "from desc.objectives.objective_funs import *\n",
    "from desc.objectives.getters import *\n",
    "from desc.objectives.normalization import *\n",
    "from desc.objectives.utils import *\n",
    "from desc.optimize._constraint_wrappers import *\n",
    "\n",
    "from desc.transform import Transform\n",
    "from desc.plotting import *\n",
    "from desc.optimize import *\n",
    "from desc.perturbations import *\n",
    "from desc.profiles import *\n",
    "from desc.compat import *\n",
    "from desc.utils import *\n",
    "from desc.magnetic_fields import *\n",
    "\n",
    "from desc.__main__ import *\n",
    "from desc.vmec_utils import *\n",
    "from desc.input_reader import *\n",
    "from desc.continuation import *\n",
    "\n",
    "print_backend_info()"
   ]
  },
  {
   "cell_type": "code",
   "execution_count": null,
   "metadata": {},
   "outputs": [],
   "source": [
    "eq = get(\"precise_QA\")\n",
    "eq.R_lmn.shape"
   ]
  },
  {
   "cell_type": "code",
   "execution_count": null,
   "metadata": {},
   "outputs": [],
   "source": [
    "from desc.optimize.utils import compute_jac_scale\n",
    "\n",
    "method = \"direct1\"\n",
    "tconds = []\n",
    "jconds = []\n",
    "jscaleconds = []\n",
    "ress = np.arange(8, 16)\n",
    "for res in ress:\n",
    "    eq.change_resolution(L=res, M=res, N=res, L_grid=2*res, M_grid=2*res, N_grid=2*res)\n",
    "    grid = ConcentricGrid(L=eq.L_grid, M=eq.M_grid, N=eq.N_grid, NFP=eq.NFP, sym=eq.sym)\n",
    "    transform = Transform(grid=grid, basis=eq.R_basis, method=method)\n",
    "    if method in [\"direct2\"]:\n",
    "        A = transform.matrices[method][0]\n",
    "    elif method in [\"fft\"]:\n",
    "        A = transform.matrices[method][0][0]\n",
    "    else:\n",
    "        A = transform.matrices[method][0][0][0]\n",
    "    tcond = np.linalg.cond(A)\n",
    "    tconds.append(tcond)\n",
    "    print(f\"Condition number for F-Z transform LMN={res:^4} ===>  {tcond:.2e}\")\n",
    "    obj = ObjectiveFunction(ForceBalance(eq), jac_chunk_size=10)\n",
    "    cons = get_fixed_boundary_constraints(eq)\n",
    "    cons = maybe_add_self_consistency(eq, cons)\n",
    "    con = ObjectiveFunction(cons)\n",
    "    obj = LinearConstraintProjection(obj, con)\n",
    "    obj.build(verbose=0)\n",
    "    J = obj.jac_scaled_error(obj.x())\n",
    "    scale, scale_inv = compute_jac_scale(J)\n",
    "    Jcond = np.linalg.cond(J)\n",
    "    Jscalecond = np.linalg.cond(J*scale)\n",
    "    jconds.append(Jcond)\n",
    "    jscaleconds.append(Jscalecond)\n",
    "    print(f\"Condition number for Jacobian LMN={res:^4} ===>  {Jcond:.2e}\")\n",
    "    print(f\"Condition number for preconditioned Jacobian LMN={res:^4} ===>  {Jscalecond:.2e}\")"
   ]
  },
  {
   "cell_type": "code",
   "execution_count": null,
   "metadata": {},
   "outputs": [],
   "source": [
    "A.shape"
   ]
  },
  {
   "cell_type": "code",
   "execution_count": null,
   "metadata": {},
   "outputs": [],
   "source": [
    "grid = LinearGrid(L=1, M=4, N=4)\n",
    "obj = ObjectiveFunction(ForceBalance(eq))\n",
    "cons = get_fixed_boundary_constraints(eq)\n",
    "cons = maybe_add_self_consistency(eq, cons)\n",
    "con = ObjectiveFunction(cons)\n",
    "obj = LinearConstraintProjection(obj, con)\n",
    "obj.build()"
   ]
  },
  {
   "cell_type": "code",
   "execution_count": null,
   "metadata": {},
   "outputs": [],
   "source": [
    "J = obj.jac_scaled_error(obj.x())"
   ]
  },
  {
   "cell_type": "code",
   "execution_count": null,
   "metadata": {},
   "outputs": [],
   "source": [
    "cond = np.linalg.cond(J)\n",
    "print(f\"{cond:.2e}\")"
   ]
  }
 ],
 "metadata": {
  "kernelspec": {
   "display_name": "desc-env",
   "language": "python",
   "name": "python3"
  },
  "language_info": {
   "codemirror_mode": {
    "name": "ipython",
    "version": 3
   },
   "file_extension": ".py",
   "mimetype": "text/x-python",
   "name": "python",
   "nbconvert_exporter": "python",
   "pygments_lexer": "ipython3",
   "version": "3.12.0"
  }
 },
 "nbformat": 4,
 "nbformat_minor": 2
}
