{
 "cells": [
  {
   "cell_type": "code",
   "execution_count": 1,
   "metadata": {},
   "outputs": [],
   "source": [
    "import sys\n",
    "import os\n",
    "\n",
    "sys.path.insert(0, os.path.abspath(\".\"))\n",
    "sys.path.append(os.path.abspath(\"../../\"))"
   ]
  },
  {
   "cell_type": "code",
   "execution_count": 2,
   "metadata": {},
   "outputs": [],
   "source": [
    "import jax\n",
    "\n",
    "jax.config.update(\"jax_compilation_cache_dir\", \"../jax-caches\")\n",
    "jax.config.update(\"jax_persistent_cache_min_entry_size_bytes\", -1)\n",
    "jax.config.update(\"jax_persistent_cache_min_compile_time_secs\", 0)\n",
    "\n",
    "from desc import set_device\n",
    "set_device(\"gpu\")"
   ]
  },
  {
   "cell_type": "code",
   "execution_count": 3,
   "metadata": {},
   "outputs": [],
   "source": [
    "import numpy as np\n",
    "np.set_printoptions(linewidth=np.inf, precision=4, suppress=True, threshold=sys.maxsize)\n",
    "import matplotlib.pyplot as plt\n",
    "%matplotlib inline\n",
    "import plotly.graph_objects as go\n",
    "import functools\n",
    "import scipy"
   ]
  },
  {
   "cell_type": "code",
   "execution_count": 4,
   "metadata": {},
   "outputs": [
    {
     "name": "stdout",
     "output_type": "stream",
     "text": [
      "DESC version=0.14.2+166.g95db9f638.\n",
      "Using JAX backend: jax version=0.6.0, jaxlib version=0.6.0, dtype=float64.\n",
      "Using device: NVIDIA A100-PCIE-40GB (id=0), with 40.00 GB available memory.\n"
     ]
    }
   ],
   "source": [
    "import desc\n",
    "\n",
    "from desc.basis import *\n",
    "from desc.backend import *\n",
    "from desc.compute import *\n",
    "from desc.coils import *\n",
    "from desc.equilibrium import *\n",
    "from desc.examples import *\n",
    "from desc.grid import *\n",
    "from desc.geometry import *\n",
    "\n",
    "from desc.objectives import *\n",
    "from desc.objectives.objective_funs import *\n",
    "from desc.objectives.getters import *\n",
    "from desc.objectives.normalization import *\n",
    "from desc.objectives.utils import *\n",
    "from desc.optimize._constraint_wrappers import *\n",
    "\n",
    "from desc.transform import Transform\n",
    "from desc.plotting import *\n",
    "from desc.optimize import *\n",
    "from desc.perturbations import *\n",
    "from desc.profiles import *\n",
    "from desc.compat import *\n",
    "from desc.utils import *\n",
    "from desc.magnetic_fields import *\n",
    "\n",
    "from desc.__main__ import *\n",
    "from desc.vmec_utils import *\n",
    "from desc.input_reader import *\n",
    "from desc.continuation import *\n",
    "\n",
    "print_backend_info()"
   ]
  },
  {
   "cell_type": "code",
   "execution_count": 75,
   "metadata": {},
   "outputs": [
    {
     "data": {
      "text/plain": [
       "1462"
      ]
     },
     "execution_count": 75,
     "metadata": {},
     "output_type": "execute_result"
    }
   ],
   "source": [
    "eq = get(\"precise_QA\")\n",
    "eq.dim_x"
   ]
  },
  {
   "cell_type": "code",
   "execution_count": 79,
   "metadata": {},
   "outputs": [
    {
     "name": "stdout",
     "output_type": "stream",
     "text": [
      "LMN= 8           F-Z transform           ===>  7.10e+00\n",
      "LMN= 8              Jacobian             ===>  3.87e+07\n",
      "LMN= 8      Preconditioned Jacobian      ===>  5.27e+06\n",
      "LMN= 8     Preconditioned Jacobian 2     ===>  7.84e+03\n",
      "LMN= 8     Preconditioned Jacobian 3     ===>  6.92e+02\n",
      "LMN= 9           F-Z transform           ===>  7.53e+00\n",
      "LMN= 9              Jacobian             ===>  2.55e+08\n",
      "LMN= 9      Preconditioned Jacobian      ===>  4.10e+07\n",
      "LMN= 9     Preconditioned Jacobian 2     ===>  5.07e+03\n",
      "LMN= 9     Preconditioned Jacobian 3     ===>  9.67e+02\n",
      "LMN= 10          F-Z transform           ===>  7.99e+00\n",
      "LMN= 10             Jacobian             ===>  2.18e+09\n",
      "LMN= 10     Preconditioned Jacobian      ===>  2.57e+08\n",
      "LMN= 10    Preconditioned Jacobian 2     ===>  1.19e+04\n",
      "LMN= 10    Preconditioned Jacobian 3     ===>  1.10e+03\n",
      "LMN= 11          F-Z transform           ===>  8.46e+00\n",
      "LMN= 11             Jacobian             ===>  6.26e+09\n",
      "LMN= 11     Preconditioned Jacobian      ===>  7.39e+08\n",
      "LMN= 11    Preconditioned Jacobian 2     ===>  7.76e+03\n",
      "LMN= 11    Preconditioned Jacobian 3     ===>  1.29e+03\n",
      "LMN= 12          F-Z transform           ===>  8.90e+00\n",
      "LMN= 12             Jacobian             ===>  1.88e+10\n",
      "LMN= 12     Preconditioned Jacobian      ===>  1.85e+09\n",
      "LMN= 12    Preconditioned Jacobian 2     ===>  1.77e+04\n",
      "LMN= 12    Preconditioned Jacobian 3     ===>  1.58e+03\n",
      "LMN= 13          F-Z transform           ===>  9.29e+00\n",
      "LMN= 13             Jacobian             ===>  3.83e+10\n",
      "LMN= 13     Preconditioned Jacobian      ===>  3.55e+09\n",
      "LMN= 13    Preconditioned Jacobian 2     ===>  1.20e+04\n",
      "LMN= 13    Preconditioned Jacobian 3     ===>  2.06e+03\n",
      "LMN= 14          F-Z transform           ===>  9.67e+00\n",
      "LMN= 14             Jacobian             ===>  8.90e+10\n",
      "LMN= 14     Preconditioned Jacobian      ===>  7.24e+09\n",
      "LMN= 14    Preconditioned Jacobian 2     ===>  2.41e+04\n",
      "LMN= 14    Preconditioned Jacobian 3     ===>  2.40e+03\n",
      "LMN= 15          F-Z transform           ===>  1.01e+01\n",
      "LMN= 15             Jacobian             ===>  1.62e+11\n",
      "LMN= 15     Preconditioned Jacobian      ===>  1.57e+10\n",
      "LMN= 15    Preconditioned Jacobian 2     ===>  1.61e+04\n",
      "LMN= 15    Preconditioned Jacobian 3     ===>  2.96e+03\n",
      "LMN= 16          F-Z transform           ===>  1.05e+01\n",
      "LMN= 16             Jacobian             ===>  3.68e+11\n",
      "LMN= 16     Preconditioned Jacobian      ===>  3.75e+10\n",
      "LMN= 16    Preconditioned Jacobian 2     ===>  3.23e+04\n",
      "LMN= 16    Preconditioned Jacobian 3     ===>  3.43e+03\n"
     ]
    }
   ],
   "source": [
    "from desc.optimize.utils import compute_jac_scale\n",
    "\n",
    "method = \"direct1\"\n",
    "tconds = []\n",
    "jconds = []\n",
    "jscaleconds = []\n",
    "jtconds = []\n",
    "jtsconds = []\n",
    "ress = np.arange(8, 17)\n",
    "for res in ress:\n",
    "    eq.change_resolution(L=res, M=res, N=res, L_grid=2*res, M_grid=2*res, N_grid=2*res)\n",
    "    grid = ConcentricGrid(L=eq.L_grid, M=eq.M_grid, N=eq.N_grid, NFP=eq.NFP, sym=eq.sym)\n",
    "    transform = Transform(grid=grid, basis=eq.R_basis, method=method)\n",
    "    if method in [\"direct2\"]:\n",
    "        A = transform.matrices[method][0]\n",
    "    elif method in [\"fft\"]:\n",
    "        A = transform.matrices[method][0][0]\n",
    "    else:\n",
    "        A = transform.matrices[method][0][0][0]\n",
    "    tcond = jnp.linalg.cond(A)\n",
    "    tconds.append(tcond)\n",
    "    P = jnp.concatenate([A, A], axis=0)\n",
    "    Pinv = jnp.linalg.pinv(P)\n",
    "    print(f\"LMN={res:^4} {'F-Z transform':^30}  ===>  {tcond:.2e}\")\n",
    "    obj = ObjectiveFunction(ForceBalance(eq), jac_chunk_size=1)\n",
    "    cons = get_fixed_boundary_constraints(eq)\n",
    "    cons = maybe_add_self_consistency(eq, cons)\n",
    "    con = ObjectiveFunction(cons)\n",
    "    obj = LinearConstraintProjection(obj, con)\n",
    "    obj.build(verbose=0)\n",
    "    J = obj.jac_scaled_error(obj.x())\n",
    "    scale, scale_inv = compute_jac_scale(J)\n",
    "    Jcond = jnp.linalg.cond(J)\n",
    "    Jscalecond = jnp.linalg.cond(J*scale)\n",
    "    JTcond = jnp.linalg.cond(Pinv@J)\n",
    "    scale2, _ = compute_jac_scale(Pinv@J)\n",
    "    JTScond = jnp.linalg.cond(scale2*(Pinv@J))\n",
    "    jtconds.append(JTcond)\n",
    "    jtsconds.append(JTScond)\n",
    "    jconds.append(Jcond)\n",
    "    jscaleconds.append(Jscalecond)\n",
    "    print(f\"LMN={res:^4} {'Jacobian':^30}  ===>  {Jcond:.2e}\")\n",
    "    print(f\"LMN={res:^4} {'Preconditioned Jacobian':^30}  ===>  {Jscalecond:.2e}\")\n",
    "    print(f\"LMN={res:^4} {'Preconditioned Jacobian 2':^30}  ===>  {JTcond:.2e}\")\n",
    "    print(f\"LMN={res:^4} {'Preconditioned Jacobian 3':^30}  ===>  {JTScond:.2e}\")\n",
    "    del J, A"
   ]
  },
  {
   "cell_type": "code",
   "execution_count": 80,
   "metadata": {},
   "outputs": [
    {
     "data": {
      "image/png": "[encoded data removed]",
      "text/plain": [
       "<Figure size 432x288 with 1 Axes>"
      ]
     },
     "metadata": {},
     "output_type": "display_data"
    }
   ],
   "source": [
    "plt.plot(ress, tconds)\n",
    "plt.xlabel(\"Resolution (L=M=N)\")\n",
    "plt.ylabel(\"Condition Number\")\n",
    "plt.title(\"Condition Number of Fourier-Zernike Transform\")\n",
    "plt.savefig(\"fz-transform-condition-number.png\", dpi=400)"
   ]
  },
  {
   "cell_type": "code",
   "execution_count": 81,
   "metadata": {},
   "outputs": [
    {
     "data": {
      "image/png": "[encoded data removed]",
      "text/plain": [
       "<Figure size 432x288 with 1 Axes>"
      ]
     },
     "metadata": {},
     "output_type": "display_data"
    }
   ],
   "source": [
    "plt.semilogy(ress, jconds, label=\"Jacobian\")\n",
    "plt.semilogy(ress, jscaleconds, label=\"Column normalized Jacobian\")\n",
    "plt.semilogy(ress, jtconds, label=\"Transform Inverse Jacobian\")\n",
    "plt.semilogy(ress, jtsconds, label=\"Transform Inverse Column Normalized Jacobian\")\n",
    "plt.legend()\n",
    "plt.xlabel(\"Resolution (L=M=N)\")\n",
    "plt.ylabel(\"Condition Number\")\n",
    "plt.title(\"Condition Number of Force Objective Jacobian\")\n",
    "plt.savefig(\"jacobian-condition-number.png\", dpi=400)"
   ]
  },
  {
   "cell_type": "code",
   "execution_count": 71,
   "metadata": {},
   "outputs": [],
   "source": [
    "eq = get(\"W7-X\")\n",
    "# res = 8\n",
    "# eq.change_resolution(L=res, M=res, N=res, L_grid=2*res, M_grid=2*res, N_grid=2*res)\n",
    "grid = ConcentricGrid(L=eq.L_grid, M=eq.M_grid, N=eq.N_grid, NFP=eq.NFP, sym=eq.sym)\n",
    "transformR = Transform(grid=grid, basis=eq.R_basis, method=method)\n",
    "transformZ = Transform(grid=grid, basis=eq.Z_basis, method=method)\n",
    "transformL = Transform(grid=grid, basis=eq.L_basis, method=method)\n",
    "A = transformR.matrices[method][0][0][0]\n",
    "B = transformZ.matrices[method][0][0][0]\n",
    "C = transformL.matrices[method][0][0][0]\n",
    "obj = ObjectiveFunction(ForceBalance(eq), jac_chunk_size=1)\n",
    "cons = get_fixed_boundary_constraints(eq)\n",
    "cons = maybe_add_self_consistency(eq, cons)\n",
    "con = ObjectiveFunction(cons)\n",
    "obj = LinearConstraintProjection(obj, con)\n",
    "obj.build(verbose=0)\n",
    "J = obj.jac_scaled_error(obj.x())"
   ]
  },
  {
   "cell_type": "code",
   "execution_count": 72,
   "metadata": {},
   "outputs": [],
   "source": [
    "# P = jnp.concatenate([A, B], axis=1)\n",
    "# P = jnp.block([[A, jnp.zeros((A.shape[0], B.shape[1]))], [jnp.zeros((B.shape[0], A.shape[1])), B]])\n",
    "P = jnp.concatenate([A, A], axis=0)"
   ]
  },
  {
   "cell_type": "code",
   "execution_count": 73,
   "metadata": {},
   "outputs": [
    {
     "data": {
      "text/plain": [
       "((5346, 1141), (5346, 2784))"
      ]
     },
     "execution_count": 73,
     "metadata": {},
     "output_type": "execute_result"
    }
   ],
   "source": [
    "P.shape, J.shape"
   ]
  },
  {
   "cell_type": "code",
   "execution_count": 74,
   "metadata": {},
   "outputs": [
    {
     "data": {
      "text/plain": [
       "(Array(9.0494, dtype=float64),\n",
       " Array(3363.6827, dtype=float64),\n",
       " Array(1542731.3698, dtype=float64))"
      ]
     },
     "execution_count": 74,
     "metadata": {},
     "output_type": "execute_result"
    }
   ],
   "source": [
    "Pinv = jnp.linalg.pinv(P)\n",
    "cond1 = jnp.linalg.cond(Pinv)\n",
    "cond2 = jnp.linalg.cond(Pinv@J)\n",
    "cond3 = jnp.linalg.cond(J)\n",
    "cond1, cond2, cond3"
   ]
  },
  {
   "cell_type": "code",
   "execution_count": 67,
   "metadata": {},
   "outputs": [
    {
     "data": {
      "text/plain": [
       "Transform at 0x15407f7a8da0 (method=fft, basis=FourierZernikeBasis at 0x1540800b22d0 (L=24, M=12, N=3, NFP=19, sym=cos, spectral_indexing=fringe), grid=ConcentricGrid at 0x1540b883a630 (L=36, M=18, N=6, NFP=19, sym=True, is_meshgrid=False, node_pattern=jacobi, coordinates=rtz))"
      ]
     },
     "execution_count": 67,
     "metadata": {},
     "output_type": "execute_result"
    }
   ],
   "source": [
    "obj.objectives[0].constants[\"transforms\"][\"R\"]"
   ]
  },
  {
   "cell_type": "code",
   "execution_count": null,
   "metadata": {},
   "outputs": [],
   "source": []
  }
 ],
 "metadata": {
  "kernelspec": {
   "display_name": "desc-env [~/.conda/envs/desc-env/]",
   "language": "python",
   "name": "conda_desc-env"
  },
  "language_info": {
   "codemirror_mode": {
    "name": "ipython",
    "version": 3
   },
   "file_extension": ".py",
   "mimetype": "text/x-python",
   "name": "python",
   "nbconvert_exporter": "python",
   "pygments_lexer": "ipython3",
   "version": "3.12.8"
  }
 },
 "nbformat": 4,
 "nbformat_minor": 4
}
