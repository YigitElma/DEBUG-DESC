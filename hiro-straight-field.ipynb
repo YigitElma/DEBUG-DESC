{
 "cells": [
  {
   "cell_type": "code",
   "execution_count": 1,
   "metadata": {},
   "outputs": [],
   "source": [
    "import plotly.graph_objects as go\n",
    "import numpy as np"
   ]
  },
  {
   "cell_type": "code",
   "execution_count": 3,
   "metadata": {},
   "outputs": [
    {
     "data": {
      "application/vnd.plotly.v1+json": {
       "config": {
        "plotlyServerURL": "https://plot.ly"
       },
       "data": [
        {
         "line": {
          "color": "blue"
         },
         "mode": "lines",
         "type": "scatter3d",
         "x": [
          2.2,
          -1.8005010854650405
         ],
         "y": [
          0,
          1.2641977065472045
         ],
         "z": [
          0,
          5
         ]
        },
        {
         "line": {
          "color": "blue"
         },
         "mode": "lines",
         "type": "scatter3d",
         "x": [
          2.0807979317413965,
          -2.113429294619199
         ],
         "y": [
          0.7143388322503037,
          0.6110782410177903
         ],
         "z": [
          0,
          5
         ]
        },
        {
         "line": {
          "color": "blue"
         },
         "mode": "lines",
         "type": "scatter3d",
         "x": [
          1.736109120672066,
          -2.197334646467057
         ],
         "y": [
          1.3512679679172692,
          -0.10826103378176051
         ],
         "z": [
          0,
          5
         ]
        },
        {
         "line": {
          "color": "blue"
         },
         "mode": "lines",
         "type": "scatter3d",
         "x": [
          1.2032859478693396,
          -2.043124694210223
         ],
         "y": [
          1.8417662521775628,
          -0.8158685457280381
         ],
         "z": [
          0,
          5
         ]
        },
        {
         "line": {
          "color": "blue"
         },
         "mode": "lines",
         "type": "scatter3d",
         "x": [
          0.5400680717097583,
          -1.6675104789896746
         ],
         "y": [
          2.132680585066527,
          -1.4350640412398419
         ],
         "z": [
          0,
          5
         ]
        },
        {
         "line": {
          "color": "blue"
         },
         "mode": "lines",
         "type": "scatter3d",
         "x": [
          -0.18167456003913102,
          -1.1111956292796135
         ],
         "y": [
          2.192485884614674,
          -1.898748080570428
         ],
         "z": [
          0,
          5
         ]
        },
        {
         "line": {
          "color": "blue"
         },
         "mode": "lines",
         "type": "scatter3d",
         "x": [
          -0.8837299342365325,
          -0.4344654911604172
         ],
         "y": [
          2.014701318641127,
          -2.156673303259151
         ],
         "z": [
          0,
          5
         ]
        },
        {
         "line": {
          "color": "blue"
         },
         "mode": "lines",
         "type": "scatter3d",
         "x": [
          -1.4900194575766301,
          0.28934572435270245
         ],
         "y": [
          1.6185926034808902,
          -2.180889509305506
         ],
         "z": [
          0,
          5
         ]
        },
        {
         "line": {
          "color": "blue"
         },
         "mode": "lines",
         "type": "scatter3d",
         "x": [
          -1.934842252654276,
          0.981801840970704
         ],
         "y": [
          1.0470842646815621,
          -1.968772497031218
         ],
         "z": [
          0,
          5
         ]
        },
        {
         "line": {
          "color": "blue"
         },
         "mode": "lines",
         "type": "scatter3d",
         "x": [
          -2.1699948674859892,
          1.5678644938943336
         ],
         "y": [
          0.3621080986176149,
          -1.5433084360507674
         ],
         "z": [
          0,
          5
         ]
        },
        {
         "line": {
          "color": "blue"
         },
         "mode": "lines",
         "type": "scatter3d",
         "x": [
          -2.1699948674859897,
          1.9840247009802938
         ],
         "y": [
          -0.36210809861761434,
          -0.9506029591264992
         ],
         "z": [
          0,
          5
         ]
        },
        {
         "line": {
          "color": "blue"
         },
         "mode": "lines",
         "type": "scatter3d",
         "x": [
          -1.9348422526542761,
          2.185185046399884
         ],
         "y": [
          -1.047084264681562,
          -0.25488490145620235
         ],
         "z": [
          0,
          5
         ]
        },
        {
         "line": {
          "color": "blue"
         },
         "mode": "lines",
         "type": "scatter3d",
         "x": [
          -1.4900194575766312,
          2.149546685402529
         ],
         "y": [
          -1.6185926034808888,
          0.4684538902336087
         ],
         "z": [
          0,
          5
         ]
        },
        {
         "line": {
          "color": "blue"
         },
         "mode": "lines",
         "type": "scatter3d",
         "x": [
          -0.8837299342365338,
          1.8809715873884398
         ],
         "y": [
          -2.014701318641126,
          1.1410284341055716
         ],
         "z": [
          0,
          5
         ]
        },
        {
         "line": {
          "color": "blue"
         },
         "mode": "lines",
         "type": "scatter3d",
         "x": [
          -0.18167456003913204,
          1.408564031599468
         ],
         "y": [
          -2.192485884614674,
          1.6899548422618438
         ],
         "z": [
          0,
          5
         ]
        },
        {
         "line": {
          "color": "blue"
         },
         "mode": "lines",
         "type": "scatter3d",
         "x": [
          0.5400680717097573,
          0.7835167068638295
         ],
         "y": [
          -2.1326805850665274,
          2.0557484209078845
         ],
         "z": [
          0,
          5
         ]
        },
        {
         "line": {
          "color": "blue"
         },
         "mode": "lines",
         "type": "scatter3d",
         "x": [
          1.2032859478693385,
          0.07356318942515544
         ],
         "y": [
          -1.8417662521775635,
          2.198769759925218
         ],
         "z": [
          0,
          5
         ]
        },
        {
         "line": {
          "color": "blue"
         },
         "mode": "lines",
         "type": "scatter3d",
         "x": [
          1.7361091206720656,
          -0.6443620410382277
         ],
         "y": [
          -1.3512679679172699,
          2.103520278026587
         ],
         "z": [
          0,
          5
         ]
        },
        {
         "line": {
          "color": "blue"
         },
         "mode": "lines",
         "type": "scatter3d",
         "x": [
          2.0807979317413965,
          -1.2924606460478871
         ],
         "y": [
          -0.7143388322503043,
          1.7803217345237008
         ],
         "z": [
          0,
          5
         ]
        },
        {
         "line": {
          "color": "blue"
         },
         "mode": "lines",
         "type": "scatter3d",
         "x": [
          2.2,
          -1.800501085465039
         ],
         "y": [
          -5.388445916248355e-16,
          1.2641977065472065
         ],
         "z": [
          0,
          5
         ]
        },
        {
         "line": {
          "color": "red",
          "width": 3
         },
         "mode": "lines",
         "type": "scatter3d",
         "x": {
          "bdata": "mpmZmZmZAUD5T3Bdh5ABQIbWwwJadQFAO8BejS1IAUAg+SWOMAkBQHh1GPOjuABAjeFgxNpWAEA/oXydc8j/PxxLOHduwv4/Z6KILrSc/T+S6lKLc1j8Pz/YsMz69vo/4CVkULZ5+T+m2D0bL+L3P/ph/EMJMvY/HTxCQgJr9D//Y2Mj747yPyMK46a6n/A/yccnicY+7T+yKMk88h/pP34w7b835+Q/Z8thHPGY4D/nyz8kHXPYP/M2GBBINs8/siMok1LMuj+v4Hl9Fd+hv45DMwIZUca/jpjdurUJ1L8kDr0jN9bcv6LAomZ/wuK/kKSntowG57/wZfPL3TLrv013DmglQ++/nJmZmZmZ8b9LZNkGfH/zvxb6jR9FUfW/Lq5pvxQN97/xkfpoIbH4v2enQR26O/q/91wKGkir+7/NODZ9UP78vxh8TMt1M/6/oiS7V3lJ/7+4+KpGnh8AwJxl4ArhiQDAyoVKbxfjAMByOJp95SoBwCl7MDEBYQHAARBrwzKFAcARNyPlVJcBwBE3I+VUlwHAARBrwzKFAcApezAxAWEBwHI4mn3lKgHAyoVKbxfjAMCdZeAK4YkAwLj4qkaeHwDAoyS7V3lJ/78XfEzLdTP+v844Nn1Q/vy/9lwKGkir+79op0Edujv6v/CR+mghsfi/MK5pvxQN978U+o0fRVH1v01k2QZ8f/O/lpmZmZmZ8b9Kdw5oJUPvv/Bl88vdMuu/laSntowG57+awKJmf8Livx0OvSM31ty/jpjdurUJ1L+iQzMCGVHGvyrgeX0V36G/0iMok1LMuj/gNhgQSDbPP9bLPyQdc9g/a8thHPGY4D9+MO2/N+fkP64oyTzyH+k/0ccnicY+7T8lCuOmup/wP/9jYyPvjvI/GzxCQgJr9D/9YfxDCTL2P6fYPRsv4vc/4CVkULZ5+T892LDM+vb6P5TqUotzWPw/Z6KILrSc/T8cSzh3bsL+Pz2hfJ1zyP8/jeFgxNpWAEB4dRjzo7gAQCD5JY4wCQFAPMBejS1IAUCG1sMCWnUBQPlPcF2HkAFAmpmZmZmZAUA=",
          "dtype": "f8"
         },
         "y": {
          "bdata": "AAAAAAAAAAAErcd6NNzBP7wqaer/0tE/B/Hj84Wl2j+qfKIbSq7hPwojP3GX9+U/Ybxb2z8q6j/2RiOS70HuPwFEok03HfE/2eCakdIH8z8B+anaz970P1MYQqdJoPY/ATQSo3BK+D9Hz6GEjdv5P8mTJNICUvs/8pSyi06s/D8d4y25C+n9P2tFO9rzBv8/C2VpG3ACAECRnoaH5XAAQGWtelRozgBAyE2jHZgaAUBzzxNaJlUBQAOtia3WfQFAFRKlJn+UAUCqLCVqCJkBQFK4+8ptiwFAnfEeT71rAUDd+RShFzoBQM+RR+6v9gBARuFCssuhAEArrRVvwjsAQKehOab6if8/7u0tme17/j8HrOAWdE79P6YPkePEAvw/S8aM5zWa+j9I5b3OOhb5PzViioljePc/CgWQsFrC9T8qzeXM4/XzP1MVqIbZFPI/UkOvuysh8D8KwtIAuznsPysNyxkGFOg/H89oMH/V4z8WLk6RDAXfP2SlovMgP9Y/DKkBWY3Eyj/XJNYQgt6xP/ck1hCC3rG/HKkBWY3Eyr9spaLzID/WvwwuTpEMBd+/I89oMH/V478nDcsZBhTovw3C0gC7Oey/UEOvuysh8L9UFaiG2RTyvyjN5czj9fO/DAWQsFrC9b8zYoqJY3j3v0rlvc46Fvm/SsaM5zWa+r+nD5HjxAL8vwWs4BZ0Tv2/8e0tme17/r+ooTmm+on/vyutFW/COwDARuFCssuhAMDPkUfur/YAwN35FKEXOgHAnfEeT71rAcBSuPvKbYsBwKosJWoImQHAFRKlJn+UAcADrYmt1n0BwHTPE1omVQHAyE2jHZgaAcBlrXpUaM4AwJGehoflcADACmVpG3ACAMBqRTva8wb/vx3jLbkL6f2/9JSyi06s/L/HkyTSAlL7v0bPoYSN2/m/ATQSo3BK+L9WGEKnSaD2v/74qdrP3vS/2OCakdIH878CRKJNNx3xv/xGI5LvQe6/W7xb2z8q6r8JIz9xl/flv618ohtKruG/9PDj84Wl2r+zKmnq/9LRvwWtx3o03MG/b5jJ0fZpw7w=",
          "dtype": "f8"
         },
         "z": {
          "bdata": "AAAAAAAAFEAAAAAAAAAUQAAAAAAAABRAAAAAAAAAFEAAAAAAAAAUQAAAAAAAABRAAAAAAAAAFEAAAAAAAAAUQAAAAAAAABRAAAAAAAAAFEAAAAAAAAAUQAAAAAAAABRAAAAAAAAAFEAAAAAAAAAUQAAAAAAAABRAAAAAAAAAFEAAAAAAAAAUQAAAAAAAABRAAAAAAAAAFEAAAAAAAAAUQAAAAAAAABRAAAAAAAAAFEAAAAAAAAAUQAAAAAAAABRAAAAAAAAAFEAAAAAAAAAUQAAAAAAAABRAAAAAAAAAFEAAAAAAAAAUQAAAAAAAABRAAAAAAAAAFEAAAAAAAAAUQAAAAAAAABRAAAAAAAAAFEAAAAAAAAAUQAAAAAAAABRAAAAAAAAAFEAAAAAAAAAUQAAAAAAAABRAAAAAAAAAFEAAAAAAAAAUQAAAAAAAABRAAAAAAAAAFEAAAAAAAAAUQAAAAAAAABRAAAAAAAAAFEAAAAAAAAAUQAAAAAAAABRAAAAAAAAAFEAAAAAAAAAUQAAAAAAAABRAAAAAAAAAFEAAAAAAAAAUQAAAAAAAABRAAAAAAAAAFEAAAAAAAAAUQAAAAAAAABRAAAAAAAAAFEAAAAAAAAAUQAAAAAAAABRAAAAAAAAAFEAAAAAAAAAUQAAAAAAAABRAAAAAAAAAFEAAAAAAAAAUQAAAAAAAABRAAAAAAAAAFEAAAAAAAAAUQAAAAAAAABRAAAAAAAAAFEAAAAAAAAAUQAAAAAAAABRAAAAAAAAAFEAAAAAAAAAUQAAAAAAAABRAAAAAAAAAFEAAAAAAAAAUQAAAAAAAABRAAAAAAAAAFEAAAAAAAAAUQAAAAAAAABRAAAAAAAAAFEAAAAAAAAAUQAAAAAAAABRAAAAAAAAAFEAAAAAAAAAUQAAAAAAAABRAAAAAAAAAFEAAAAAAAAAUQAAAAAAAABRAAAAAAAAAFEAAAAAAAAAUQAAAAAAAABRAAAAAAAAAFEAAAAAAAAAUQAAAAAAAABRAAAAAAAAAFEAAAAAAAAAUQAAAAAAAABRAAAAAAAAAFEA=",
          "dtype": "f8"
         }
        },
        {
         "line": {
          "color": "red",
          "width": 3
         },
         "mode": "lines",
         "type": "scatter3d",
         "x": {
          "bdata": "mpmZmZmZAUD5T3Bdh5ABQIbWwwJadQFAO8BejS1IAUAg+SWOMAkBQHh1GPOjuABAjeFgxNpWAEA/oXydc8j/PxxLOHduwv4/Z6KILrSc/T+S6lKLc1j8Pz/YsMz69vo/4CVkULZ5+T+m2D0bL+L3P/ph/EMJMvY/HTxCQgJr9D//Y2Mj747yPyMK46a6n/A/yccnicY+7T+yKMk88h/pP34w7b835+Q/Z8thHPGY4D/nyz8kHXPYP/M2GBBINs8/siMok1LMuj+v4Hl9Fd+hv45DMwIZUca/jpjdurUJ1L8kDr0jN9bcv6LAomZ/wuK/kKSntowG57/wZfPL3TLrv013DmglQ++/nJmZmZmZ8b9LZNkGfH/zvxb6jR9FUfW/Lq5pvxQN97/xkfpoIbH4v2enQR26O/q/91wKGkir+7/NODZ9UP78vxh8TMt1M/6/oiS7V3lJ/7+4+KpGnh8AwJxl4ArhiQDAyoVKbxfjAMByOJp95SoBwCl7MDEBYQHAARBrwzKFAcARNyPlVJcBwBE3I+VUlwHAARBrwzKFAcApezAxAWEBwHI4mn3lKgHAyoVKbxfjAMCdZeAK4YkAwLj4qkaeHwDAoyS7V3lJ/78XfEzLdTP+v844Nn1Q/vy/9lwKGkir+79op0Edujv6v/CR+mghsfi/MK5pvxQN978U+o0fRVH1v01k2QZ8f/O/lpmZmZmZ8b9Kdw5oJUPvv/Bl88vdMuu/laSntowG57+awKJmf8Livx0OvSM31ty/jpjdurUJ1L+iQzMCGVHGvyrgeX0V36G/0iMok1LMuj/gNhgQSDbPP9bLPyQdc9g/a8thHPGY4D9+MO2/N+fkP64oyTzyH+k/0ccnicY+7T8lCuOmup/wP/9jYyPvjvI/GzxCQgJr9D/9YfxDCTL2P6fYPRsv4vc/4CVkULZ5+T892LDM+vb6P5TqUotzWPw/Z6KILrSc/T8cSzh3bsL+Pz2hfJ1zyP8/jeFgxNpWAEB4dRjzo7gAQCD5JY4wCQFAPMBejS1IAUCG1sMCWnUBQPlPcF2HkAFAmpmZmZmZAUA=",
          "dtype": "f8"
         },
         "y": {
          "bdata": "AAAAAAAAAAAErcd6NNzBP7wqaer/0tE/B/Hj84Wl2j+qfKIbSq7hPwojP3GX9+U/Ybxb2z8q6j/2RiOS70HuPwFEok03HfE/2eCakdIH8z8B+anaz970P1MYQqdJoPY/ATQSo3BK+D9Hz6GEjdv5P8mTJNICUvs/8pSyi06s/D8d4y25C+n9P2tFO9rzBv8/C2VpG3ACAECRnoaH5XAAQGWtelRozgBAyE2jHZgaAUBzzxNaJlUBQAOtia3WfQFAFRKlJn+UAUCqLCVqCJkBQFK4+8ptiwFAnfEeT71rAUDd+RShFzoBQM+RR+6v9gBARuFCssuhAEArrRVvwjsAQKehOab6if8/7u0tme17/j8HrOAWdE79P6YPkePEAvw/S8aM5zWa+j9I5b3OOhb5PzViioljePc/CgWQsFrC9T8qzeXM4/XzP1MVqIbZFPI/UkOvuysh8D8KwtIAuznsPysNyxkGFOg/H89oMH/V4z8WLk6RDAXfP2SlovMgP9Y/DKkBWY3Eyj/XJNYQgt6xP/ck1hCC3rG/HKkBWY3Eyr9spaLzID/WvwwuTpEMBd+/I89oMH/V478nDcsZBhTovw3C0gC7Oey/UEOvuysh8L9UFaiG2RTyvyjN5czj9fO/DAWQsFrC9b8zYoqJY3j3v0rlvc46Fvm/SsaM5zWa+r+nD5HjxAL8vwWs4BZ0Tv2/8e0tme17/r+ooTmm+on/vyutFW/COwDARuFCssuhAMDPkUfur/YAwN35FKEXOgHAnfEeT71rAcBSuPvKbYsBwKosJWoImQHAFRKlJn+UAcADrYmt1n0BwHTPE1omVQHAyE2jHZgaAcBlrXpUaM4AwJGehoflcADACmVpG3ACAMBqRTva8wb/vx3jLbkL6f2/9JSyi06s/L/HkyTSAlL7v0bPoYSN2/m/ATQSo3BK+L9WGEKnSaD2v/74qdrP3vS/2OCakdIH878CRKJNNx3xv/xGI5LvQe6/W7xb2z8q6r8JIz9xl/flv618ohtKruG/9PDj84Wl2r+zKmnq/9LRvwWtx3o03MG/b5jJ0fZpw7w=",
          "dtype": "f8"
         },
         "z": {
          "bdata": "AAAAAAAAAAAAAAAAAAAAAAAAAAAAAAAAAAAAAAAAAAAAAAAAAAAAAAAAAAAAAAAAAAAAAAAAAAAAAAAAAAAAAAAAAAAAAAAAAAAAAAAAAAAAAAAAAAAAAAAAAAAAAAAAAAAAAAAAAAAAAAAAAAAAAAAAAAAAAAAAAAAAAAAAAAAAAAAAAAAAAAAAAAAAAAAAAAAAAAAAAAAAAAAAAAAAAAAAAAAAAAAAAAAAAAAAAAAAAAAAAAAAAAAAAAAAAAAAAAAAAAAAAAAAAAAAAAAAAAAAAAAAAAAAAAAAAAAAAAAAAAAAAAAAAAAAAAAAAAAAAAAAAAAAAAAAAAAAAAAAAAAAAAAAAAAAAAAAAAAAAAAAAAAAAAAAAAAAAAAAAAAAAAAAAAAAAAAAAAAAAAAAAAAAAAAAAAAAAAAAAAAAAAAAAAAAAAAAAAAAAAAAAAAAAAAAAAAAAAAAAAAAAAAAAAAAAAAAAAAAAAAAAAAAAAAAAAAAAAAAAAAAAAAAAAAAAAAAAAAAAAAAAAAAAAAAAAAAAAAAAAAAAAAAAAAAAAAAAAAAAAAAAAAAAAAAAAAAAAAAAAAAAAAAAAAAAAAAAAAAAAAAAAAAAAAAAAAAAAAAAAAAAAAAAAAAAAAAAAAAAAAAAAAAAAAAAAAAAAAAAAAAAAAAAAAAAAAAAAAAAAAAAAAAAAAAAAAAAAAAAAAAAAAAAAAAAAAAAAAAAAAAAAAAAAAAAAAAAAAAAAAAAAAAAAAAAAAAAAAAAAAAAAAAAAAAAAAAAAAAAAAAAAAAAAAAAAAAAAAAAAAAAAAAAAAAAAAAAAAAAAAAAAAAAAAAAAAAAAAAAAAAAAAAAAAAAAAAAAAAAAAAAAAAAAAAAAAAAAAAAAAAAAAAAAAAAAAAAAAAAAAAAAAAAAAAAAAAAAAAAAAAAAAAAAAAAAAAAAAAAAAAAAAAAAAAAAAAAAAAAAAAAAAAAAAAAAAAAAAAAAAAAAAAAAAAAAAAAAAAAAAAAAAAAAAAAAAAAAAAAAAAAAAAAAAAAAAAAAAAAAAAAAAAAAAAAAAAAAAAAAAAAAA=",
          "dtype": "f8"
         }
        },
        {
         "line": {
          "color": "green"
         },
         "mode": "lines",
         "type": "scatter3d",
         "x": [
          4,
          1.7997244029942272
         ],
         "y": [
          0,
          3.572253080797478
         ],
         "z": [
          0,
          5
         ]
        },
        {
         "line": {
          "color": "green"
         },
         "mode": "lines",
         "type": "scatter3d",
         "x": [
          3.7832689668025385,
          0.542301691461585
         ],
         "y": [
          1.2987978768187338,
          3.9630681139034065
         ],
         "z": [
          0,
          5
         ]
        },
        {
         "line": {
          "color": "green"
         },
         "mode": "lines",
         "type": "scatter3d",
         "x": [
          3.1565620375855743,
          -0.7738878230186566
         ],
         "y": [
          2.4568508507586713,
          3.9244232235302356
         ],
         "z": [
          0,
          5
         ]
        },
        {
         "line": {
          "color": "green"
         },
         "mode": "lines",
         "type": "scatter3d",
         "x": [
          2.187792632489708,
          -2.006214583768015
         ],
         "y": [
          3.348665913050114,
          3.460506183187155
         ],
         "z": [
          0,
          5
         ]
        },
        {
         "line": {
          "color": "green"
         },
         "mode": "lines",
         "type": "scatter3d",
         "x": [
          0.9819419485631969,
          -3.0211368647394456
         ],
         "y": [
          3.8776010637573215,
          2.6215896026098964
         ],
         "z": [
          0,
          5
         ]
        },
        {
         "line": {
          "color": "green"
         },
         "mode": "lines",
         "type": "scatter3d",
         "x": [
          -0.3303173818893291,
          -3.708672088647916
         ],
         "y": [
          3.9863379720266794,
          1.4985831104359553
         ],
         "z": [
          0,
          5
         ]
        },
        {
         "line": {
          "color": "green"
         },
         "mode": "lines",
         "type": "scatter3d",
         "x": [
          -1.606781698611877,
          -3.994315145774762
         ],
         "y": [
          3.66309330662023,
          0.21318188533349128
         ],
         "z": [
          0,
          5
         ]
        },
        {
         "line": {
          "color": "green"
         },
         "mode": "lines",
         "type": "scatter3d",
         "x": [
          -2.7091262865029635,
          -3.8471121786715923
         ],
         "y": [
          2.9428956426925272,
          -1.0953209049026296
         ],
         "z": [
          0,
          5
         ]
        },
        {
         "line": {
          "color": "green"
         },
         "mode": "lines",
         "type": "scatter3d",
         "x": [
          -3.517895004825956,
          -3.283014912913407
         ],
         "y": [
          1.9037895721482947,
          -2.285128679437588
         ],
         "z": [
          0,
          5
         ]
        },
        {
         "line": {
          "color": "green"
         },
         "mode": "lines",
         "type": "scatter3d",
         "x": [
          -3.9454452136108893,
          -2.3631520401160238
         ],
         "y": [
          0.6583783611229361,
          -3.2273073041307168
         ],
         "z": [
          0,
          5
         ]
        },
        {
         "line": {
          "color": "green"
         },
         "mode": "lines",
         "type": "scatter3d",
         "x": [
          -3.9454452136108897,
          -1.1872049756901233
         ],
         "y": [
          -0.6583783611229351,
          -3.8197571055888635
         ],
         "z": [
          0,
          5
         ]
        },
        {
         "line": {
          "color": "green"
         },
         "mode": "lines",
         "type": "scatter3d",
         "x": [
          -3.5178950048259563,
          0.11739416923502077
         ],
         "y": [
          -1.903789572148294,
          -3.998276955018201
         ],
         "z": [
          0,
          5
         ]
        },
        {
         "line": {
          "color": "green"
         },
         "mode": "lines",
         "type": "scatter3d",
         "x": [
          -2.7091262865029657,
          1.409271834365333
         ],
         "y": [
          -2.942895642692525,
          -3.7435214567121915
         ],
         "z": [
          0,
          5
         ]
        },
        {
         "line": {
          "color": "green"
         },
         "mode": "lines",
         "type": "scatter3d",
         "x": [
          -1.6067816986118795,
          2.5484330291366053
         ],
         "y": [
          -3.663093306620229,
          -3.0830973218511324
         ],
         "z": [
          0,
          5
         ]
        },
        {
         "line": {
          "color": "green"
         },
         "mode": "lines",
         "type": "scatter3d",
         "x": [
          -0.33031738188933096,
          3.4114319621882214
         ],
         "y": [
          -3.9863379720266794,
          -2.088571752983513
         ],
         "z": [
          0,
          5
         ]
        },
        {
         "line": {
          "color": "green"
         },
         "mode": "lines",
         "type": "scatter3d",
         "x": [
          0.9819419485631952,
          3.904749308315889
         ],
         "y": [
          -3.877601063757322,
          -0.8677170271503177
         ],
         "z": [
          0,
          5
         ]
        },
        {
         "line": {
          "color": "green"
         },
         "mode": "lines",
         "type": "scatter3d",
         "x": [
          2.1877926324897063,
          3.9749264784593694
         ],
         "y": [
          -3.348665913050115,
          0.447168302591536
         ],
         "z": [
          0,
          5
         ]
        },
        {
         "line": {
          "color": "green"
         },
         "mode": "lines",
         "type": "scatter3d",
         "x": [
          3.1565620375855734,
          3.614358687322627
         ],
         "y": [
          -2.456850850758672,
          1.7135960082164805
         ],
         "z": [
          0,
          5
         ]
        },
        {
         "line": {
          "color": "green"
         },
         "mode": "lines",
         "type": "scatter3d",
         "x": [
          3.7832689668025385,
          2.8621190498610583
         ],
         "y": [
          -1.298797876818735,
          2.7943289971695235
         ],
         "z": [
          0,
          5
         ]
        },
        {
         "line": {
          "color": "green"
         },
         "mode": "lines",
         "type": "scatter3d",
         "x": [
          4,
          1.7997244029942274
         ],
         "y": [
          -9.797174393178826e-16,
          3.572253080797478
         ],
         "z": [
          0,
          5
         ]
        },
        {
         "line": {
          "color": "black",
          "width": 3
         },
         "mode": "lines",
         "type": "scatter3d",
         "x": {
          "bdata": "AAAAAAAAEECVSynBge8PQGj6BgUYvg9AJek3u/VrD0AjfxaOb/kOQPFJcov7Zg5AXLHeqjC1DUB+NRQyxuQMQF+hBPiS9gtAuvBkh4zrCkBWMpEhxsQJQDlQz6JvgwhAtDkVSdQoB0CWUJVeWbYFQEATccl8LQRAA6sNgtOPAkBcLKDxB98AQFa1P3WwOf4/thLH2SiW+j+KU4hOOdf2P1tDY1G+APM/jFrgSlkt7j+Mcwt+GjrmPyLsuGvkX9w/cyCwKKhcyD/N+ijPKj+wvwzJ6KS5SdS/3kQPZF834r9P3qvaGjfqv5OAwi7oDfG/PSGBd67u9L83i/Tn4Ln4v4vJmF6Wa/y/AgAAAAAAAMDP5tyRtrkBwM60DJEnYQPAhlh3f570BMDbPrV2e3IGwF1Sx9Q02QfAJuDa0VgnCcBdHHf9jlsKwIpZi6GZdAvAwfLvCVdxDMDZTwivwlANwBstUkL2EQ7AV1DNmyq0DsBD8kaHuDYPwAQ9tXAZmQ/AXjTx7ufaD8AHB0As4PsPwAcHQCzg+w/AXjTx7ufaD8AEPbVwGZkPwEPyRoe4Ng/AV1DNmyq0DsAcLVJC9hEOwNlPCK/CUA3AwvLvCVdxDMCJWYuhmXQLwF4cd/2OWwrAJeDa0VgnCcBeUsfUNNkHwNo+tXZ7cgbAiFh3f570BMDMtAyRJ2EDwNHm3JG2uQHA+f///////7+IyZhelmv8vzeL9Ofgufi/QSGBd67u9L+MgMIu6A3xv0jeq9oaN+q/3kQPZF834r8eyeikuUnUv1T6KM8qP7C/kCCwKKhcyD8R7Lhr5F/cP3xzC34aOuY/k1rgSlkt7j9bQ2NRvgDzP4ZTiE451/Y/vRLH2SiW+j9ZtT91sDn+P1wsoPEH3wBAAasNgtOPAkBDE3HJfC0EQJdQlV5ZtgVAtDkVSdQoB0A3UM+ib4MIQFcykSHGxAlAuvBkh4zrCkBfoQT4kvYLQH01FDLG5AxAXbHeqjC1DUDxSXKL+2YOQCN/Fo5v+Q5AJuk3u/VrD0Bo+gYFGL4PQJVLKcGB7w9AAAAAAAAAEEA=",
          "dtype": "f8"
         },
         "y": {
          "bdata": "AAAAAAAAAAADhrXMjDzQP/CDAnguNOA/kayggGI56D+aiNkBzxLwP9ofIiFb+PM/+5MNU1HJ9z+CQNqEwoH7PxlNPurYHf8/C1i7+O1MAUBGhZoMGvkCQBwWPFK3kQRAABg/lCAVBkCGGZN4xoEHQIhAIRwx1ghAlkFFlgERCkB3zoZi8zALQDKcHq/dNAxAEyzujrQbDUDB8a4NiuQNQP0jPCWPjg5A3176khQZD0AXHIGMi4MPQDTGy1KGzQ9Ag6xao7j2D0DvOc8G+P4PQGZmsvw75g9A70I4BJ6sD0C/l/eBWVIPQAOssILL1w5AxVNiW3I9DkCTIxAn7YMNQFEHwCL7qwxAqUxY6Hq2C0CRVimJaaQKQJaCD4nhdglAoSg6uxkvCEC158MBZM4GQNOHZvErVgVA8XixWvXHA0AmRkW6WiUCQGITsJELcABA8qg+VZVT/T/agWKM2Kj5P/gLinSo4/U/v412/ecH8j/lKaSyIjPsP+bENsZjOeQ/3FNHxZdV2D+s23zJpD7AP8nbfMmkPsC/6lNHxZdV2L/txDbGYznkv9wppLIiM+y/wo12/ecH8r/0C4p0qOP1v92BYozYqPm/7qg+VZVT/b9jE7CRC3AAwCRGRbpaJQLA83ixWvXHA8DRh2bxK1YFwLfnwwFkzgbAoCg6uxkvCMCXgg+J4XYJwJBWKYlppArArExY6Hq2C8BSB8Ai+6sMwJMjECftgw3AxFNiW3I9DsAErLCCy9cOwL+X94FZUg/A70I4BJ6sD8BlZrL8O+YPwO85zwb4/g/Ag6xao7j2D8A0xstShs0PwBgcgYyLgw/A3176khQZD8D9Izwlj44OwMLxrg2K5A3AEizujrQbDcAxnB6v3TQMwHfOhmLzMAvAl0FFlgERCsCGQCEcMdYIwIUZk3jGgQfAABg/lCAVBsAfFjxSt5EEwESFmgwa+QLACli7+O1MAcAbTT7q2B3/v4dA2oTCgfu/9ZMNU1HJ97/ZHyIhW/jzv52I2QHPEvC/gKyggGI56L/ogwJ4LjTgvwSGtcyMPNC/B1wUMyam0bw=",
          "dtype": "f8"
         },
         "z": {
          "bdata": "AAAAAAAAFEAAAAAAAAAUQAAAAAAAABRAAAAAAAAAFEAAAAAAAAAUQAAAAAAAABRAAAAAAAAAFEAAAAAAAAAUQAAAAAAAABRAAAAAAAAAFEAAAAAAAAAUQAAAAAAAABRAAAAAAAAAFEAAAAAAAAAUQAAAAAAAABRAAAAAAAAAFEAAAAAAAAAUQAAAAAAAABRAAAAAAAAAFEAAAAAAAAAUQAAAAAAAABRAAAAAAAAAFEAAAAAAAAAUQAAAAAAAABRAAAAAAAAAFEAAAAAAAAAUQAAAAAAAABRAAAAAAAAAFEAAAAAAAAAUQAAAAAAAABRAAAAAAAAAFEAAAAAAAAAUQAAAAAAAABRAAAAAAAAAFEAAAAAAAAAUQAAAAAAAABRAAAAAAAAAFEAAAAAAAAAUQAAAAAAAABRAAAAAAAAAFEAAAAAAAAAUQAAAAAAAABRAAAAAAAAAFEAAAAAAAAAUQAAAAAAAABRAAAAAAAAAFEAAAAAAAAAUQAAAAAAAABRAAAAAAAAAFEAAAAAAAAAUQAAAAAAAABRAAAAAAAAAFEAAAAAAAAAUQAAAAAAAABRAAAAAAAAAFEAAAAAAAAAUQAAAAAAAABRAAAAAAAAAFEAAAAAAAAAUQAAAAAAAABRAAAAAAAAAFEAAAAAAAAAUQAAAAAAAABRAAAAAAAAAFEAAAAAAAAAUQAAAAAAAABRAAAAAAAAAFEAAAAAAAAAUQAAAAAAAABRAAAAAAAAAFEAAAAAAAAAUQAAAAAAAABRAAAAAAAAAFEAAAAAAAAAUQAAAAAAAABRAAAAAAAAAFEAAAAAAAAAUQAAAAAAAABRAAAAAAAAAFEAAAAAAAAAUQAAAAAAAABRAAAAAAAAAFEAAAAAAAAAUQAAAAAAAABRAAAAAAAAAFEAAAAAAAAAUQAAAAAAAABRAAAAAAAAAFEAAAAAAAAAUQAAAAAAAABRAAAAAAAAAFEAAAAAAAAAUQAAAAAAAABRAAAAAAAAAFEAAAAAAAAAUQAAAAAAAABRAAAAAAAAAFEAAAAAAAAAUQAAAAAAAABRAAAAAAAAAFEA=",
          "dtype": "f8"
         }
        },
        {
         "line": {
          "color": "black",
          "width": 3
         },
         "mode": "lines",
         "type": "scatter3d",
         "x": {
          "bdata": "AAAAAAAAEECVSynBge8PQGj6BgUYvg9AJek3u/VrD0AjfxaOb/kOQPFJcov7Zg5AXLHeqjC1DUB+NRQyxuQMQF+hBPiS9gtAuvBkh4zrCkBWMpEhxsQJQDlQz6JvgwhAtDkVSdQoB0CWUJVeWbYFQEATccl8LQRAA6sNgtOPAkBcLKDxB98AQFa1P3WwOf4/thLH2SiW+j+KU4hOOdf2P1tDY1G+APM/jFrgSlkt7j+Mcwt+GjrmPyLsuGvkX9w/cyCwKKhcyD/N+ijPKj+wvwzJ6KS5SdS/3kQPZF834r9P3qvaGjfqv5OAwi7oDfG/PSGBd67u9L83i/Tn4Ln4v4vJmF6Wa/y/AgAAAAAAAMDP5tyRtrkBwM60DJEnYQPAhlh3f570BMDbPrV2e3IGwF1Sx9Q02QfAJuDa0VgnCcBdHHf9jlsKwIpZi6GZdAvAwfLvCVdxDMDZTwivwlANwBstUkL2EQ7AV1DNmyq0DsBD8kaHuDYPwAQ9tXAZmQ/AXjTx7ufaD8AHB0As4PsPwAcHQCzg+w/AXjTx7ufaD8AEPbVwGZkPwEPyRoe4Ng/AV1DNmyq0DsAcLVJC9hEOwNlPCK/CUA3AwvLvCVdxDMCJWYuhmXQLwF4cd/2OWwrAJeDa0VgnCcBeUsfUNNkHwNo+tXZ7cgbAiFh3f570BMDMtAyRJ2EDwNHm3JG2uQHA+f///////7+IyZhelmv8vzeL9Ofgufi/QSGBd67u9L+MgMIu6A3xv0jeq9oaN+q/3kQPZF834r8eyeikuUnUv1T6KM8qP7C/kCCwKKhcyD8R7Lhr5F/cP3xzC34aOuY/k1rgSlkt7j9bQ2NRvgDzP4ZTiE451/Y/vRLH2SiW+j9ZtT91sDn+P1wsoPEH3wBAAasNgtOPAkBDE3HJfC0EQJdQlV5ZtgVAtDkVSdQoB0A3UM+ib4MIQFcykSHGxAlAuvBkh4zrCkBfoQT4kvYLQH01FDLG5AxAXbHeqjC1DUDxSXKL+2YOQCN/Fo5v+Q5AJuk3u/VrD0Bo+gYFGL4PQJVLKcGB7w9AAAAAAAAAEEA=",
          "dtype": "f8"
         },
         "y": {
          "bdata": "AAAAAAAAAAADhrXMjDzQP/CDAnguNOA/kayggGI56D+aiNkBzxLwP9ofIiFb+PM/+5MNU1HJ9z+CQNqEwoH7PxlNPurYHf8/C1i7+O1MAUBGhZoMGvkCQBwWPFK3kQRAABg/lCAVBkCGGZN4xoEHQIhAIRwx1ghAlkFFlgERCkB3zoZi8zALQDKcHq/dNAxAEyzujrQbDUDB8a4NiuQNQP0jPCWPjg5A3176khQZD0AXHIGMi4MPQDTGy1KGzQ9Ag6xao7j2D0DvOc8G+P4PQGZmsvw75g9A70I4BJ6sD0C/l/eBWVIPQAOssILL1w5AxVNiW3I9DkCTIxAn7YMNQFEHwCL7qwxAqUxY6Hq2C0CRVimJaaQKQJaCD4nhdglAoSg6uxkvCEC158MBZM4GQNOHZvErVgVA8XixWvXHA0AmRkW6WiUCQGITsJELcABA8qg+VZVT/T/agWKM2Kj5P/gLinSo4/U/v412/ecH8j/lKaSyIjPsP+bENsZjOeQ/3FNHxZdV2D+s23zJpD7AP8nbfMmkPsC/6lNHxZdV2L/txDbGYznkv9wppLIiM+y/wo12/ecH8r/0C4p0qOP1v92BYozYqPm/7qg+VZVT/b9jE7CRC3AAwCRGRbpaJQLA83ixWvXHA8DRh2bxK1YFwLfnwwFkzgbAoCg6uxkvCMCXgg+J4XYJwJBWKYlppArArExY6Hq2C8BSB8Ai+6sMwJMjECftgw3AxFNiW3I9DsAErLCCy9cOwL+X94FZUg/A70I4BJ6sD8BlZrL8O+YPwO85zwb4/g/Ag6xao7j2D8A0xstShs0PwBgcgYyLgw/A3176khQZD8D9Izwlj44OwMLxrg2K5A3AEizujrQbDcAxnB6v3TQMwHfOhmLzMAvAl0FFlgERCsCGQCEcMdYIwIUZk3jGgQfAABg/lCAVBsAfFjxSt5EEwESFmgwa+QLACli7+O1MAcAbTT7q2B3/v4dA2oTCgfu/9ZMNU1HJ97/ZHyIhW/jzv52I2QHPEvC/gKyggGI56L/ogwJ4LjTgvwSGtcyMPNC/B1wUMyam0bw=",
          "dtype": "f8"
         },
         "z": {
          "bdata": "AAAAAAAAAAAAAAAAAAAAAAAAAAAAAAAAAAAAAAAAAAAAAAAAAAAAAAAAAAAAAAAAAAAAAAAAAAAAAAAAAAAAAAAAAAAAAAAAAAAAAAAAAAAAAAAAAAAAAAAAAAAAAAAAAAAAAAAAAAAAAAAAAAAAAAAAAAAAAAAAAAAAAAAAAAAAAAAAAAAAAAAAAAAAAAAAAAAAAAAAAAAAAAAAAAAAAAAAAAAAAAAAAAAAAAAAAAAAAAAAAAAAAAAAAAAAAAAAAAAAAAAAAAAAAAAAAAAAAAAAAAAAAAAAAAAAAAAAAAAAAAAAAAAAAAAAAAAAAAAAAAAAAAAAAAAAAAAAAAAAAAAAAAAAAAAAAAAAAAAAAAAAAAAAAAAAAAAAAAAAAAAAAAAAAAAAAAAAAAAAAAAAAAAAAAAAAAAAAAAAAAAAAAAAAAAAAAAAAAAAAAAAAAAAAAAAAAAAAAAAAAAAAAAAAAAAAAAAAAAAAAAAAAAAAAAAAAAAAAAAAAAAAAAAAAAAAAAAAAAAAAAAAAAAAAAAAAAAAAAAAAAAAAAAAAAAAAAAAAAAAAAAAAAAAAAAAAAAAAAAAAAAAAAAAAAAAAAAAAAAAAAAAAAAAAAAAAAAAAAAAAAAAAAAAAAAAAAAAAAAAAAAAAAAAAAAAAAAAAAAAAAAAAAAAAAAAAAAAAAAAAAAAAAAAAAAAAAAAAAAAAAAAAAAAAAAAAAAAAAAAAAAAAAAAAAAAAAAAAAAAAAAAAAAAAAAAAAAAAAAAAAAAAAAAAAAAAAAAAAAAAAAAAAAAAAAAAAAAAAAAAAAAAAAAAAAAAAAAAAAAAAAAAAAAAAAAAAAAAAAAAAAAAAAAAAAAAAAAAAAAAAAAAAAAAAAAAAAAAAAAAAAAAAAAAAAAAAAAAAAAAAAAAAAAAAAAAAAAAAAAAAAAAAAAAAAAAAAAAAAAAAAAAAAAAAAAAAAAAAAAAAAAAAAAAAAAAAAAAAAAAAAAAAAAAAAAAAAAAAAAAAAAAAAAAAAAAAAAAAAAAAAAAAAAAAAAAAAAAAAAAAAAAAAAAAAAAAAAAAAAAAAAAA=",
          "dtype": "f8"
         }
        }
       ],
       "layout": {
        "scene": {
         "aspectmode": "data",
         "xaxis": {
          "range": [
           -5,
           5
          ]
         },
         "yaxis": {
          "range": [
           -5,
           5
          ]
         },
         "zaxis": {
          "range": [
           -1,
           6
          ]
         }
        },
        "showlegend": false,
        "template": {
         "data": {
          "bar": [
           {
            "error_x": {
             "color": "#2a3f5f"
            },
            "error_y": {
             "color": "#2a3f5f"
            },
            "marker": {
             "line": {
              "color": "#E5ECF6",
              "width": 0.5
             },
             "pattern": {
              "fillmode": "overlay",
              "size": 10,
              "solidity": 0.2
             }
            },
            "type": "bar"
           }
          ],
          "barpolar": [
           {
            "marker": {
             "line": {
              "color": "#E5ECF6",
              "width": 0.5
             },
             "pattern": {
              "fillmode": "overlay",
              "size": 10,
              "solidity": 0.2
             }
            },
            "type": "barpolar"
           }
          ],
          "carpet": [
           {
            "aaxis": {
             "endlinecolor": "#2a3f5f",
             "gridcolor": "white",
             "linecolor": "white",
             "minorgridcolor": "white",
             "startlinecolor": "#2a3f5f"
            },
            "baxis": {
             "endlinecolor": "#2a3f5f",
             "gridcolor": "white",
             "linecolor": "white",
             "minorgridcolor": "white",
             "startlinecolor": "#2a3f5f"
            },
            "type": "carpet"
           }
          ],
          "choropleth": [
           {
            "colorbar": {
             "outlinewidth": 0,
             "ticks": ""
            },
            "type": "choropleth"
           }
          ],
          "contour": [
           {
            "colorbar": {
             "outlinewidth": 0,
             "ticks": ""
            },
            "colorscale": [
             [
              0,
              "#0d0887"
             ],
             [
              0.1111111111111111,
              "#46039f"
             ],
             [
              0.2222222222222222,
              "#7201a8"
             ],
             [
              0.3333333333333333,
              "#9c179e"
             ],
             [
              0.4444444444444444,
              "#bd3786"
             ],
             [
              0.5555555555555556,
              "#d8576b"
             ],
             [
              0.6666666666666666,
              "#ed7953"
             ],
             [
              0.7777777777777778,
              "#fb9f3a"
             ],
             [
              0.8888888888888888,
              "#fdca26"
             ],
             [
              1,
              "#f0f921"
             ]
            ],
            "type": "contour"
           }
          ],
          "contourcarpet": [
           {
            "colorbar": {
             "outlinewidth": 0,
             "ticks": ""
            },
            "type": "contourcarpet"
           }
          ],
          "heatmap": [
           {
            "colorbar": {
             "outlinewidth": 0,
             "ticks": ""
            },
            "colorscale": [
             [
              0,
              "#0d0887"
             ],
             [
              0.1111111111111111,
              "#46039f"
             ],
             [
              0.2222222222222222,
              "#7201a8"
             ],
             [
              0.3333333333333333,
              "#9c179e"
             ],
             [
              0.4444444444444444,
              "#bd3786"
             ],
             [
              0.5555555555555556,
              "#d8576b"
             ],
             [
              0.6666666666666666,
              "#ed7953"
             ],
             [
              0.7777777777777778,
              "#fb9f3a"
             ],
             [
              0.8888888888888888,
              "#fdca26"
             ],
             [
              1,
              "#f0f921"
             ]
            ],
            "type": "heatmap"
           }
          ],
          "histogram": [
           {
            "marker": {
             "pattern": {
              "fillmode": "overlay",
              "size": 10,
              "solidity": 0.2
             }
            },
            "type": "histogram"
           }
          ],
          "histogram2d": [
           {
            "colorbar": {
             "outlinewidth": 0,
             "ticks": ""
            },
            "colorscale": [
             [
              0,
              "#0d0887"
             ],
             [
              0.1111111111111111,
              "#46039f"
             ],
             [
              0.2222222222222222,
              "#7201a8"
             ],
             [
              0.3333333333333333,
              "#9c179e"
             ],
             [
              0.4444444444444444,
              "#bd3786"
             ],
             [
              0.5555555555555556,
              "#d8576b"
             ],
             [
              0.6666666666666666,
              "#ed7953"
             ],
             [
              0.7777777777777778,
              "#fb9f3a"
             ],
             [
              0.8888888888888888,
              "#fdca26"
             ],
             [
              1,
              "#f0f921"
             ]
            ],
            "type": "histogram2d"
           }
          ],
          "histogram2dcontour": [
           {
            "colorbar": {
             "outlinewidth": 0,
             "ticks": ""
            },
            "colorscale": [
             [
              0,
              "#0d0887"
             ],
             [
              0.1111111111111111,
              "#46039f"
             ],
             [
              0.2222222222222222,
              "#7201a8"
             ],
             [
              0.3333333333333333,
              "#9c179e"
             ],
             [
              0.4444444444444444,
              "#bd3786"
             ],
             [
              0.5555555555555556,
              "#d8576b"
             ],
             [
              0.6666666666666666,
              "#ed7953"
             ],
             [
              0.7777777777777778,
              "#fb9f3a"
             ],
             [
              0.8888888888888888,
              "#fdca26"
             ],
             [
              1,
              "#f0f921"
             ]
            ],
            "type": "histogram2dcontour"
           }
          ],
          "mesh3d": [
           {
            "colorbar": {
             "outlinewidth": 0,
             "ticks": ""
            },
            "type": "mesh3d"
           }
          ],
          "parcoords": [
           {
            "line": {
             "colorbar": {
              "outlinewidth": 0,
              "ticks": ""
             }
            },
            "type": "parcoords"
           }
          ],
          "pie": [
           {
            "automargin": true,
            "type": "pie"
           }
          ],
          "scatter": [
           {
            "fillpattern": {
             "fillmode": "overlay",
             "size": 10,
             "solidity": 0.2
            },
            "type": "scatter"
           }
          ],
          "scatter3d": [
           {
            "line": {
             "colorbar": {
              "outlinewidth": 0,
              "ticks": ""
             }
            },
            "marker": {
             "colorbar": {
              "outlinewidth": 0,
              "ticks": ""
             }
            },
            "type": "scatter3d"
           }
          ],
          "scattercarpet": [
           {
            "marker": {
             "colorbar": {
              "outlinewidth": 0,
              "ticks": ""
             }
            },
            "type": "scattercarpet"
           }
          ],
          "scattergeo": [
           {
            "marker": {
             "colorbar": {
              "outlinewidth": 0,
              "ticks": ""
             }
            },
            "type": "scattergeo"
           }
          ],
          "scattergl": [
           {
            "marker": {
             "colorbar": {
              "outlinewidth": 0,
              "ticks": ""
             }
            },
            "type": "scattergl"
           }
          ],
          "scattermap": [
           {
            "marker": {
             "colorbar": {
              "outlinewidth": 0,
              "ticks": ""
             }
            },
            "type": "scattermap"
           }
          ],
          "scattermapbox": [
           {
            "marker": {
             "colorbar": {
              "outlinewidth": 0,
              "ticks": ""
             }
            },
            "type": "scattermapbox"
           }
          ],
          "scatterpolar": [
           {
            "marker": {
             "colorbar": {
              "outlinewidth": 0,
              "ticks": ""
             }
            },
            "type": "scatterpolar"
           }
          ],
          "scatterpolargl": [
           {
            "marker": {
             "colorbar": {
              "outlinewidth": 0,
              "ticks": ""
             }
            },
            "type": "scatterpolargl"
           }
          ],
          "scatterternary": [
           {
            "marker": {
             "colorbar": {
              "outlinewidth": 0,
              "ticks": ""
             }
            },
            "type": "scatterternary"
           }
          ],
          "surface": [
           {
            "colorbar": {
             "outlinewidth": 0,
             "ticks": ""
            },
            "colorscale": [
             [
              0,
              "#0d0887"
             ],
             [
              0.1111111111111111,
              "#46039f"
             ],
             [
              0.2222222222222222,
              "#7201a8"
             ],
             [
              0.3333333333333333,
              "#9c179e"
             ],
             [
              0.4444444444444444,
              "#bd3786"
             ],
             [
              0.5555555555555556,
              "#d8576b"
             ],
             [
              0.6666666666666666,
              "#ed7953"
             ],
             [
              0.7777777777777778,
              "#fb9f3a"
             ],
             [
              0.8888888888888888,
              "#fdca26"
             ],
             [
              1,
              "#f0f921"
             ]
            ],
            "type": "surface"
           }
          ],
          "table": [
           {
            "cells": {
             "fill": {
              "color": "#EBF0F8"
             },
             "line": {
              "color": "white"
             }
            },
            "header": {
             "fill": {
              "color": "#C8D4E3"
             },
             "line": {
              "color": "white"
             }
            },
            "type": "table"
           }
          ]
         },
         "layout": {
          "annotationdefaults": {
           "arrowcolor": "#2a3f5f",
           "arrowhead": 0,
           "arrowwidth": 1
          },
          "autotypenumbers": "strict",
          "coloraxis": {
           "colorbar": {
            "outlinewidth": 0,
            "ticks": ""
           }
          },
          "colorscale": {
           "diverging": [
            [
             0,
             "#8e0152"
            ],
            [
             0.1,
             "#c51b7d"
            ],
            [
             0.2,
             "#de77ae"
            ],
            [
             0.3,
             "#f1b6da"
            ],
            [
             0.4,
             "#fde0ef"
            ],
            [
             0.5,
             "#f7f7f7"
            ],
            [
             0.6,
             "#e6f5d0"
            ],
            [
             0.7,
             "#b8e186"
            ],
            [
             0.8,
             "#7fbc41"
            ],
            [
             0.9,
             "#4d9221"
            ],
            [
             1,
             "#276419"
            ]
           ],
           "sequential": [
            [
             0,
             "#0d0887"
            ],
            [
             0.1111111111111111,
             "#46039f"
            ],
            [
             0.2222222222222222,
             "#7201a8"
            ],
            [
             0.3333333333333333,
             "#9c179e"
            ],
            [
             0.4444444444444444,
             "#bd3786"
            ],
            [
             0.5555555555555556,
             "#d8576b"
            ],
            [
             0.6666666666666666,
             "#ed7953"
            ],
            [
             0.7777777777777778,
             "#fb9f3a"
            ],
            [
             0.8888888888888888,
             "#fdca26"
            ],
            [
             1,
             "#f0f921"
            ]
           ],
           "sequentialminus": [
            [
             0,
             "#0d0887"
            ],
            [
             0.1111111111111111,
             "#46039f"
            ],
            [
             0.2222222222222222,
             "#7201a8"
            ],
            [
             0.3333333333333333,
             "#9c179e"
            ],
            [
             0.4444444444444444,
             "#bd3786"
            ],
            [
             0.5555555555555556,
             "#d8576b"
            ],
            [
             0.6666666666666666,
             "#ed7953"
            ],
            [
             0.7777777777777778,
             "#fb9f3a"
            ],
            [
             0.8888888888888888,
             "#fdca26"
            ],
            [
             1,
             "#f0f921"
            ]
           ]
          },
          "colorway": [
           "#636efa",
           "#EF553B",
           "#00cc96",
           "#ab63fa",
           "#FFA15A",
           "#19d3f3",
           "#FF6692",
           "#B6E880",
           "#FF97FF",
           "#FECB52"
          ],
          "font": {
           "color": "#2a3f5f"
          },
          "geo": {
           "bgcolor": "white",
           "lakecolor": "white",
           "landcolor": "#E5ECF6",
           "showlakes": true,
           "showland": true,
           "subunitcolor": "white"
          },
          "hoverlabel": {
           "align": "left"
          },
          "hovermode": "closest",
          "mapbox": {
           "style": "light"
          },
          "paper_bgcolor": "white",
          "plot_bgcolor": "#E5ECF6",
          "polar": {
           "angularaxis": {
            "gridcolor": "white",
            "linecolor": "white",
            "ticks": ""
           },
           "bgcolor": "#E5ECF6",
           "radialaxis": {
            "gridcolor": "white",
            "linecolor": "white",
            "ticks": ""
           }
          },
          "scene": {
           "xaxis": {
            "backgroundcolor": "#E5ECF6",
            "gridcolor": "white",
            "gridwidth": 2,
            "linecolor": "white",
            "showbackground": true,
            "ticks": "",
            "zerolinecolor": "white"
           },
           "yaxis": {
            "backgroundcolor": "#E5ECF6",
            "gridcolor": "white",
            "gridwidth": 2,
            "linecolor": "white",
            "showbackground": true,
            "ticks": "",
            "zerolinecolor": "white"
           },
           "zaxis": {
            "backgroundcolor": "#E5ECF6",
            "gridcolor": "white",
            "gridwidth": 2,
            "linecolor": "white",
            "showbackground": true,
            "ticks": "",
            "zerolinecolor": "white"
           }
          },
          "shapedefaults": {
           "line": {
            "color": "#2a3f5f"
           }
          },
          "ternary": {
           "aaxis": {
            "gridcolor": "white",
            "linecolor": "white",
            "ticks": ""
           },
           "baxis": {
            "gridcolor": "white",
            "linecolor": "white",
            "ticks": ""
           },
           "bgcolor": "#E5ECF6",
           "caxis": {
            "gridcolor": "white",
            "linecolor": "white",
            "ticks": ""
           }
          },
          "title": {
           "x": 0.05
          },
          "xaxis": {
           "automargin": true,
           "gridcolor": "white",
           "linecolor": "white",
           "ticks": "",
           "title": {
            "standoff": 15
           },
           "zerolinecolor": "white",
           "zerolinewidth": 2
          },
          "yaxis": {
           "automargin": true,
           "gridcolor": "white",
           "linecolor": "white",
           "ticks": "",
           "title": {
            "standoff": 15
           },
           "zerolinecolor": "white",
           "zerolinewidth": 2
          }
         }
        }
       }
      }
     },
     "metadata": {},
     "output_type": "display_data"
    }
   ],
   "source": [
    "phi_all = np.linspace(0, 2 * np.pi, 100)\n",
    "phi = np.linspace(0, 2 * np.pi, 20)\n",
    "H = 5.0\n",
    "alpha = 50 * np.pi / 180\n",
    "\n",
    "fig = go.Figure()\n",
    "\n",
    "for i, R in enumerate([2.2, 4.0]):\n",
    "    dphi = 2 * np.arcsin(H / np.tan(alpha) / 2 / R)\n",
    "    if i == 0:\n",
    "        color1 = \"blue\"\n",
    "        color2 = \"red\"\n",
    "    else:\n",
    "        color1 = \"green\"\n",
    "        color2 = \"black\"\n",
    "\n",
    "    x_all = R * np.cos(phi_all)\n",
    "    y_all = R * np.sin(phi_all)\n",
    "    z_all_low = np.zeros_like(x_all)\n",
    "    z_all_high = H * np.ones_like(x_all)\n",
    "\n",
    "    x_low = R * np.cos(phi)\n",
    "    y_low = R * np.sin(phi)\n",
    "    z_low = np.zeros_like(x_low)\n",
    "    X_low = np.array([x_low, y_low, z_low]).T\n",
    "\n",
    "    x_high = R * np.cos(phi + dphi)\n",
    "    y_high = R * np.sin(phi + dphi)\n",
    "    z_high = H * np.ones_like(x_high)\n",
    "    X_high = np.array([x_high, y_high, z_high]).T\n",
    "\n",
    "    for p_low, p_high in zip(X_low, X_high):\n",
    "        fig.add_trace(\n",
    "            go.Scatter3d(\n",
    "                x=[p_low[0], p_high[0]],\n",
    "                y=[p_low[1], p_high[1]],\n",
    "                z=[p_low[2], p_high[2]],\n",
    "                mode=\"lines\",\n",
    "                line=dict(color=color1),\n",
    "            )\n",
    "        )\n",
    "\n",
    "    fig.add_trace(\n",
    "        go.Scatter3d(\n",
    "            x=x_all,\n",
    "            y=y_all,\n",
    "            z=z_all_high,\n",
    "            mode=\"lines\",\n",
    "            line=dict(color=color2, width=3),\n",
    "        )\n",
    "    )\n",
    "    fig.add_trace(\n",
    "        go.Scatter3d(\n",
    "            x=x_all,\n",
    "            y=y_all,\n",
    "            z=z_all_low,\n",
    "            mode=\"lines\",\n",
    "            line=dict(color=color2, width=3),\n",
    "        )\n",
    "    )\n",
    "\n",
    "fig.update_layout(scene=dict(aspectmode=\"data\"))\n",
    "fig.update_layout(\n",
    "    showlegend=False,\n",
    "    scene=dict(\n",
    "        aspectmode=\"data\",\n",
    "        xaxis=dict(range=[-5, 5]),\n",
    "        yaxis=dict(range=[-5, 5]),\n",
    "        zaxis=dict(range=[-1, 6]),\n",
    "    ),\n",
    ")\n",
    "fig.show()"
   ]
  },
  {
   "cell_type": "code",
   "execution_count": null,
   "metadata": {},
   "outputs": [],
   "source": []
  }
 ],
 "metadata": {
  "kernelspec": {
   "display_name": "desc-env",
   "language": "python",
   "name": "python3"
  },
  "language_info": {
   "codemirror_mode": {
    "name": "ipython",
    "version": 3
   },
   "file_extension": ".py",
   "mimetype": "text/x-python",
   "name": "python",
   "nbconvert_exporter": "python",
   "pygments_lexer": "ipython3",
   "version": "3.12.0"
  }
 },
 "nbformat": 4,
 "nbformat_minor": 2
}
