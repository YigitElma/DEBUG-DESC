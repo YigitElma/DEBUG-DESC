{
 "cells": [
  {
   "cell_type": "code",
   "execution_count": 1,
   "metadata": {},
   "outputs": [],
   "source": [
    "# import jax\n",
    "# import jax.numpy as jnp\n",
    "\n",
    "# jax.config.update(\"jax_compilation_cache_dir\", \"../jax-caches\")\n",
    "# jax.config.update(\"jax_persistent_cache_min_entry_size_bytes\", -1)\n",
    "# jax.config.update(\"jax_persistent_cache_min_compile_time_secs\", 0)"
   ]
  },
  {
   "cell_type": "code",
   "execution_count": 2,
   "metadata": {},
   "outputs": [],
   "source": [
    "import sys\n",
    "import os\n",
    "\n",
    "sys.path.insert(0, os.path.abspath(\".\"))\n",
    "sys.path.append(os.path.abspath(\"../\"))"
   ]
  },
  {
   "cell_type": "code",
   "execution_count": 3,
   "metadata": {},
   "outputs": [],
   "source": [
    "# from desc import set_device, _set_cpu_count\n",
    "\n",
    "# num_device = 2\n",
    "# _set_cpu_count(num_device)\n",
    "# set_device(\"cpu\", num_device=num_device)"
   ]
  },
  {
   "cell_type": "code",
   "execution_count": 4,
   "metadata": {},
   "outputs": [],
   "source": [
    "from desc.backend import jax\n",
    "\n",
    "# jax.devices(\"cpu\")"
   ]
  },
  {
   "cell_type": "code",
   "execution_count": 5,
   "metadata": {},
   "outputs": [],
   "source": [
    "import numpy as np\n",
    "np.set_printoptions(linewidth=np.inf, precision=4, suppress=True, threshold=sys.maxsize)\n",
    "import matplotlib.pyplot as plt\n",
    "%matplotlib inline\n",
    "import plotly.graph_objects as go\n",
    "import functools\n",
    "import scipy"
   ]
  },
  {
   "cell_type": "code",
   "execution_count": 6,
   "metadata": {},
   "outputs": [
    {
     "name": "stdout",
     "output_type": "stream",
     "text": [
      "DESC version=0.13.0+1687.gf75ae6abf.dirty.\n",
      "Using JAX backend: jax version=0.5.0, jaxlib version=0.5.0, dtype=float64.\n",
      "CPU Info:  13th Gen Intel(R) Core(TM) i5-1335U CPU with 8.30 GB available memory\n"
     ]
    }
   ],
   "source": [
    "import desc\n",
    "\n",
    "from desc.basis import *\n",
    "from desc.backend import *\n",
    "from desc.compute import *\n",
    "from desc.coils import *\n",
    "from desc.equilibrium import *\n",
    "from desc.examples import *\n",
    "from desc.grid import *\n",
    "from desc.geometry import *\n",
    "\n",
    "from desc.objectives import *\n",
    "from desc.objectives.objective_funs import *\n",
    "from desc.objectives.getters import *\n",
    "from desc.objectives.normalization import compute_scaling_factors\n",
    "from desc.objectives.utils import *\n",
    "from desc.optimize._constraint_wrappers import *\n",
    "\n",
    "from desc.transform import Transform\n",
    "from desc.plotting import *\n",
    "from desc.optimize import *\n",
    "from desc.perturbations import *\n",
    "from desc.profiles import *\n",
    "from desc.compat import *\n",
    "from desc.utils import *\n",
    "from desc.magnetic_fields import *\n",
    "\n",
    "from desc.__main__ import main\n",
    "from desc.vmec_utils import vmec_boundary_subspace\n",
    "from desc.input_reader import InputReader\n",
    "from desc.continuation import solve_continuation_automatic\n",
    "\n",
    "print_backend_info()"
   ]
  },
  {
   "cell_type": "code",
   "execution_count": 10,
   "metadata": {},
   "outputs": [
    {
     "name": "stderr",
     "output_type": "stream",
     "text": [
      "/home/yigit/Codes/DESC/desc/utils.py:562: UserWarning: Reducing radial (L) resolution can make plasma boundary inconsistent. Recommend calling `eq.surface = eq.get_surface_at(rho=1.0)`\n",
      "  warnings.warn(colored(msg, \"yellow\"), err)\n"
     ]
    },
    {
     "name": "stdout",
     "output_type": "stream",
     "text": [
      "Building objective: Effective ripple\n",
      "Building objective: force\n",
      "Precomputing transforms\n"
     ]
    },
    {
     "data": {
      "text/plain": [
       "(2, 184)"
      ]
     },
     "execution_count": 10,
     "metadata": {},
     "output_type": "execute_result"
    }
   ],
   "source": [
    "method = \"jac_scaled_error\"\n",
    "spline = False\n",
    "eq = desc.examples.get(\"W7-X\")\n",
    "eq.change_resolution(6, 6, 6, 12, 12, 12)\n",
    "num_transit = 10\n",
    "objective = ObjectiveFunction(\n",
    "    EffectiveRipple(\n",
    "        eq,\n",
    "        grid=LinearGrid(\n",
    "            rho=[0.4, 1.0], M=eq.M_grid, N=eq.N_grid, NFP=eq.NFP, sym=False\n",
    "        ),\n",
    "        num_transit=num_transit,\n",
    "        num_well=10 * num_transit,\n",
    "        num_quad=16,\n",
    "        spline=spline,\n",
    "    ),\n",
    ")\n",
    "objective.build()\n",
    "constraint = ObjectiveFunction(\n",
    "    ForceBalance(eq),\n",
    ")\n",
    "prox = ProximalProjection(objective, constraint, eq)\n",
    "prox.build(eq)\n",
    "x = prox.x(eq)\n",
    "J = getattr(prox, method)(x, prox.constants).block_until_ready()\n",
    "J.shape"
   ]
  },
  {
   "cell_type": "code",
   "execution_count": 8,
   "metadata": {},
   "outputs": [
    {
     "data": {
      "text/plain": [
       "'batched'"
      ]
     },
     "execution_count": 8,
     "metadata": {},
     "output_type": "execute_result"
    }
   ],
   "source": [
    "prox._constraint._deriv_mode"
   ]
  },
  {
   "cell_type": "code",
   "execution_count": null,
   "metadata": {},
   "outputs": [],
   "source": [
    "# TODO: this is for debugging purposes, must be deleted before merging!\n",
    "# loops over objectives without using mpi\n",
    "@jit_if_not_parallel\n",
    "def _proximal_jvp_blocked_test(objective, vgs, xgs, op):\n",
    "    out = []\n",
    "    for k, (obj, const) in enumerate(zip(objective.objectives, objective.constants)):\n",
    "        # TODO: this is for debugging purposes, must be deleted before merging!\n",
    "        if objective._is_multi_device:\n",
    "            print(f\"This should run on GPU id:{obj._device_id}\")\n",
    "        thing_idx = objective._things_per_objective_idx[k]\n",
    "        xi = [xgs[i] for i in thing_idx]\n",
    "        vi = [vgs[i] for i in thing_idx]\n",
    "        if objective._is_multi_device:  # pragma: no cover\n",
    "            # inputs to jitted functions must live on the same device. Need to\n",
    "            # put xi and vi on the same device as the objective\n",
    "            xi = jax.device_put(xi, obj._device)\n",
    "            vi = jax.device_put(vi, obj._device)\n",
    "        assert len(xi) > 0\n",
    "        assert len(vi) > 0\n",
    "        assert len(xi) == len(vi)\n",
    "        if obj._deriv_mode == \"rev\":\n",
    "            # obj might not allow fwd mode, so compute full rev mode jacobian\n",
    "            # and do matmul manually. This is slightly inefficient, but usually\n",
    "            # when rev mode is used, dim_f <<< dim_x, so its not too bad.\n",
    "            Ji = getattr(obj, \"jac_\" + op)(*xi, constants=const)\n",
    "            outi = jnp.array([Jii @ vii.T for Jii, vii in zip(Ji, vi)]).sum(axis=0)\n",
    "            out.append(outi)\n",
    "        else:\n",
    "            outi = getattr(obj, \"jvp_\" + op)([_vi for _vi in vi], xi, constants=const).T\n",
    "            out.append(outi)\n",
    "    if objective._is_multi_device:  # pragma: no cover\n",
    "        out = pconcat(out)\n",
    "    else:\n",
    "        out = jnp.concatenate(out)\n",
    "    return -out"
   ]
  }
 ],
 "metadata": {
  "kernelspec": {
   "display_name": "desc-env",
   "language": "python",
   "name": "python3"
  },
  "language_info": {
   "codemirror_mode": {
    "name": "ipython",
    "version": 3
   },
   "file_extension": ".py",
   "mimetype": "text/x-python",
   "name": "python",
   "nbconvert_exporter": "python",
   "pygments_lexer": "ipython3",
   "version": "3.12.0"
  }
 },
 "nbformat": 4,
 "nbformat_minor": 2
}
