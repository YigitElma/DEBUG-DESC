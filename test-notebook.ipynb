{
 "cells": [
  {
   "cell_type": "code",
   "execution_count": null,
   "metadata": {},
   "outputs": [],
   "source": [
    "# import jax\n",
    "# import jax.numpy as jnp\n",
    "\n",
    "# jax.config.update(\"jax_compilation_cache_dir\", \"./jax-caches\")\n",
    "# jax.config.update(\"jax_persistent_cache_min_entry_size_bytes\", -1)\n",
    "# jax.config.update(\"jax_persistent_cache_min_compile_time_secs\", 0)"
   ]
  },
  {
   "cell_type": "code",
   "execution_count": 1,
   "metadata": {},
   "outputs": [],
   "source": [
    "import sys\n",
    "import os\n",
    "\n",
    "sys.path.insert(0, os.path.abspath(\".\"))\n",
    "sys.path.append(os.path.abspath(\"../\"))\n",
    "\n",
    "# os.environ[\"XLA_PYTHON_CLIENT_MEM_FRACTION\"] = \"0.25\"\n",
    "# os.environ[\"XLA_PYTHON_CLIENT_ALLOCATOR\"] = \"platform\"\n",
    "# os.environ[\"XLA_FLAGS\"] = (\n",
    "#     \"--xla_disable_hlo_passes=constant_folding\"  # this disables constant folding\n",
    "# )\n",
    "from desc import set_device\n",
    "set_device(\"gpu\")"
   ]
  },
  {
   "cell_type": "code",
   "execution_count": 2,
   "metadata": {},
   "outputs": [],
   "source": [
    "# from desc import set_device, _set_cpu_count\n",
    "\n",
    "# num_device = 2\n",
    "# _set_cpu_count(num_device)\n",
    "# set_device(\"cpu\", num_device=num_device)"
   ]
  },
  {
   "cell_type": "code",
   "execution_count": 3,
   "metadata": {},
   "outputs": [],
   "source": [
    "import numpy as np\n",
    "np.set_printoptions(linewidth=np.inf, precision=4, suppress=True, threshold=sys.maxsize)\n",
    "import matplotlib.pyplot as plt\n",
    "%matplotlib inline\n",
    "import plotly.graph_objects as go\n",
    "import functools\n",
    "import scipy"
   ]
  },
  {
   "cell_type": "code",
   "execution_count": 4,
   "metadata": {},
   "outputs": [
    {
     "name": "stdout",
     "output_type": "stream",
     "text": [
      "DESC version=0.14.2+685.ga8c422804.\n",
      "Using JAX backend: jax version=0.6.2, jaxlib version=0.6.2, dtype=float64.\n",
      "Using device: NVIDIA GeForce RTX 4080 Laptop GPU (id=0), with 11.99 GB available memory.\n"
     ]
    }
   ],
   "source": [
    "import desc\n",
    "\n",
    "from desc.basis import *\n",
    "from desc.backend import *\n",
    "from desc.compute import *\n",
    "from desc.coils import *\n",
    "from desc.equilibrium import *\n",
    "from desc.examples import *\n",
    "from desc.grid import *\n",
    "from desc.geometry import *\n",
    "\n",
    "from desc.objectives import *\n",
    "from desc.objectives.objective_funs import *\n",
    "from desc.objectives.getters import *\n",
    "from desc.objectives.normalization import compute_scaling_factors\n",
    "from desc.objectives.utils import *\n",
    "from desc.optimize._constraint_wrappers import *\n",
    "\n",
    "from desc.transform import Transform\n",
    "from desc.plotting import *\n",
    "from desc.optimize import *\n",
    "from desc.perturbations import *\n",
    "from desc.profiles import *\n",
    "from desc.compat import *\n",
    "from desc.utils import *\n",
    "from desc.magnetic_fields import *\n",
    "\n",
    "from desc.__main__ import main\n",
    "from desc.vmec_utils import vmec_boundary_subspace\n",
    "from desc.input_reader import InputReader\n",
    "from desc.continuation import solve_continuation_automatic\n",
    "from desc.compute.data_index import register_compute_fun\n",
    "from desc.optimize.utils import solve_triangular_regularized\n",
    "\n",
    "print_backend_info()"
   ]
  },
  {
   "cell_type": "code",
   "execution_count": 5,
   "metadata": {},
   "outputs": [],
   "source": [
    "from desc.particles import *"
   ]
  },
  {
   "cell_type": "code",
   "execution_count": 6,
   "metadata": {},
   "outputs": [
    {
     "name": "stderr",
     "output_type": "stream",
     "text": [
      "/CODES/DESC/desc/utils.py:572: UserWarning: Unequal number of field periods for grid 1 and basis 2.\n",
      "  warnings.warn(msg, err)\n",
      "/CODES/DESC/desc/utils.py:572: UserWarning: Unequal number of field periods for grid 1 and basis 2.\n",
      "  warnings.warn(msg, err)\n"
     ]
    }
   ],
   "source": [
    "eqi = get(\"precise_QA\")\n",
    "# eqi = load(\"eq_opt_low_mirror_8_07_20.h5\")\n",
    "\n",
    "eq = rescale(eq=eqi, L=(\"a\", 1.7044), B=(\"<B>\", 5.86), copy=True)\n",
    "eqi_scaled = eq.copy()\n",
    "fig = plot_3d(eq, \"|B|\", alpha=0.5)\n",
    "\n",
    "# eq.iota = eq.get_profile(\"iota\", kind=\"power_series\")"
   ]
  },
  {
   "cell_type": "code",
   "execution_count": null,
   "metadata": {},
   "outputs": [],
   "source": [
    "theta0 = 0\n",
    "N = 5  # particles traced\n",
    "RHO0 = 0.2 * np.ones(N)\n",
    "\n",
    "xi0 = np.random.rand(N)\n",
    "# xi0 = 0.9\n",
    "print(xi0)\n",
    "model_flux = VacuumGuidingCenterTrajectory(frame=\"flux\")\n",
    "particles_flux = ManualParticleInitializerFlux(\n",
    "    rho0=RHO0,\n",
    "    theta0=np.random.rand(N) * 2 * np.pi,\n",
    "    zeta0=jnp.zeros_like(RHO0),\n",
    "    xi0=xi0,\n",
    "    E=3.5e6,\n",
    "    m=4.0,\n",
    "    q=2.0,\n",
    ")\n",
    "dt = 0.01  / particles_flux.v0[0]\n",
    "print(f\"dt = {dt:.2e}\")\n",
    "from diffrax import Euler\n",
    "\n",
    "ts = np.linspace(0, 1e-6, 100)\n",
    "fig = plot_3d(eq, \"|B|\", alpha=0.5)\n",
    "plot_particle_trajectories(\n",
    "    eq, model_flux, particles_flux, ts, \n",
    "    bounds_R=(0,1), fig=fig, solver=Euler(), \n",
    "    min_step_size=dt\n",
    ")"
   ]
  },
  {
   "cell_type": "code",
   "execution_count": null,
   "metadata": {},
   "outputs": [],
   "source": [
    "obj = ObjectiveFunction(\n",
    "    DirectParticleTracing(\n",
    "        eq, \n",
    "        particles=particles_flux, \n",
    "        model=model_flux,\n",
    "        solver=Euler(),\n",
    "        ts=np.linspace(0, 1e-6, 100),\n",
    "    )\n",
    ")\n",
    "obj.build(use_jit=True)"
   ]
  },
  {
   "cell_type": "code",
   "execution_count": null,
   "metadata": {},
   "outputs": [],
   "source": [
    "obj.compute_scaled_error(obj.x(eq))"
   ]
  },
  {
   "cell_type": "code",
   "execution_count": null,
   "metadata": {},
   "outputs": [],
   "source": [
    "g = obj.grad(obj.x(eq))"
   ]
  },
  {
   "cell_type": "code",
   "execution_count": null,
   "metadata": {},
   "outputs": [],
   "source": [
    "print(f\"{max(g):.2e}\")"
   ]
  }
 ],
 "metadata": {
  "kernelspec": {
   "display_name": "gpu",
   "language": "python",
   "name": "python3"
  },
  "language_info": {
   "codemirror_mode": {
    "name": "ipython",
    "version": 3
   },
   "file_extension": ".py",
   "mimetype": "text/x-python",
   "name": "python",
   "nbconvert_exporter": "python",
   "pygments_lexer": "ipython3",
   "version": "3.12.11"
  }
 },
 "nbformat": 4,
 "nbformat_minor": 2
}
