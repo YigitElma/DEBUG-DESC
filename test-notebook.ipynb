{
 "cells": [
  {
   "cell_type": "code",
   "execution_count": 1,
   "metadata": {},
   "outputs": [],
   "source": [
    "# import jax\n",
    "# import jax.numpy as jnp\n",
    "\n",
    "# jax.config.update(\"jax_compilation_cache_dir\", \"../jax-caches\")\n",
    "# jax.config.update(\"jax_persistent_cache_min_entry_size_bytes\", -1)\n",
    "# jax.config.update(\"jax_persistent_cache_min_compile_time_secs\", 0)"
   ]
  },
  {
   "cell_type": "code",
   "execution_count": 2,
   "metadata": {},
   "outputs": [],
   "source": [
    "import sys\n",
    "import os\n",
    "\n",
    "sys.path.insert(0, os.path.abspath(\".\"))\n",
    "sys.path.append(os.path.abspath(\"../\"))\n",
    "\n",
    "# os.environ[\"XLA_PYTHON_CLIENT_MEM_FRACTION\"] = \"0.25\"\n",
    "# os.environ[\"XLA_PYTHON_CLIENT_ALLOCATOR\"] = \"platform\"\n",
    "# from desc import set_device\n",
    "# set_device(\"gpu\")"
   ]
  },
  {
   "cell_type": "code",
   "execution_count": 3,
   "metadata": {},
   "outputs": [],
   "source": [
    "# from desc import set_device, _set_cpu_count\n",
    "\n",
    "# num_device = 2\n",
    "# _set_cpu_count(num_device)\n",
    "# set_device(\"cpu\", num_device=num_device)"
   ]
  },
  {
   "cell_type": "code",
   "execution_count": 4,
   "metadata": {},
   "outputs": [],
   "source": [
    "import numpy as np\n",
    "np.set_printoptions(linewidth=np.inf, precision=4, suppress=True, threshold=sys.maxsize)\n",
    "import matplotlib.pyplot as plt\n",
    "%matplotlib inline\n",
    "import plotly.graph_objects as go\n",
    "import functools\n",
    "import scipy"
   ]
  },
  {
   "cell_type": "code",
   "execution_count": 5,
   "metadata": {},
   "outputs": [
    {
     "name": "stdout",
     "output_type": "stream",
     "text": [
      "DESC version=0.14.2+167.ga620ee5d8.dirty.\n",
      "Using JAX backend: jax version=0.6.2, jaxlib version=0.6.2, dtype=float64.\n",
      "Using device: CPU, with 7.53 GB available memory.\n"
     ]
    }
   ],
   "source": [
    "import desc\n",
    "\n",
    "from desc.basis import *\n",
    "from desc.backend import *\n",
    "from desc.compute import *\n",
    "from desc.coils import *\n",
    "from desc.equilibrium import *\n",
    "from desc.examples import *\n",
    "from desc.grid import *\n",
    "from desc.geometry import *\n",
    "\n",
    "from desc.objectives import *\n",
    "from desc.objectives.objective_funs import *\n",
    "from desc.objectives.getters import *\n",
    "from desc.objectives.normalization import compute_scaling_factors\n",
    "from desc.objectives.utils import *\n",
    "from desc.optimize._constraint_wrappers import *\n",
    "\n",
    "from desc.transform import Transform\n",
    "from desc.plotting import *\n",
    "from desc.optimize import *\n",
    "from desc.perturbations import *\n",
    "from desc.profiles import *\n",
    "from desc.compat import *\n",
    "from desc.utils import *\n",
    "from desc.magnetic_fields import *\n",
    "\n",
    "from desc.__main__ import main\n",
    "from desc.vmec_utils import vmec_boundary_subspace\n",
    "from desc.input_reader import InputReader\n",
    "from desc.continuation import solve_continuation_automatic\n",
    "from desc.compute.data_index import register_compute_fun\n",
    "from desc.optimize.utils import solve_triangular_regularized\n",
    "\n",
    "print_backend_info()"
   ]
  },
  {
   "cell_type": "code",
   "execution_count": 6,
   "metadata": {},
   "outputs": [],
   "source": [
    "eq = get(\"precise_QA\")"
   ]
  },
  {
   "cell_type": "code",
   "execution_count": 7,
   "metadata": {},
   "outputs": [
    {
     "name": "stdout",
     "output_type": "stream",
     "text": [
      "Precomputing transforms\n"
     ]
    }
   ],
   "source": [
    "obj = ForceBalance(eq)\n",
    "obj.build()"
   ]
  },
  {
   "cell_type": "code",
   "execution_count": 9,
   "metadata": {},
   "outputs": [
    {
     "data": {
      "text/plain": [
       "{'grid': ConcentricGrid at 0x73d9034175f0 (L=16, M=16, N=16, NFP=2, sym=True, is_meshgrid=False, node_pattern=jacobi, coordinates=rtz),\n",
       " 'R': Transform at 0x73d902f5d6d0 (method=fft, basis=FourierZernikeBasis at 0x73d902cec6e0 (L=8, M=8, N=8, NFP=2, sym=cos, spectral_indexing=ansi), grid=ConcentricGrid at 0x73d9034175f0 (L=16, M=16, N=16, NFP=2, sym=True, is_meshgrid=False, node_pattern=jacobi, coordinates=rtz)),\n",
       " 'Z': Transform at 0x73d902da0680 (method=fft, basis=FourierZernikeBasis at 0x73d902da0530 (L=8, M=8, N=8, NFP=2, sym=sin, spectral_indexing=ansi), grid=ConcentricGrid at 0x73d9034175f0 (L=16, M=16, N=16, NFP=2, sym=True, is_meshgrid=False, node_pattern=jacobi, coordinates=rtz)),\n",
       " 'L': Transform at 0x73d902da0680 (method=fft, basis=FourierZernikeBasis at 0x73d902da0530 (L=8, M=8, N=8, NFP=2, sym=sin, spectral_indexing=ansi), grid=ConcentricGrid at 0x73d9034175f0 (L=16, M=16, N=16, NFP=2, sym=True, is_meshgrid=False, node_pattern=jacobi, coordinates=rtz))}"
      ]
     },
     "execution_count": 9,
     "metadata": {},
     "output_type": "execute_result"
    }
   ],
   "source": [
    "obj.constants[\"transforms\"]"
   ]
  }
 ],
 "metadata": {
  "kernelspec": {
   "display_name": "desc-env",
   "language": "python",
   "name": "python3"
  },
  "language_info": {
   "codemirror_mode": {
    "name": "ipython",
    "version": 3
   },
   "file_extension": ".py",
   "mimetype": "text/x-python",
   "name": "python",
   "nbconvert_exporter": "python",
   "pygments_lexer": "ipython3",
   "version": "3.12.0"
  }
 },
 "nbformat": 4,
 "nbformat_minor": 2
}
