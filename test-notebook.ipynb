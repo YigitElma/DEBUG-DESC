{
 "cells": [
  {
   "cell_type": "code",
   "execution_count": null,
   "metadata": {},
   "outputs": [],
   "source": [
    "# import jax\n",
    "# import jax.numpy as jnp\n",
    "\n",
    "# jax.config.update(\"jax_compilation_cache_dir\", \"./jax-caches\")\n",
    "# jax.config.update(\"jax_persistent_cache_min_entry_size_bytes\", -1)\n",
    "# jax.config.update(\"jax_persistent_cache_min_compile_time_secs\", 0)"
   ]
  },
  {
   "cell_type": "code",
   "execution_count": 1,
   "metadata": {},
   "outputs": [],
   "source": [
    "import sys\n",
    "import os\n",
    "\n",
    "sys.path.insert(0, os.path.abspath(\".\"))\n",
    "sys.path.append(os.path.abspath(\"../\"))\n",
    "\n",
    "# os.environ[\"XLA_PYTHON_CLIENT_MEM_FRACTION\"] = \"0.25\"\n",
    "# os.environ[\"XLA_PYTHON_CLIENT_ALLOCATOR\"] = \"platform\"\n",
    "# from desc import set_device\n",
    "# set_device(\"gpu\")"
   ]
  },
  {
   "cell_type": "code",
   "execution_count": 2,
   "metadata": {},
   "outputs": [],
   "source": [
    "# from desc import set_device, _set_cpu_count\n",
    "\n",
    "# num_device = 2\n",
    "# _set_cpu_count(num_device)\n",
    "# set_device(\"cpu\", num_device=num_device)"
   ]
  },
  {
   "cell_type": "code",
   "execution_count": 3,
   "metadata": {},
   "outputs": [],
   "source": [
    "import numpy as np\n",
    "np.set_printoptions(linewidth=np.inf, precision=4, suppress=True, threshold=sys.maxsize)\n",
    "import matplotlib.pyplot as plt\n",
    "%matplotlib inline\n",
    "import plotly.graph_objects as go\n",
    "import functools\n",
    "import scipy"
   ]
  },
  {
   "cell_type": "code",
   "execution_count": 4,
   "metadata": {},
   "outputs": [
    {
     "name": "stdout",
     "output_type": "stream",
     "text": [
      "DESC version=0.14.2+633.g5e938954b.dirty.\n",
      "Using JAX backend: jax version=0.6.2, jaxlib version=0.6.2, dtype=float64.\n",
      "Using device: CPU, with 10.84 GB available memory.\n"
     ]
    }
   ],
   "source": [
    "import desc\n",
    "\n",
    "from desc.basis import *\n",
    "from desc.backend import *\n",
    "from desc.compute import *\n",
    "from desc.coils import *\n",
    "from desc.equilibrium import *\n",
    "from desc.examples import *\n",
    "from desc.grid import *\n",
    "from desc.geometry import *\n",
    "\n",
    "from desc.objectives import *\n",
    "from desc.objectives.objective_funs import *\n",
    "from desc.objectives.getters import *\n",
    "from desc.objectives.normalization import compute_scaling_factors\n",
    "from desc.objectives.utils import *\n",
    "from desc.optimize._constraint_wrappers import *\n",
    "\n",
    "from desc.transform import Transform\n",
    "from desc.plotting import *\n",
    "from desc.optimize import *\n",
    "from desc.perturbations import *\n",
    "from desc.profiles import *\n",
    "from desc.compat import *\n",
    "from desc.utils import *\n",
    "from desc.magnetic_fields import *\n",
    "\n",
    "from desc.__main__ import main\n",
    "from desc.vmec_utils import vmec_boundary_subspace\n",
    "from desc.input_reader import InputReader\n",
    "from desc.continuation import solve_continuation_automatic\n",
    "from desc.compute.data_index import register_compute_fun\n",
    "from desc.optimize.utils import solve_triangular_regularized\n",
    "\n",
    "print_backend_info()"
   ]
  },
  {
   "cell_type": "code",
   "execution_count": 5,
   "metadata": {},
   "outputs": [],
   "source": [
    "from diffrax import Euler, Heun\n",
    "from desc.particles import *"
   ]
  },
  {
   "cell_type": "code",
   "execution_count": null,
   "metadata": {},
   "outputs": [],
   "source": [
    "def custom_B(coords, params):\n",
    "    \"\"\"Custom magnetic field function.\"\"\"\n",
    "    xyz = rpz2xyz(coords)\n",
    "    X, Y, Z = xyz.T\n",
    "    B0, dB = params\n",
    "    B = jnp.zeros_like(coords)\n",
    "    B = B.at[:, 2].set(B0 + dB * X)\n",
    "    B = xyz2rpz_vec(B, phi=coords[:, 1])\n",
    "    return B"
   ]
  },
  {
   "cell_type": "code",
   "execution_count": null,
   "metadata": {},
   "outputs": [],
   "source": [
    "from desc.particles import *\n",
    "field = ToroidalMagneticField(B0=1.0, R0=3.0)\n",
    "R0 = np.array([3.1, 4.0])\n",
    "particles = ManualParticleInitializerLab(R0=R0, phi0=0, Z0=0, xi0=1, E=1e8)\n",
    "model = VacuumGuidingCenterTrajectory(frame=\"lab\")\n",
    "ts = np.linspace(0, 1e-6, 1000)\n",
    "plot_particle_trajectories(field=field,model=model, initializer=particles, ts=ts, return_data=False)"
   ]
  },
  {
   "cell_type": "code",
   "execution_count": null,
   "metadata": {},
   "outputs": [],
   "source": [
    "surf = FourierRZToroidalSurface(\n",
    "    R_lmn = np.array([4, 1]),\n",
    "    modes_R = np.array([[0, 0], [1, 0]]),\n",
    "    Z_lmn = np.array([0, -1]),\n",
    "    modes_Z = np.array([[0, 0], [-1, 0]]),\n",
    ")\n",
    "eq = Equilibrium(surface=surf, M=4, N=0, Psi=3)\n",
    "eq.solve(verbose=3)\n",
    "plot_section(eq, \"|B|\")"
   ]
  },
  {
   "cell_type": "code",
   "execution_count": null,
   "metadata": {},
   "outputs": [],
   "source": [
    "from diffrax import Euler, Heun\n",
    "from desc.particles import *\n",
    "R0 = np.array([4.2, 4.3])\n",
    "particles = ManualParticleInitializerLab(R0=R0, phi0=0, Z0=0, xi0=1, E=1e8, eq=eq)\n",
    "model = VacuumGuidingCenterTrajectory(frame=\"flux\")\n",
    "ts = np.linspace(0, 1e-9, 100)\n",
    "plot_particle_trajectories(field=eq, model=model, initializer=particles, ts=ts, return_data=False, solver=Euler(), min_step_size=1e-20, max_steps=1e10)"
   ]
  },
  {
   "cell_type": "code",
   "execution_count": 6,
   "metadata": {},
   "outputs": [],
   "source": [
    "def f1(x, eq, m, q, mu):\n",
    "    rho, theta, zeta, vpar = x\n",
    "    grid = Grid(\n",
    "        jnp.array([rho, theta, zeta]).T,\n",
    "        spacing=jnp.zeros((3,)).T,\n",
    "        jitable=True,\n",
    "        sort=False,\n",
    "    )\n",
    "    data_keys = [\n",
    "        \"B\",\n",
    "        \"|B|\",\n",
    "        \"grad(|B|)\",\n",
    "        \"e^rho\",\n",
    "        \"e^theta\",\n",
    "        \"e^zeta\",\n",
    "        \"b\",\n",
    "    ]\n",
    "\n",
    "    transforms = get_transforms(data_keys, eq, grid, jitable=True)\n",
    "    profiles = get_profiles(data_keys, eq, grid)\n",
    "    data = compute_fun(eq, data_keys, eq.params_dict, transforms, profiles)\n",
    "\n",
    "    # derivative of the guiding center position in R, phi, Z coordinates\n",
    "    Rdot = vpar * data[\"b\"] + (\n",
    "        (m / q / data[\"|B|\"] ** 2)\n",
    "        * ((mu * data[\"|B|\"]) + vpar**2)\n",
    "        * cross(data[\"b\"], data[\"grad(|B|)\"])\n",
    "    )\n",
    "    rhodot = dot(Rdot, data[\"e^rho\"])\n",
    "    thetadot = dot(Rdot, data[\"e^theta\"])\n",
    "    zetadot = dot(Rdot, data[\"e^zeta\"])\n",
    "    vpardot = -mu * dot(data[\"b\"], data[\"grad(|B|)\"])\n",
    "    dxdt = jnp.array([rhodot, thetadot, zetadot, vpardot]).reshape(x.shape)\n",
    "    return dxdt.squeeze()\n",
    "\n",
    "def f2(x, field, m, q, mu, **kwargs):\n",
    "    vpar = x[-1]\n",
    "    coord = x[:-1]\n",
    "\n",
    "    field_compute = lambda y: jnp.linalg.norm(\n",
    "        field.compute_magnetic_field(y, **kwargs), axis=-1\n",
    "    ).squeeze()\n",
    "\n",
    "    # magnetic field vector in R, phi, Z coordinates\n",
    "    B = field.compute_magnetic_field(coord, **kwargs)\n",
    "    grad_B = Derivative(field_compute, mode=\"grad\")(coord)\n",
    "\n",
    "    modB = jnp.linalg.norm(B, axis=-1)\n",
    "    b = B / modB\n",
    "    # factor of R from grad in cylindrical coordinates\n",
    "    grad_Bphi = safediv(grad_B[1], coord[0])\n",
    "    grad_B = grad_B.at[1].set(grad_Bphi)\n",
    "    Rdot = vpar * b + (m / q / modB**2 * (mu * modB + vpar**2)) * cross(b, grad_B)\n",
    "\n",
    "    vpardot = jnp.atleast_2d(-mu * dot(b, grad_B))\n",
    "    dxdt = jnp.hstack([Rdot, vpardot.T]).reshape(x.shape)\n",
    "    return dxdt.squeeze()"
   ]
  },
  {
   "cell_type": "code",
   "execution_count": 7,
   "metadata": {},
   "outputs": [],
   "source": [
    "eq = get(\"precise_QA\")\n",
    "field = desc.io.load(\"../tests/inputs/precise_QA_helical_coils.h5\")"
   ]
  },
  {
   "cell_type": "code",
   "execution_count": 8,
   "metadata": {},
   "outputs": [],
   "source": [
    "r = jnp.linspace(0.1, 0.99, 2000)\n",
    "\n",
    "particles = ManualParticleInitializerFlux(\n",
    "    rho0 = r,\n",
    "    theta0 = 0.0,\n",
    "    zeta0 = 0.0,\n",
    "    xi0 = 1.0,\n",
    "    E = 1e3,\n",
    "    eq=eq,\n",
    ")\n",
    "model = VacuumGuidingCenterTrajectory(frame=\"flux\")\n",
    "model_lab = VacuumGuidingCenterTrajectory(frame=\"lab\")"
   ]
  },
  {
   "cell_type": "code",
   "execution_count": 9,
   "metadata": {},
   "outputs": [],
   "source": [
    "x0, args = particles.init_particles(model, eq)"
   ]
  },
  {
   "cell_type": "code",
   "execution_count": 10,
   "metadata": {},
   "outputs": [
    {
     "name": "stderr",
     "output_type": "stream",
     "text": [
      "/home/yigit/Codes/DESC/desc/particles.py:507: UserWarning: The input coordinates are in flux coordinates, but the model operates in lab coordinates. Converting the given coordinates to lab frame.\n",
      "  warnings.warn(\n"
     ]
    }
   ],
   "source": [
    "x0_lab, args_lab = particles.init_particles(model_lab, field)"
   ]
  },
  {
   "cell_type": "code",
   "execution_count": 11,
   "metadata": {},
   "outputs": [],
   "source": [
    "m, q, mu = args\n",
    "m = m[0]\n",
    "q = q[0]    \n",
    "mu = mu[0]"
   ]
  },
  {
   "cell_type": "code",
   "execution_count": 12,
   "metadata": {},
   "outputs": [],
   "source": [
    "intf1 = lambda x: f1(x, eq, m, q, mu)\n",
    "intf2 = lambda x: f2(x, field, m, q, mu)"
   ]
  },
  {
   "cell_type": "code",
   "execution_count": 13,
   "metadata": {},
   "outputs": [],
   "source": [
    "s1 = jax.vmap(intf1)(x0)"
   ]
  },
  {
   "cell_type": "code",
   "execution_count": 14,
   "metadata": {},
   "outputs": [],
   "source": [
    "s2 = jax.vmap(intf2)(x0_lab)"
   ]
  }
 ],
 "metadata": {
  "kernelspec": {
   "display_name": "desc-env",
   "language": "python",
   "name": "python3"
  },
  "language_info": {
   "codemirror_mode": {
    "name": "ipython",
    "version": 3
   },
   "file_extension": ".py",
   "mimetype": "text/x-python",
   "name": "python",
   "nbconvert_exporter": "python",
   "pygments_lexer": "ipython3",
   "version": "3.12.11"
  }
 },
 "nbformat": 4,
 "nbformat_minor": 2
}
