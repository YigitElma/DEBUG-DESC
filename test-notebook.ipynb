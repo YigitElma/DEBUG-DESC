{
 "cells": [
  {
   "cell_type": "code",
   "execution_count": 1,
   "metadata": {},
   "outputs": [],
   "source": [
    "# import jax\n",
    "# import jax.numpy as jnp\n",
    "\n",
    "# jax.config.update(\"jax_compilation_cache_dir\", \"../jax-caches\")\n",
    "# jax.config.update(\"jax_persistent_cache_min_entry_size_bytes\", -1)\n",
    "# jax.config.update(\"jax_persistent_cache_min_compile_time_secs\", 0)"
   ]
  },
  {
   "cell_type": "code",
   "execution_count": 2,
   "metadata": {},
   "outputs": [],
   "source": [
    "import sys\n",
    "import os\n",
    "\n",
    "sys.path.insert(0, os.path.abspath(\".\"))\n",
    "sys.path.append(os.path.abspath(\"../\"))"
   ]
  },
  {
   "cell_type": "code",
   "execution_count": 3,
   "metadata": {},
   "outputs": [],
   "source": [
    "# from desc import set_device, _set_cpu_count\n",
    "\n",
    "# num_device = 2\n",
    "# _set_cpu_count(num_device)\n",
    "# set_device(\"cpu\", num_device=num_device)"
   ]
  },
  {
   "cell_type": "code",
   "execution_count": 4,
   "metadata": {},
   "outputs": [],
   "source": [
    "# from desc.backend import jax\n",
    "# jax.devices(\"cpu\")"
   ]
  },
  {
   "cell_type": "code",
   "execution_count": 5,
   "metadata": {},
   "outputs": [],
   "source": [
    "import numpy as np\n",
    "np.set_printoptions(linewidth=np.inf, precision=4, suppress=True, threshold=sys.maxsize)\n",
    "import matplotlib.pyplot as plt\n",
    "%matplotlib inline\n",
    "import plotly.graph_objects as go\n",
    "import functools\n",
    "import scipy"
   ]
  },
  {
   "cell_type": "code",
   "execution_count": 6,
   "metadata": {},
   "outputs": [
    {
     "name": "stdout",
     "output_type": "stream",
     "text": [
      "DESC version=0.13.0+1623.gef9574ef3.\n",
      "Using JAX backend: jax version=0.5.0, jaxlib version=0.5.0, dtype=float64.\n",
      "Using device: CPU, with 7.73 GB available memory.\n"
     ]
    }
   ],
   "source": [
    "import desc\n",
    "\n",
    "from desc.basis import *\n",
    "from desc.backend import *\n",
    "from desc.compute import *\n",
    "from desc.coils import *\n",
    "from desc.equilibrium import *\n",
    "from desc.examples import *\n",
    "from desc.grid import *\n",
    "from desc.geometry import *\n",
    "\n",
    "from desc.objectives import *\n",
    "from desc.objectives.objective_funs import *\n",
    "from desc.objectives.getters import *\n",
    "from desc.objectives.normalization import compute_scaling_factors\n",
    "from desc.objectives.utils import *\n",
    "from desc.optimize._constraint_wrappers import *\n",
    "\n",
    "from desc.transform import Transform\n",
    "from desc.plotting import *\n",
    "from desc.optimize import *\n",
    "from desc.perturbations import *\n",
    "from desc.profiles import *\n",
    "from desc.compat import *\n",
    "from desc.utils import *\n",
    "from desc.magnetic_fields import *\n",
    "\n",
    "from desc.__main__ import main\n",
    "from desc.vmec_utils import vmec_boundary_subspace\n",
    "from desc.input_reader import InputReader\n",
    "from desc.continuation import solve_continuation_automatic\n",
    "\n",
    "print_backend_info()"
   ]
  },
  {
   "cell_type": "code",
   "execution_count": 7,
   "metadata": {},
   "outputs": [
    {
     "name": "stdout",
     "output_type": "stream",
     "text": [
      "Building objective: QS two-term\n",
      "Precomputing transforms\n",
      "Building objective: force\n",
      "Precomputing transforms\n",
      "20.3 s ± 4.17 s per loop (mean ± std. dev. of 7 runs, 1 loop each)\n"
     ]
    }
   ],
   "source": [
    "eq = desc.examples.get(\"ATF\")\n",
    "grid = LinearGrid(M=eq.M_grid, N=eq.N_grid, NFP=eq.NFP, rho=np.linspace(0.1, 1, 10))\n",
    "objective = ObjectiveFunction(QuasisymmetryTwoTerm(eq, grid=grid))\n",
    "constraint = ObjectiveFunction(ForceBalance(eq))\n",
    "prox = ProximalProjection(objective, constraint, eq)\n",
    "prox.build()\n",
    "x = prox.x(eq)\n",
    "J = prox.jac_scaled_error(x, prox.constants).block_until_ready()\n",
    "%timeit _ = prox.jac_scaled_error(x, prox.constants).block_until_ready()"
   ]
  }
 ],
 "metadata": {
  "kernelspec": {
   "display_name": "desc-13",
   "language": "python",
   "name": "python3"
  },
  "language_info": {
   "codemirror_mode": {
    "name": "ipython",
    "version": 3
   },
   "file_extension": ".py",
   "mimetype": "text/x-python",
   "name": "python",
   "nbconvert_exporter": "python",
   "pygments_lexer": "ipython3",
   "version": "3.13.2"
  }
 },
 "nbformat": 4,
 "nbformat_minor": 2
}
